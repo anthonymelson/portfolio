{
  "nbformat": 4,
  "nbformat_minor": 0,
  "metadata": {
    "colab": {
      "name": "N_Multi_Armed_Bandits_W_Thompson_Sampling.ipynb",
      "provenance": [],
      "collapsed_sections": [],
      "authorship_tag": "ABX9TyMCyWZyOhqabM2o45S3mwbk",
      "include_colab_link": true
    },
    "kernelspec": {
      "name": "python3",
      "display_name": "Python 3"
    }
  },
  "cells": [
    {
      "cell_type": "markdown",
      "metadata": {
        "id": "view-in-github",
        "colab_type": "text"
      },
      "source": [
        "<a href=\"https://colab.research.google.com/github/anthonymelson/portfolio/blob/master/N_Multi_Armed_Bandits_W_Thompson_Sampling.ipynb\" target=\"_parent\"><img src=\"https://colab.research.google.com/assets/colab-badge.svg\" alt=\"Open In Colab\"/></a>"
      ]
    },
    {
      "cell_type": "markdown",
      "metadata": {
        "id": "Tr7iDHNnqkN8",
        "colab_type": "text"
      },
      "source": [
        "# Thompson Sampling for Multi-Armed Bandit Problem\n",
        "This notebook contains a solution to an N-Bandit problem.  It is meant to be highly verbose and easy to follow for those who are trying to better understand Thompson Sampling."
      ]
    },
    {
      "cell_type": "markdown",
      "metadata": {
        "id": "TpEq6WvOsv1D",
        "colab_type": "text"
      },
      "source": [
        "## Import Packages"
      ]
    },
    {
      "cell_type": "code",
      "metadata": {
        "id": "Tk2vuKvxnKqQ",
        "colab_type": "code",
        "colab": {}
      },
      "source": [
        "import numpy as np\n",
        "import random\n",
        "import pandas as pd\n",
        "import matplotlib.pyplot as plt\n"
      ],
      "execution_count": 0,
      "outputs": []
    },
    {
      "cell_type": "markdown",
      "metadata": {
        "id": "VbWdRkFPnj0j",
        "colab_type": "text"
      },
      "source": [
        "# Initialize Matrices and Counters\n",
        "1. **N** =  Number of Machines (Bandits)\n",
        "2. **machine_probs**  = Probability of Each Machine Winning\n",
        "3. **rounds** = Total Plays\n",
        "4. **wins** = Tracks Wins for Each Machine\n",
        "5. **losses** = Tracks Losses for Each Machine\n",
        "6. **total_reward** = Tracks Overall Wins for All Rounds\n",
        "7. **machine_played** =  Tracks Total Plays for Each Machine\n",
        "\n",
        "The bandits probabilities are given by a random uniform selection that creates a different probability for each that lies between the low and high parameters.  The number of machines is modifiable by changing N.\n",
        "\n",
        "This example uses 12 bandits, and sets the range for their win probabilities between 0.3 and 0.8.  However, the code below will handel any number of bandits and can accept any range where: $0 < lower_bound < upper_bound < 1$"
      ]
    },
    {
      "cell_type": "code",
      "metadata": {
        "id": "ml_4w9mlnXoX",
        "colab_type": "code",
        "colab": {}
      },
      "source": [
        "N = 12 \n",
        "machine_probs = np.random.uniform(low=0.3, high=0.8, size=N).round(2) \n",
        "rounds = 500 \n",
        "wins = np.zeros(N) \n",
        "losses = np.zeros(N) \n",
        "total_reward = 0 \n",
        "machine_played = [] "
      ],
      "execution_count": 0,
      "outputs": []
    },
    {
      "cell_type": "markdown",
      "metadata": {
        "id": "qna4-rFEouD4",
        "colab_type": "text"
      },
      "source": [
        "## Thompson Sampling Algorithm\n",
        "1. Loops through number of rounds\n",
        "2. Iterates through machines in each round\n",
        "3. Samples from betavariate distribution (which changes based on rewards and becomes less random as the algorithm learns)\n",
        "4. Selects machine based on sampling and comparision of scores\n",
        "5. Plays machine given its actual probabilities\n",
        "6. Gets reward based on outcome\n",
        "7. Updates wins and losses (used to weight betavariate distribution in subsequent rounds) based on reward"
      ]
    },
    {
      "cell_type": "code",
      "metadata": {
        "id": "IAYbiq1EnbNc",
        "colab_type": "code",
        "colab": {}
      },
      "source": [
        "# Iterate Through Rounds\n",
        "for i in range(0, rounds):\n",
        "    probs = np.zeros(N) # Store Each Machine's Draw to be Played\n",
        "    \n",
        "    # Iterate Through Machines\n",
        "    for machine in range(0, N):\n",
        "        probs[machine] = random.betavariate(wins[machine] + 1, losses[machine] + 1) # Draw Based on Previous Results and Randomness\n",
        "\n",
        "    selected_machine = np.argmax(probs) # Machine With Best Draw\n",
        "    machine_played.append(selected_machine) # Collect Machine With Best Draw\n",
        "    \n",
        "    # Simulate Playing the Selected Machine, and Collect Reward\n",
        "    reward = np.random.choice([0,1],1, p = [1 - machine_probs[selected_machine], machine_probs[selected_machine]])\n",
        "    \n",
        "    # Count Wins, Losses, and Reward\n",
        "    if reward == 1:\n",
        "        wins[selected_machine] = wins[selected_machine] + 1\n",
        "    else:\n",
        "        losses[selected_machine] = losses[selected_machine] + 1\n",
        "    total_reward = total_reward + reward\n",
        "\n"
      ],
      "execution_count": 0,
      "outputs": []
    },
    {
      "cell_type": "markdown",
      "metadata": {
        "id": "j1xsQQvIp98K",
        "colab_type": "text"
      },
      "source": [
        "## Show Results in DataFrame"
      ]
    },
    {
      "cell_type": "code",
      "metadata": {
        "id": "yUaQOZVvndng",
        "colab_type": "code",
        "colab": {
          "base_uri": "https://localhost:8080/",
          "height": 489
        },
        "outputId": "c2835d75-ab1c-4a7a-80fe-aa53e8f9e976"
      },
      "source": [
        "# Create and Print DataFrame with Wins, Losses, and Probabilities of Machine\n",
        "df = pd.DataFrame(wins, columns=['Wins'])\n",
        "df['Losses'] = losses\n",
        "df['Actual Prob'] = machine_probs\n",
        "display(df)\n",
        "print()\n",
        "print(f\"Machine {np.argmax(wins)} Won the Most, with {int(wins[np.argmax(wins)])} wins\")\n",
        "print(f\"The Optimal Machine to Play was: {np.argmax(machine_probs)}\")\n",
        "print(f\"Total Reward: {total_reward[0]}\")\n",
        "\n"
      ],
      "execution_count": 19,
      "outputs": [
        {
          "output_type": "display_data",
          "data": {
            "text/html": [
              "<div>\n",
              "<style scoped>\n",
              "    .dataframe tbody tr th:only-of-type {\n",
              "        vertical-align: middle;\n",
              "    }\n",
              "\n",
              "    .dataframe tbody tr th {\n",
              "        vertical-align: top;\n",
              "    }\n",
              "\n",
              "    .dataframe thead th {\n",
              "        text-align: right;\n",
              "    }\n",
              "</style>\n",
              "<table border=\"1\" class=\"dataframe\">\n",
              "  <thead>\n",
              "    <tr style=\"text-align: right;\">\n",
              "      <th></th>\n",
              "      <th>Wins</th>\n",
              "      <th>Losses</th>\n",
              "      <th>Actual Prob</th>\n",
              "    </tr>\n",
              "  </thead>\n",
              "  <tbody>\n",
              "    <tr>\n",
              "      <th>0</th>\n",
              "      <td>8.0</td>\n",
              "      <td>10.0</td>\n",
              "      <td>0.36</td>\n",
              "    </tr>\n",
              "    <tr>\n",
              "      <th>1</th>\n",
              "      <td>3.0</td>\n",
              "      <td>7.0</td>\n",
              "      <td>0.42</td>\n",
              "    </tr>\n",
              "    <tr>\n",
              "      <th>2</th>\n",
              "      <td>0.0</td>\n",
              "      <td>4.0</td>\n",
              "      <td>0.33</td>\n",
              "    </tr>\n",
              "    <tr>\n",
              "      <th>3</th>\n",
              "      <td>21.0</td>\n",
              "      <td>11.0</td>\n",
              "      <td>0.63</td>\n",
              "    </tr>\n",
              "    <tr>\n",
              "      <th>4</th>\n",
              "      <td>4.0</td>\n",
              "      <td>6.0</td>\n",
              "      <td>0.58</td>\n",
              "    </tr>\n",
              "    <tr>\n",
              "      <th>5</th>\n",
              "      <td>0.0</td>\n",
              "      <td>3.0</td>\n",
              "      <td>0.35</td>\n",
              "    </tr>\n",
              "    <tr>\n",
              "      <th>6</th>\n",
              "      <td>8.0</td>\n",
              "      <td>8.0</td>\n",
              "      <td>0.46</td>\n",
              "    </tr>\n",
              "    <tr>\n",
              "      <th>7</th>\n",
              "      <td>80.0</td>\n",
              "      <td>36.0</td>\n",
              "      <td>0.65</td>\n",
              "    </tr>\n",
              "    <tr>\n",
              "      <th>8</th>\n",
              "      <td>14.0</td>\n",
              "      <td>10.0</td>\n",
              "      <td>0.76</td>\n",
              "    </tr>\n",
              "    <tr>\n",
              "      <th>9</th>\n",
              "      <td>168.0</td>\n",
              "      <td>64.0</td>\n",
              "      <td>0.70</td>\n",
              "    </tr>\n",
              "    <tr>\n",
              "      <th>10</th>\n",
              "      <td>2.0</td>\n",
              "      <td>4.0</td>\n",
              "      <td>0.38</td>\n",
              "    </tr>\n",
              "    <tr>\n",
              "      <th>11</th>\n",
              "      <td>16.0</td>\n",
              "      <td>13.0</td>\n",
              "      <td>0.58</td>\n",
              "    </tr>\n",
              "  </tbody>\n",
              "</table>\n",
              "</div>"
            ],
            "text/plain": [
              "     Wins  Losses  Actual Prob\n",
              "0     8.0    10.0         0.36\n",
              "1     3.0     7.0         0.42\n",
              "2     0.0     4.0         0.33\n",
              "3    21.0    11.0         0.63\n",
              "4     4.0     6.0         0.58\n",
              "5     0.0     3.0         0.35\n",
              "6     8.0     8.0         0.46\n",
              "7    80.0    36.0         0.65\n",
              "8    14.0    10.0         0.76\n",
              "9   168.0    64.0         0.70\n",
              "10    2.0     4.0         0.38\n",
              "11   16.0    13.0         0.58"
            ]
          },
          "metadata": {
            "tags": []
          }
        },
        {
          "output_type": "stream",
          "text": [
            "\n",
            "Machine 9 Won the Most, with 168 wins\n",
            "The Optimal Machine to Play was: 8\n",
            "Total Reward: 324\n"
          ],
          "name": "stdout"
        }
      ]
    },
    {
      "cell_type": "markdown",
      "metadata": {
        "id": "_pmlIq0DqDAk",
        "colab_type": "text"
      },
      "source": [
        "## Plot Results as Histogram"
      ]
    },
    {
      "cell_type": "code",
      "metadata": {
        "id": "i3zSlHTRnfZ7",
        "colab_type": "code",
        "colab": {
          "base_uri": "https://localhost:8080/",
          "height": 295
        },
        "outputId": "49fdd907-cce3-4098-b73a-d41c84d0fe86"
      },
      "source": [
        "# Plot Histogram of Total Plays For Each Machine\n",
        "plt.hist(machine_played)\n",
        "plt.title('Histogram of Machine Plays')\n",
        "plt.xlabel('Machines')\n",
        "plt.ylabel('Number of Times Selected')\n",
        "plt.show()"
      ],
      "execution_count": 20,
      "outputs": [
        {
          "output_type": "display_data",
          "data": {
            "image/png": "[encoded data removed]",
            "text/plain": [
              "<Figure size 432x288 with 1 Axes>"
            ]
          },
          "metadata": {
            "tags": []
          }
        }
      ]
    }
  ]
}