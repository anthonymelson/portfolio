{
  "nbformat": 4,
  "nbformat_minor": 0,
  "metadata": {
    "colab": {
      "name": "N_Multi_Armed_Bandits_W_Thompson_Sampling.ipynb",
      "provenance": [],
      "collapsed_sections": [],
      "authorship_tag": "ABX9TyMgy29KWS0cuSpggMLdzYvJ",
      "include_colab_link": true
    },
    "kernelspec": {
      "name": "python3",
      "display_name": "Python 3"
    }
  },
  "cells": [
    {
      "cell_type": "markdown",
      "metadata": {
        "id": "view-in-github",
        "colab_type": "text"
      },
      "source": [
        "<a href=\"https://colab.research.google.com/github/anthonymelson/portfolio/blob/master/N_Multi_Armed_Bandits_W_Thompson_Sampling.ipynb\" target=\"_parent\"><img src=\"https://colab.research.google.com/assets/colab-badge.svg\" alt=\"Open In Colab\"/></a>"
      ]
    },
    {
      "cell_type": "markdown",
      "metadata": {
        "id": "Tr7iDHNnqkN8",
        "colab_type": "text"
      },
      "source": [
        "# Thompson Sampling for Multi-Armed Bandit Problem\n",
        "This notebook contains a solution to an N-Bandit problem.  It is meant to be highly verbose and easy to follow for those who are trying to better understand Thompson Sampling.\n",
        "\n",
        "Muli-Armed Bandit Problems are classical problems in reinforcement learning, where the player is offered the option to gamble on N-many slot machines, but where the machines all have potentially different payouts (win probabilities in this example).\n",
        "\n",
        "The goal is for the player to maximize thier total reward, which requires them to \"explore\" the payouts by playing the machines while also \"exploiting\" what they have learned to maximize their reward.  Thompson Sampling is a suitable algorithm to balance this trade-off."
      ]
    },
    {
      "cell_type": "markdown",
      "metadata": {
        "id": "TpEq6WvOsv1D",
        "colab_type": "text"
      },
      "source": [
        "## Import Packages"
      ]
    },
    {
      "cell_type": "code",
      "metadata": {
        "id": "Tk2vuKvxnKqQ",
        "colab_type": "code",
        "colab": {}
      },
      "source": [
        "import numpy as np\n",
        "import random\n",
        "import pandas as pd\n",
        "import matplotlib.pyplot as plt\n"
      ],
      "execution_count": 0,
      "outputs": []
    },
    {
      "cell_type": "markdown",
      "metadata": {
        "id": "VbWdRkFPnj0j",
        "colab_type": "text"
      },
      "source": [
        "# Initialize Matrices and Counters\n",
        "1. **N** =  Number of Machines (Bandits)\n",
        "2. **machine_probs**  = Probability of Each Machine Winning\n",
        "3. **rounds** = Total Plays\n",
        "4. **wins** = Tracks Wins for Each Machine\n",
        "5. **losses** = Tracks Losses for Each Machine\n",
        "6. **total_reward** = Tracks Overall Wins for All Rounds\n",
        "7. **machine_played** =  Tracks Total Plays for Each Machine\n",
        "\n",
        "The bandits probabilities are given by a random uniform selection that creates a different probability for each that lies between the low and high parameters.  The number of machines is modifiable by changing N.\n",
        "\n",
        "This example uses 12 bandits, and sets the range for their win probabilities between 0.3 and 0.8.  However, the code below will handel any number of bandits and can accept any range where: $0 < lower_bound < upper_bound < 1$"
      ]
    },
    {
      "cell_type": "code",
      "metadata": {
        "id": "ml_4w9mlnXoX",
        "colab_type": "code",
        "colab": {}
      },
      "source": [
        "N = 12 \n",
        "machine_probs = np.random.uniform(low=0.3, high=0.8, size=N).round(2) \n",
        "rounds = 500 \n",
        "wins = np.zeros(N) \n",
        "losses = np.zeros(N) \n",
        "total_reward = 0 \n",
        "machine_played = [] "
      ],
      "execution_count": 0,
      "outputs": []
    },
    {
      "cell_type": "markdown",
      "metadata": {
        "id": "qna4-rFEouD4",
        "colab_type": "text"
      },
      "source": [
        "## Thompson Sampling Algorithm\n",
        "1. Loops through number of rounds\n",
        "2. Iterates through machines in each round\n",
        "3. Samples from betavariate distribution (which changes based on rewards and becomes less random as the algorithm learns)\n",
        "4. Selects machine based on sampling and comparision of scores\n",
        "5. Plays machine given its actual probabilities\n",
        "6. Gets reward based on outcome\n",
        "7. Updates wins and losses (used to weight betavariate distribution in subsequent rounds) based on reward"
      ]
    },
    {
      "cell_type": "code",
      "metadata": {
        "id": "IAYbiq1EnbNc",
        "colab_type": "code",
        "colab": {}
      },
      "source": [
        "# Iterate Through Rounds\n",
        "for i in range(0, rounds):\n",
        "    probs = np.zeros(N) # Store Each Machine's Draw to be Played\n",
        "    \n",
        "    # Iterate Through Machines\n",
        "    for machine in range(0, N):\n",
        "        probs[machine] = random.betavariate(wins[machine] + 1, losses[machine] + 1) # Draw Based on Previous Results and Randomness\n",
        "\n",
        "    selected_machine = np.argmax(probs) # Machine With Best Draw\n",
        "    machine_played.append(selected_machine) # Collect Machine With Best Draw\n",
        "    \n",
        "    # Simulate Playing the Selected Machine, and Collect Reward\n",
        "    reward = np.random.choice([0,1],1, p = [1 - machine_probs[selected_machine], machine_probs[selected_machine]])\n",
        "    \n",
        "    # Count Wins, Losses, and Reward\n",
        "    if reward == 1:\n",
        "        wins[selected_machine] = wins[selected_machine] + 1\n",
        "    else:\n",
        "        losses[selected_machine] = losses[selected_machine] + 1\n",
        "    total_reward = total_reward + reward\n",
        "\n"
      ],
      "execution_count": 0,
      "outputs": []
    },
    {
      "cell_type": "markdown",
      "metadata": {
        "id": "j1xsQQvIp98K",
        "colab_type": "text"
      },
      "source": [
        "## Show Results in DataFrame"
      ]
    },
    {
      "cell_type": "code",
      "metadata": {
        "id": "yUaQOZVvndng",
        "colab_type": "code",
        "colab": {
          "base_uri": "https://localhost:8080/",
          "height": 489
        },
        "outputId": "e20232db-a692-4c95-ef0b-eaed3fdb5adc"
      },
      "source": [
        "# Create and Print DataFrame with Wins, Losses, and Probabilities of Machine\n",
        "df = pd.DataFrame(wins, columns=['Wins'])\n",
        "df['Losses'] = losses\n",
        "df['Actual Prob'] = machine_probs\n",
        "display(df)\n",
        "print()\n",
        "print(f\"Machine {np.argmax(wins)} Won the Most, with {int(wins[np.argmax(wins)])} wins\")\n",
        "print(f\"The Optimal Machine to Play was: {np.argmax(machine_probs)}\")\n",
        "print(f\"Total Reward: {total_reward[0]}\")\n",
        "\n"
      ],
      "execution_count": 24,
      "outputs": [
        {
          "output_type": "display_data",
          "data": {
            "text/html": [
              "<div>\n",
              "<style scoped>\n",
              "    .dataframe tbody tr th:only-of-type {\n",
              "        vertical-align: middle;\n",
              "    }\n",
              "\n",
              "    .dataframe tbody tr th {\n",
              "        vertical-align: top;\n",
              "    }\n",
              "\n",
              "    .dataframe thead th {\n",
              "        text-align: right;\n",
              "    }\n",
              "</style>\n",
              "<table border=\"1\" class=\"dataframe\">\n",
              "  <thead>\n",
              "    <tr style=\"text-align: right;\">\n",
              "      <th></th>\n",
              "      <th>Wins</th>\n",
              "      <th>Losses</th>\n",
              "      <th>Actual Prob</th>\n",
              "    </tr>\n",
              "  </thead>\n",
              "  <tbody>\n",
              "    <tr>\n",
              "      <th>0</th>\n",
              "      <td>5.0</td>\n",
              "      <td>5.0</td>\n",
              "      <td>0.63</td>\n",
              "    </tr>\n",
              "    <tr>\n",
              "      <th>1</th>\n",
              "      <td>209.0</td>\n",
              "      <td>44.0</td>\n",
              "      <td>0.78</td>\n",
              "    </tr>\n",
              "    <tr>\n",
              "      <th>2</th>\n",
              "      <td>0.0</td>\n",
              "      <td>4.0</td>\n",
              "      <td>0.52</td>\n",
              "    </tr>\n",
              "    <tr>\n",
              "      <th>3</th>\n",
              "      <td>13.0</td>\n",
              "      <td>8.0</td>\n",
              "      <td>0.69</td>\n",
              "    </tr>\n",
              "    <tr>\n",
              "      <th>4</th>\n",
              "      <td>7.0</td>\n",
              "      <td>5.0</td>\n",
              "      <td>0.69</td>\n",
              "    </tr>\n",
              "    <tr>\n",
              "      <th>5</th>\n",
              "      <td>8.0</td>\n",
              "      <td>7.0</td>\n",
              "      <td>0.54</td>\n",
              "    </tr>\n",
              "    <tr>\n",
              "      <th>6</th>\n",
              "      <td>2.0</td>\n",
              "      <td>5.0</td>\n",
              "      <td>0.35</td>\n",
              "    </tr>\n",
              "    <tr>\n",
              "      <th>7</th>\n",
              "      <td>2.0</td>\n",
              "      <td>5.0</td>\n",
              "      <td>0.41</td>\n",
              "    </tr>\n",
              "    <tr>\n",
              "      <th>8</th>\n",
              "      <td>27.0</td>\n",
              "      <td>12.0</td>\n",
              "      <td>0.76</td>\n",
              "    </tr>\n",
              "    <tr>\n",
              "      <th>9</th>\n",
              "      <td>3.0</td>\n",
              "      <td>5.0</td>\n",
              "      <td>0.50</td>\n",
              "    </tr>\n",
              "    <tr>\n",
              "      <th>10</th>\n",
              "      <td>86.0</td>\n",
              "      <td>32.0</td>\n",
              "      <td>0.73</td>\n",
              "    </tr>\n",
              "    <tr>\n",
              "      <th>11</th>\n",
              "      <td>2.0</td>\n",
              "      <td>4.0</td>\n",
              "      <td>0.50</td>\n",
              "    </tr>\n",
              "  </tbody>\n",
              "</table>\n",
              "</div>"
            ],
            "text/plain": [
              "     Wins  Losses  Actual Prob\n",
              "0     5.0     5.0         0.63\n",
              "1   209.0    44.0         0.78\n",
              "2     0.0     4.0         0.52\n",
              "3    13.0     8.0         0.69\n",
              "4     7.0     5.0         0.69\n",
              "5     8.0     7.0         0.54\n",
              "6     2.0     5.0         0.35\n",
              "7     2.0     5.0         0.41\n",
              "8    27.0    12.0         0.76\n",
              "9     3.0     5.0         0.50\n",
              "10   86.0    32.0         0.73\n",
              "11    2.0     4.0         0.50"
            ]
          },
          "metadata": {
            "tags": []
          }
        },
        {
          "output_type": "stream",
          "text": [
            "\n",
            "Machine 1 Won the Most, with 209 wins\n",
            "The Optimal Machine to Play was: 1\n",
            "Total Reward: 364\n"
          ],
          "name": "stdout"
        }
      ]
    },
    {
      "cell_type": "markdown",
      "metadata": {
        "id": "_pmlIq0DqDAk",
        "colab_type": "text"
      },
      "source": [
        "## Plot Results as Histogram"
      ]
    },
    {
      "cell_type": "code",
      "metadata": {
        "id": "i3zSlHTRnfZ7",
        "colab_type": "code",
        "colab": {
          "base_uri": "https://localhost:8080/",
          "height": 295
        },
        "outputId": "3b112b01-e778-492b-902d-b0e8a232ead8"
      },
      "source": [
        "# Plot Histogram of Total Plays For Each Machine\n",
        "plt.hist(machine_played)\n",
        "plt.title('Histogram of Machine Plays')\n",
        "plt.xlabel('Machines')\n",
        "plt.ylabel('Number of Times Selected')\n",
        "plt.show()"
      ],
      "execution_count": 25,
      "outputs": [
        {
          "output_type": "display_data",
          "data": {
            "image/png": "[encoded data removed]",
            "text/plain": [
              "<Figure size 432x288 with 1 Axes>"
            ]
          },
          "metadata": {
            "tags": []
          }
        }
      ]
    }
  ]
}