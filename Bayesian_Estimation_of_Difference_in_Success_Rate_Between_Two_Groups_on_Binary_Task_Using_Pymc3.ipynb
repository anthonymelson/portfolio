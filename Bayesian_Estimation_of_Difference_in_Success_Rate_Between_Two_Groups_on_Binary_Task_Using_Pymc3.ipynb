{
  "nbformat": 4,
  "nbformat_minor": 0,
  "metadata": {
    "colab": {
      "name": "Bayesian Estimation of Difference in Success Rate Between Two Groups on Binary Task Using Pymc3.ipynb",
      "provenance": [],
      "collapsed_sections": [],
      "toc_visible": true,
      "authorship_tag": "ABX9TyPwl1H39QBwhiQHmR52FWWp",
      "include_colab_link": true
    },
    "kernelspec": {
      "name": "python3",
      "display_name": "Python 3"
    },
    "language_info": {
      "name": "python"
    }
  },
  "cells": [
    {
      "cell_type": "markdown",
      "metadata": {
        "id": "view-in-github",
        "colab_type": "text"
      },
      "source": [
        "<a href=\"https://colab.research.google.com/github/anthonymelson/portfolio/blob/master/Bayesian_Estimation_of_Difference_in_Success_Rate_Between_Two_Groups_on_Binary_Task_Using_Pymc3.ipynb\" target=\"_parent\"><img src=\"https://colab.research.google.com/assets/colab-badge.svg\" alt=\"Open In Colab\"/></a>"
      ]
    },
    {
      "cell_type": "markdown",
      "metadata": {
        "id": "ZLdeFrsoLdnp"
      },
      "source": [
        "# Bayesian Estimation of Difference in Success Rate Between Two Groups on Binary Task Using Pymc3\n",
        "\n",
        "This notebook is meant to be a gentle intro to Bayesian Estimation.  The goal is *not* to claim that Bayesian Estimation is superior to frequentist hypothesis testing, but rather to highlight some of its appealing characteristics and show how it can be implemented in Pymc3.\n",
        "\n"
      ]
    },
    {
      "cell_type": "markdown",
      "metadata": {
        "id": "31ir3x1nWc6o"
      },
      "source": [
        "### Motivation\n",
        "\n",
        "Bayesian Estimation is used in many areas of science and industry.  When contrasted with frequentist approaches to estimating group differences (i.e. null hypothesis testing), benefits *can* include: \n",
        "* clearer output (distribution of probabilities, instead of p-vals and confidence intervals)\n",
        "* increased flexibility (small N, uneven groups, unequal var...)\n",
        "* encoding/utilization of prior understanding (domain expertise, previous research...) into the prior (conjugate) distributions.\n",
        "\n",
        "This list is by no means comprehensive, but should provide those unfamiliar to Bayesian Estimation a sense of why it is worthy of investigation and usage in addition to null hypothesis testing."
      ]
    },
    {
      "cell_type": "markdown",
      "metadata": {
        "id": "EJhhzN1GPjUf"
      },
      "source": [
        "## Problem Discussion and Model Specification"
      ]
    },
    {
      "cell_type": "markdown",
      "metadata": {
        "id": "Qh858AK5cZx4"
      },
      "source": [
        "### Problem Discussion\n",
        "\n",
        "*Problem*: A scientist is about to observe two groups (a and b) repeatedly flipping two *potentially* differently wieghted coins (a and b) a *potentially* unequal number of times.  The scientist must decide: 1) whether the coins are fairly matched, and if they are not 2) estimate the difference in thier likelihood of suceeding (landing heads).\n"
      ]
    },
    {
      "cell_type": "markdown",
      "metadata": {
        "id": "eovqxGPEcfzz"
      },
      "source": [
        "### Model Specification"
      ]
    },
    {
      "cell_type": "markdown",
      "metadata": {
        "id": "nvEdmcQOKTPr"
      },
      "source": [
        "In the following, a model will be specified as two Bernoulli Random Variables (one for each arm of the experiment) with TruncatedNormal Distributions as priors for their probability parameter (p).  Next, the posterior distributions (probability of probabilities of success) for each arm will be inferred using MCMC, and the difference between the two resultant distributions will be taken to get Delta_P (probability of a range differences in probability of success between the two groups).\n",
        "\n",
        "It should be noted that TruncatedNormal Distributions were chosen as priors instead of the Beta Distribution (which is the conjugate prior for Bernoulli Distribution) because they better represented the prior beliefs of the author.  The author reasoned that even loaded coins are not likely to be too far from center since thier general shape (and the physics that govern that shape) would not allow for extreme bias.  Additional wieght was given to the idea that coins that are too loaded or have the same symbol on each side wouldn't serve the function of deception that thier designers presumably intend them to serve.  Both prior beliefs were easier to encode into the std parameter of a TruncatedNormal Distribution than any of the parameters in the Beta Distribution."
      ]
    },
    {
      "cell_type": "markdown",
      "metadata": {
        "id": "eM8_3O3Yc0XW"
      },
      "source": [
        "## Solution"
      ]
    },
    {
      "cell_type": "markdown",
      "metadata": {
        "id": "ibGYoNt6kBDh"
      },
      "source": [
        "### Import Packages"
      ]
    },
    {
      "cell_type": "code",
      "metadata": {
        "id": "NdB896DTPFXa"
      },
      "source": [
        "import arviz as az\n",
        "import pymc3 as pm\n",
        "import numpy as np\n",
        "import matplotlib.pyplot as plt\n",
        "import seaborn as sns"
      ],
      "execution_count": 9,
      "outputs": []
    },
    {
      "cell_type": "markdown",
      "metadata": {
        "id": "hx614M48kibO"
      },
      "source": [
        "### Create Data\n",
        "\n"
      ]
    },
    {
      "cell_type": "code",
      "metadata": {
        "colab": {
          "base_uri": "https://localhost:8080/"
        },
        "id": "09W2GlWEJC4R",
        "outputId": "67c8c4ca-0ef5-45a1-90cb-f404a647b8b3"
      },
      "source": [
        "a_s, b_s = 0.6, 0.5\n",
        "\n",
        "a = np.random.choice(a=[1,0],size=50,p=[a_s,1-a_s])\n",
        "b = np.random.choice(a=[1,0],size=40,p=[b_s,1-b_s])\n",
        "\n",
        "print('Observed Means: A:', a.mean(),' B: ', b.mean(), 'Delta: ', abs(b.mean()-a.mean()))\n",
        "print('True Means: A:', a_s,' B: ', b_s, 'Delta: ', abs(b_s - a_s))"
      ],
      "execution_count": 10,
      "outputs": [
        {
          "output_type": "stream",
          "text": [
            "Observed Means: A: 0.68  B:  0.525 Delta:  0.15500000000000003\n",
            "True Means: A: 0.6  B:  0.5 Delta:  0.09999999999999998\n"
          ],
          "name": "stdout"
        }
      ]
    },
    {
      "cell_type": "markdown",
      "metadata": {
        "id": "IUWhJc8w2EWn"
      },
      "source": [
        "### Model Initialization and Considerations\n",
        "\n",
        "The TruncatedNormal distribution is being used for several reasons.  \n",
        "\n",
        "First, it will cover the entire probability space (0-1), without going outside of it.  Since the Normal distribution is unbounded, it continues indefinately approaching 0 as it approaches infinity, unless it is bounded specifically (truncation).  \n",
        "\n",
        "Second they allow for mu = 0.5, which is a good assumption when prior knowlegde about *specific coins*  is unavailable.  In that case, it is easy to encode the fact that almost all coins in the world have mu = ~ 0.5.  \n",
        "\n",
        "Third, and **most importantly**, their shape naturally encodes the increased likelihood of a loaded coin being closer to the center of the probability space (0.5) than to the edge of the probability space, near 1 or 0.  \n",
        "\n",
        "To capture the authors previously stated priors, the mean of the prior TruncatedNormal distributions will be set to zero and the standard deviation will be set to 0.15, meaning the edges of the proability space (0,1) are several standard deviations out from the mean.  Though it is possible for a coin-shaped object to be loaded enough to be improbable in the selected distribution, the authors think the likelihood is negligable. "
      ]
    },
    {
      "cell_type": "code",
      "metadata": {
        "colab": {
          "base_uri": "https://localhost:8080/",
          "height": 142
        },
        "id": "Iiuv2XCta7V7",
        "outputId": "f5b4d487-0175-4ae8-e109-96cbd0fd6d47"
      },
      "source": [
        "# convert input data to numpy arrays\n",
        "a = np.asarray(a)\n",
        "b = np.asarray(b)\n",
        "with pm.Model() as model:\n",
        "\n",
        "  # Create priors for bernoulli distributions\n",
        "  mu_a, mu_b, sigma_a, sigma_b = 0.5, 0.5, 0.15, 0.15\n",
        "\n",
        "  p_a = pm.TruncatedNormal('p_a', mu=mu_a, sigma=sigma_a, lower=0, upper=1)\n",
        "  p_b = pm.TruncatedNormal('p_b', mu=mu_b, sigma=sigma_b, lower=0, upper=1)\n",
        "\n",
        "  # Bernoulli random variables with priors AND observed data for both groups\n",
        "  a_obs = pm.Bernoulli('a_obs', p=p_a, observed=a)\n",
        "  b_obs = pm.Bernoulli('b_obs', p=p_b, observed=b)\n",
        "\n",
        "  # Take difference between posteriors to get Delta_p\n",
        "  delta = pm.Deterministic('delta', p_a - p_b)\n",
        "\n",
        "  # Sample from the previously defined model\n",
        "  trace = pm.sample(1000, return_inferencedata=True)\n",
        "\n",
        "  # Use sample to estimate posterior distributions for both experimental arms\n",
        "  a_posterior = trace.posterior['p_a'].values\n",
        "  b_posterior = trace.posterior['p_b'].values\n",
        "\n",
        "  delta_posterior = trace.posterior['delta'].values\n",
        "\n",
        "  # Find probability that the success probability is higher in arm a than b\n",
        "  prob_a_over_b = (a_posterior[0] > b_posterior[0]).mean()\n"
      ],
      "execution_count": 21,
      "outputs": [
        {
          "output_type": "stream",
          "text": [
            "Auto-assigning NUTS sampler...\n",
            "Initializing NUTS using jitter+adapt_diag...\n",
            "Sequential sampling (2 chains in 1 job)\n",
            "NUTS: [p_b, p_a]\n"
          ],
          "name": "stderr"
        },
        {
          "output_type": "display_data",
          "data": {
            "text/html": [
              "\n",
              "    <div>\n",
              "        <style>\n",
              "            /* Turns off some styling */\n",
              "            progress {\n",
              "                /* gets rid of default border in Firefox and Opera. */\n",
              "                border: none;\n",
              "                /* Needs to be in here for Safari polyfill so background images work as expected. */\n",
              "                background-size: auto;\n",
              "            }\n",
              "            .progress-bar-interrupted, .progress-bar-interrupted::-webkit-progress-bar {\n",
              "                background: #F44336;\n",
              "            }\n",
              "        </style>\n",
              "      <progress value='2000' class='' max='2000' style='width:300px; height:20px; vertical-align: middle;'></progress>\n",
              "      100.00% [2000/2000 00:01<00:00 Sampling chain 0, 0 divergences]\n",
              "    </div>\n",
              "    "
            ],
            "text/plain": [
              "<IPython.core.display.HTML object>"
            ]
          },
          "metadata": {
            "tags": []
          }
        },
        {
          "output_type": "display_data",
          "data": {
            "text/html": [
              "\n",
              "    <div>\n",
              "        <style>\n",
              "            /* Turns off some styling */\n",
              "            progress {\n",
              "                /* gets rid of default border in Firefox and Opera. */\n",
              "                border: none;\n",
              "                /* Needs to be in here for Safari polyfill so background images work as expected. */\n",
              "                background-size: auto;\n",
              "            }\n",
              "            .progress-bar-interrupted, .progress-bar-interrupted::-webkit-progress-bar {\n",
              "                background: #F44336;\n",
              "            }\n",
              "        </style>\n",
              "      <progress value='2000' class='' max='2000' style='width:300px; height:20px; vertical-align: middle;'></progress>\n",
              "      100.00% [2000/2000 00:01<00:00 Sampling chain 1, 0 divergences]\n",
              "    </div>\n",
              "    "
            ],
            "text/plain": [
              "<IPython.core.display.HTML object>"
            ]
          },
          "metadata": {
            "tags": []
          }
        },
        {
          "output_type": "stream",
          "text": [
            "Sampling 2 chains for 1_000 tune and 1_000 draw iterations (2_000 + 2_000 draws total) took 3 seconds.\n"
          ],
          "name": "stderr"
        }
      ]
    },
    {
      "cell_type": "markdown",
      "metadata": {
        "id": "j3zHK7u4XeJ8"
      },
      "source": [
        "## Results Summary and Visualization"
      ]
    },
    {
      "cell_type": "markdown",
      "metadata": {
        "id": "OLkQJb40XlJT"
      },
      "source": [
        "### Summary of Model Variables & Probability of Difference\n",
        "\n",
        "Below the mean, standard deviation, and credible intervals of the normal posteriors (for the parameters p in the two Bernoulli Distributions) are shown along with thier deltas (focus of the test).\n",
        "\n",
        "Next, the probability of a difference in success probabilities is shown for the cases where a > b and b > a."
      ]
    },
    {
      "cell_type": "code",
      "metadata": {
        "colab": {
          "base_uri": "https://localhost:8080/",
          "height": 142
        },
        "id": "zrZIQCrUWD4f",
        "outputId": "4a574320-feda-4fba-eb3f-9716525bbeb6"
      },
      "source": [
        "az.summary(trace, kind='stats')"
      ],
      "execution_count": 22,
      "outputs": [
        {
          "output_type": "execute_result",
          "data": {
            "text/html": [
              "<div>\n",
              "<style scoped>\n",
              "    .dataframe tbody tr th:only-of-type {\n",
              "        vertical-align: middle;\n",
              "    }\n",
              "\n",
              "    .dataframe tbody tr th {\n",
              "        vertical-align: top;\n",
              "    }\n",
              "\n",
              "    .dataframe thead th {\n",
              "        text-align: right;\n",
              "    }\n",
              "</style>\n",
              "<table border=\"1\" class=\"dataframe\">\n",
              "  <thead>\n",
              "    <tr style=\"text-align: right;\">\n",
              "      <th></th>\n",
              "      <th>mean</th>\n",
              "      <th>sd</th>\n",
              "      <th>hdi_3%</th>\n",
              "      <th>hdi_97%</th>\n",
              "    </tr>\n",
              "  </thead>\n",
              "  <tbody>\n",
              "    <tr>\n",
              "      <th>p_a</th>\n",
              "      <td>0.646</td>\n",
              "      <td>0.061</td>\n",
              "      <td>0.536</td>\n",
              "      <td>0.766</td>\n",
              "    </tr>\n",
              "    <tr>\n",
              "      <th>p_b</th>\n",
              "      <td>0.519</td>\n",
              "      <td>0.068</td>\n",
              "      <td>0.400</td>\n",
              "      <td>0.646</td>\n",
              "    </tr>\n",
              "    <tr>\n",
              "      <th>delta</th>\n",
              "      <td>0.127</td>\n",
              "      <td>0.090</td>\n",
              "      <td>-0.041</td>\n",
              "      <td>0.291</td>\n",
              "    </tr>\n",
              "  </tbody>\n",
              "</table>\n",
              "</div>"
            ],
            "text/plain": [
              "        mean     sd  hdi_3%  hdi_97%\n",
              "p_a    0.646  0.061   0.536    0.766\n",
              "p_b    0.519  0.068   0.400    0.646\n",
              "delta  0.127  0.090  -0.041    0.291"
            ]
          },
          "metadata": {
            "tags": []
          },
          "execution_count": 22
        }
      ]
    },
    {
      "cell_type": "code",
      "metadata": {
        "colab": {
          "base_uri": "https://localhost:8080/"
        },
        "id": "RWvHDL3d7WjV",
        "outputId": "551aa208-8332-4122-c7ad-0e268c18527f"
      },
      "source": [
        "print('Observed Means: A:', a.mean(),' B: ', b.mean(), 'Delta: ', abs(b.mean()-a.mean()))\n",
        "print('True Means: A:', a_s,' B: ', b_s, 'Delta: ', abs(b_s - a_s))"
      ],
      "execution_count": 23,
      "outputs": [
        {
          "output_type": "stream",
          "text": [
            "Observed Means: A: 0.68  B:  0.525 Delta:  0.15500000000000003\n",
            "True Means: A: 0.6  B:  0.5 Delta:  0.09999999999999998\n"
          ],
          "name": "stdout"
        }
      ]
    },
    {
      "cell_type": "code",
      "metadata": {
        "colab": {
          "base_uri": "https://localhost:8080/"
        },
        "id": "x3buIhBZdmtT",
        "outputId": "09f3cc8d-6675-4e27-a4c1-c5a44f28049b"
      },
      "source": [
        "print('P(P_success(a) > P_success(b)): ', prob_a_over_b)\n",
        "print('P(P_success(b) > P_success(a)): ', 1 - prob_a_over_b)"
      ],
      "execution_count": 24,
      "outputs": [
        {
          "output_type": "stream",
          "text": [
            "P(P_success(a) > P_success(b)):  0.914\n",
            "P(P_success(b) > P_success(a)):  0.08599999999999997\n"
          ],
          "name": "stdout"
        }
      ]
    },
    {
      "cell_type": "markdown",
      "metadata": {
        "id": "2z3YuTJwYKE6"
      },
      "source": [
        "### View Posterior Distributions"
      ]
    },
    {
      "cell_type": "code",
      "metadata": {
        "colab": {
          "base_uri": "https://localhost:8080/",
          "height": 229
        },
        "id": "HRaIx9Zs4l21",
        "outputId": "707a81bf-bf32-4b81-e733-57f43e848acf"
      },
      "source": [
        "az.plot_posterior(trace, ['delta', 'p_a', 'p_b'])\n",
        "plt.show()"
      ],
      "execution_count": 25,
      "outputs": [
        {
          "output_type": "display_data",
          "data": {
            "image/png": "[encoded data removed]",
            "text/plain": [
              "<Figure size 1490.4x331.2 with 3 Axes>"
            ]
          },
          "metadata": {
            "tags": [],
            "needs_background": "light"
          }
        }
      ]
    },
    {
      "cell_type": "markdown",
      "metadata": {
        "id": "BzWiV6KgZVMt"
      },
      "source": [
        "### A Second View of Posteriors\n",
        "\n",
        "These visualizations better reveal the overlap and difference between the two posteriors.  Additionally, plotting the two together gives a clearer read of thier comparative variability, which is interpretable as certainty/reliability."
      ]
    },
    {
      "cell_type": "code",
      "metadata": {
        "colab": {
          "base_uri": "https://localhost:8080/",
          "height": 513
        },
        "id": "2jB5d5MmoTaO",
        "outputId": "2f4f7f69-ca6b-4a08-8129-39082e89c702"
      },
      "source": [
        "kde = sns.kdeplot(data=[a_posterior[0],b_posterior[0]], fill=True)\n",
        "kde.legend(labels=['b_posterior','a_posterior'])\n",
        "plt.show()\n",
        "delta_kde = sns.kdeplot(data=delta_posterior[0], fill=True)\n",
        "delta_kde.legend(labels=['delta_posterior'])\n",
        "#delta_kde.vlines([delta_post.mean()], ymin=0,ymax=10)\n",
        "plt.show()"
      ],
      "execution_count": 26,
      "outputs": [
        {
          "output_type": "display_data",
          "data": {
            "image/png": "[encoded data removed]",
            "text/plain": [
              "<Figure size 432x288 with 1 Axes>"
            ]
          },
          "metadata": {
            "tags": [],
            "needs_background": "light"
          }
        },
        {
          "output_type": "display_data",
          "data": {
            "image/png": "[encoded data removed]",
            "text/plain": [
              "<Figure size 432x288 with 1 Axes>"
            ]
          },
          "metadata": {
            "tags": [],
            "needs_background": "light"
          }
        }
      ]
    },
    {
      "cell_type": "markdown",
      "metadata": {
        "id": "j9IaPNjm8EK7"
      },
      "source": [
        "## Conclusion\n",
        "\n",
        "The fitted model determined that there is a >91% probability that Group A has a higher success rate than Group B, which is a correct directional read given thier true wieghts (0.6 and 0.5 respectively).  In addition to the directional read, the predicted delta was ~ 0.127, which is closer to that of the data generating process (0.1) than the observed data (~ 0.155).  \n",
        "\n",
        "Additionally, it is worth noting that the posterior distributions had more accurate estimates of the underlining data generation process than the observed quantities (both of which were high)."
      ]
    },
    {
      "cell_type": "code",
      "metadata": {
        "id": "2jAJybYOQmOw"
      },
      "source": [
        ""
      ],
      "execution_count": null,
      "outputs": []
    }
  ]
}