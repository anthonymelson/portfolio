{
  "nbformat": 4,
  "nbformat_minor": 0,
  "metadata": {
    "colab": {
      "name": "Balto_Data_Science_Project.ipynb",
      "provenance": [],
      "collapsed_sections": [],
      "include_colab_link": true
    },
    "kernelspec": {
      "name": "python3",
      "display_name": "Python 3"
    }
  },
  "cells": [
    {
      "cell_type": "markdown",
      "metadata": {
        "id": "view-in-github",
        "colab_type": "text"
      },
      "source": [
        "<a href=\"https://colab.research.google.com/github/anthonymelson/portfolio/blob/master/Balto_Data_Science_Project.ipynb\" target=\"_parent\"><img src=\"https://colab.research.google.com/assets/colab-badge.svg\" alt=\"Open In Colab\"/></a>"
      ]
    },
    {
      "cell_type": "code",
      "metadata": {
        "id": "zFk6JAOG5Py6",
        "colab_type": "code",
        "colab": {
          "resources": {
            "http://localhost:8080/nbextensions/google.colab/files.js": {
              "data": "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",
              "ok": true,
              "headers": [
                [
                  "content-type",
                  "application/javascript"
                ]
              ],
              "status": 200,
              "status_text": ""
            }
          },
          "base_uri": "https://localhost:8080/",
          "height": 72
        },
        "outputId": "2b0cfa97-629a-4fa7-952d-c810645ee59b"
      },
      "source": [
        "from google.colab import files\n",
        "data_to_load = files.upload()"
      ],
      "execution_count": null,
      "outputs": [
        {
          "output_type": "display_data",
          "data": {
            "text/html": [
              "\n",
              "     <input type=\"file\" id=\"files-3507ad5f-71cb-4992-a33b-76f8b6d0cfa0\" name=\"files[]\" multiple disabled\n",
              "        style=\"border:none\" />\n",
              "     <output id=\"result-3507ad5f-71cb-4992-a33b-76f8b6d0cfa0\">\n",
              "      Upload widget is only available when the cell has been executed in the\n",
              "      current browser session. Please rerun this cell to enable.\n",
              "      </output>\n",
              "      <script src=\"/nbextensions/google.colab/files.js\"></script> "
            ],
            "text/plain": [
              "<IPython.core.display.HTML object>"
            ]
          },
          "metadata": {
            "tags": []
          }
        },
        {
          "output_type": "stream",
          "text": [
            "Saving data_scientist_take_home_assignment_final_modified.csv to data_scientist_take_home_assignment_final_modified.csv\n"
          ],
          "name": "stdout"
        }
      ]
    },
    {
      "cell_type": "code",
      "metadata": {
        "id": "5bQux4So5Uby",
        "colab_type": "code",
        "colab": {}
      },
      "source": [
        "import io\n",
        "import pandas as pd\n",
        "df = pd.read_csv(io.BytesIO(data_to_load['data_scientist_take_home_assignment_final_modified.csv']))"
      ],
      "execution_count": null,
      "outputs": []
    },
    {
      "cell_type": "markdown",
      "metadata": {
        "id": "NDuN5W6u9OKF",
        "colab_type": "text"
      },
      "source": [
        "## Data Cleaning and Exploratory Analysis"
      ]
    },
    {
      "cell_type": "markdown",
      "metadata": {
        "id": "gXuv-iLd6Dze",
        "colab_type": "text"
      },
      "source": [
        "Look at head of data to get better idea of what it is and what to expect."
      ]
    },
    {
      "cell_type": "code",
      "metadata": {
        "id": "cFrJtZcj6J3K",
        "colab_type": "code",
        "colab": {
          "base_uri": "https://localhost:8080/",
          "height": 496
        },
        "outputId": "095afec0-3060-4391-af7e-b2281e8ece4e"
      },
      "source": [
        "df.head()"
      ],
      "execution_count": null,
      "outputs": [
        {
          "output_type": "execute_result",
          "data": {
            "text/html": [
              "<div>\n",
              "<style scoped>\n",
              "    .dataframe tbody tr th:only-of-type {\n",
              "        vertical-align: middle;\n",
              "    }\n",
              "\n",
              "    .dataframe tbody tr th {\n",
              "        vertical-align: top;\n",
              "    }\n",
              "\n",
              "    .dataframe thead th {\n",
              "        text-align: right;\n",
              "    }\n",
              "</style>\n",
              "<table border=\"1\" class=\"dataframe\">\n",
              "  <thead>\n",
              "    <tr style=\"text-align: right;\">\n",
              "      <th></th>\n",
              "      <th>Rep ID</th>\n",
              "      <th>Start Time</th>\n",
              "      <th>End Time</th>\n",
              "      <th>Difference</th>\n",
              "      <th>Checklist - Why are you interested in one of our insurance policies today?</th>\n",
              "      <th>Checklist - What sparked your interest in insurance at this time?</th>\n",
              "      <th>Checklist - Has anything changed in your living situation since your last policy got started?</th>\n",
              "      <th>Checklist - What's most important to you in an insurance company?</th>\n",
              "      <th>Checklist - Why didn't you move forward with the last quote you received?</th>\n",
              "      <th>Checklist - What would you like to change about your current insurance coverage?</th>\n",
              "      <th>Checklist - What do you find most important: price, coverarge, or something else?</th>\n",
              "      <th>Checklist - What do you most dislike about your current insurance?</th>\n",
              "      <th>Checklist - Have you worked with other insurance companies before--what was that like?</th>\n",
              "      <th>Checklist - Please confirm for me that you want to apply for an insurance policy today with us.</th>\n",
              "      <th>Postcall - communication skills - active listening</th>\n",
              "      <th>Postcall - communication skills - agent expressed appreciation</th>\n",
              "      <th>Postcall - communication skills - agent proactivity</th>\n",
              "      <th>Postcall - communication skills - customer compliment</th>\n",
              "      <th>Postcall - communication skills - customer expressed appreciation</th>\n",
              "      <th>Postcall - communication skills - empathy</th>\n",
              "      <th>Postcall - communication skills - justification</th>\n",
              "      <th>Postcall - communication skills - urgency</th>\n",
              "      <th>QuoteCount</th>\n",
              "      <th>SoldCount</th>\n",
              "      <th>Comp_Rate</th>\n",
              "    </tr>\n",
              "  </thead>\n",
              "  <tbody>\n",
              "    <tr>\n",
              "      <th>0</th>\n",
              "      <td>662</td>\n",
              "      <td>4:29:00 PM</td>\n",
              "      <td>4:41:00 PM</td>\n",
              "      <td>12.0</td>\n",
              "      <td>0</td>\n",
              "      <td>1</td>\n",
              "      <td>0</td>\n",
              "      <td>1</td>\n",
              "      <td>1</td>\n",
              "      <td>0</td>\n",
              "      <td>0</td>\n",
              "      <td>0</td>\n",
              "      <td>0</td>\n",
              "      <td>0</td>\n",
              "      <td>1</td>\n",
              "      <td>0</td>\n",
              "      <td>2</td>\n",
              "      <td>0</td>\n",
              "      <td>1</td>\n",
              "      <td>0</td>\n",
              "      <td>6</td>\n",
              "      <td>1</td>\n",
              "      <td>1</td>\n",
              "      <td>0</td>\n",
              "      <td>0.3</td>\n",
              "    </tr>\n",
              "    <tr>\n",
              "      <th>1</th>\n",
              "      <td>387</td>\n",
              "      <td>4:32:00 PM</td>\n",
              "      <td>4:56:00 PM</td>\n",
              "      <td>24.0</td>\n",
              "      <td>0</td>\n",
              "      <td>1</td>\n",
              "      <td>0</td>\n",
              "      <td>0</td>\n",
              "      <td>0</td>\n",
              "      <td>0</td>\n",
              "      <td>1</td>\n",
              "      <td>0</td>\n",
              "      <td>0</td>\n",
              "      <td>1</td>\n",
              "      <td>1</td>\n",
              "      <td>21</td>\n",
              "      <td>10</td>\n",
              "      <td>0</td>\n",
              "      <td>1</td>\n",
              "      <td>1</td>\n",
              "      <td>11</td>\n",
              "      <td>2</td>\n",
              "      <td>0</td>\n",
              "      <td>0</td>\n",
              "      <td>0.2</td>\n",
              "    </tr>\n",
              "    <tr>\n",
              "      <th>2</th>\n",
              "      <td>662</td>\n",
              "      <td>5:02:00 PM</td>\n",
              "      <td>5:19:00 PM</td>\n",
              "      <td>17.0</td>\n",
              "      <td>0</td>\n",
              "      <td>1</td>\n",
              "      <td>0</td>\n",
              "      <td>0</td>\n",
              "      <td>0</td>\n",
              "      <td>0</td>\n",
              "      <td>0</td>\n",
              "      <td>0</td>\n",
              "      <td>0</td>\n",
              "      <td>0</td>\n",
              "      <td>0</td>\n",
              "      <td>0</td>\n",
              "      <td>4</td>\n",
              "      <td>0</td>\n",
              "      <td>2</td>\n",
              "      <td>0</td>\n",
              "      <td>1</td>\n",
              "      <td>0</td>\n",
              "      <td>1</td>\n",
              "      <td>0</td>\n",
              "      <td>0.1</td>\n",
              "    </tr>\n",
              "    <tr>\n",
              "      <th>3</th>\n",
              "      <td>662</td>\n",
              "      <td>6:13:00 PM</td>\n",
              "      <td>6:39:00 PM</td>\n",
              "      <td>26.0</td>\n",
              "      <td>0</td>\n",
              "      <td>1</td>\n",
              "      <td>0</td>\n",
              "      <td>0</td>\n",
              "      <td>0</td>\n",
              "      <td>0</td>\n",
              "      <td>0</td>\n",
              "      <td>0</td>\n",
              "      <td>0</td>\n",
              "      <td>0</td>\n",
              "      <td>0</td>\n",
              "      <td>1</td>\n",
              "      <td>1</td>\n",
              "      <td>0</td>\n",
              "      <td>7</td>\n",
              "      <td>1</td>\n",
              "      <td>1</td>\n",
              "      <td>0</td>\n",
              "      <td>1</td>\n",
              "      <td>0</td>\n",
              "      <td>0.1</td>\n",
              "    </tr>\n",
              "    <tr>\n",
              "      <th>4</th>\n",
              "      <td>387</td>\n",
              "      <td>6:45:00 PM</td>\n",
              "      <td>6:48:00 PM</td>\n",
              "      <td>3.0</td>\n",
              "      <td>0</td>\n",
              "      <td>0</td>\n",
              "      <td>0</td>\n",
              "      <td>0</td>\n",
              "      <td>0</td>\n",
              "      <td>0</td>\n",
              "      <td>0</td>\n",
              "      <td>0</td>\n",
              "      <td>0</td>\n",
              "      <td>0</td>\n",
              "      <td>0</td>\n",
              "      <td>6</td>\n",
              "      <td>0</td>\n",
              "      <td>0</td>\n",
              "      <td>0</td>\n",
              "      <td>0</td>\n",
              "      <td>0</td>\n",
              "      <td>0</td>\n",
              "      <td>0</td>\n",
              "      <td>0</td>\n",
              "      <td>0.0</td>\n",
              "    </tr>\n",
              "  </tbody>\n",
              "</table>\n",
              "</div>"
            ],
            "text/plain": [
              "   Rep ID  Start Time    End Time  ...  QuoteCount  SoldCount  Comp_Rate\n",
              "0     662  4:29:00 PM  4:41:00 PM  ...           1          0        0.3\n",
              "1     387  4:32:00 PM  4:56:00 PM  ...           0          0        0.2\n",
              "2     662  5:02:00 PM  5:19:00 PM  ...           1          0        0.1\n",
              "3     662  6:13:00 PM  6:39:00 PM  ...           1          0        0.1\n",
              "4     387  6:45:00 PM  6:48:00 PM  ...           0          0        0.0\n",
              "\n",
              "[5 rows x 25 columns]"
            ]
          },
          "metadata": {
            "tags": []
          },
          "execution_count": 3
        }
      ]
    },
    {
      "cell_type": "markdown",
      "metadata": {
        "id": "ddfQ7sAU51zo",
        "colab_type": "text"
      },
      "source": [
        "Check for missing values."
      ]
    },
    {
      "cell_type": "code",
      "metadata": {
        "id": "oY3m_i6Z50s1",
        "colab_type": "code",
        "colab": {
          "base_uri": "https://localhost:8080/",
          "height": 459
        },
        "outputId": "5a0b34f0-5843-4e29-dccf-8de3d89a841b"
      },
      "source": [
        "df.isna().sum()"
      ],
      "execution_count": null,
      "outputs": [
        {
          "output_type": "execute_result",
          "data": {
            "text/plain": [
              "Rep ID                                                                                             0\n",
              "Start Time                                                                                         0\n",
              "End Time                                                                                           0\n",
              "Difference                                                                                         0\n",
              "Checklist - Why are you interested in one of our insurance policies today?                         0\n",
              "Checklist - What sparked your interest in insurance at this time?                                  0\n",
              "Checklist - Has anything changed in your living situation since your last policy got started?      0\n",
              "Checklist - What's most important to you in an insurance company?                                  0\n",
              "Checklist - Why didn't you move forward with the last quote you received?                          0\n",
              "Checklist - What would you like to change about your current insurance coverage?                   0\n",
              "Checklist - What do you find most important: price, coverarge, or something else?                  0\n",
              "Checklist - What do you most dislike about your current insurance?                                 0\n",
              "Checklist - Have you worked with other insurance companies before--what was that like?             0\n",
              "Checklist - Please confirm for me that you want to apply for an insurance policy today with us.    0\n",
              "Postcall - communication skills - active listening                                                 0\n",
              "Postcall - communication skills - agent expressed appreciation                                     0\n",
              "Postcall - communication skills - agent proactivity                                                0\n",
              "Postcall - communication skills - customer compliment                                              0\n",
              "Postcall - communication skills - customer expressed appreciation                                  0\n",
              "Postcall - communication skills - empathy                                                          0\n",
              "Postcall - communication skills - justification                                                    0\n",
              "Postcall - communication skills - urgency                                                          0\n",
              "QuoteCount                                                                                         0\n",
              "SoldCount                                                                                          0\n",
              "Comp_Rate                                                                                          0\n",
              "dtype: int64"
            ]
          },
          "metadata": {
            "tags": []
          },
          "execution_count": 4
        }
      ]
    },
    {
      "cell_type": "markdown",
      "metadata": {
        "id": "qL2BsjLN58tn",
        "colab_type": "text"
      },
      "source": [
        "No missing values.  Now check data types."
      ]
    },
    {
      "cell_type": "code",
      "metadata": {
        "id": "AcMX5M026ATU",
        "colab_type": "code",
        "colab": {
          "base_uri": "https://localhost:8080/",
          "height": 459
        },
        "outputId": "47c0cdb8-6b05-4e40-d22f-6b3cf3427121"
      },
      "source": [
        "df.dtypes"
      ],
      "execution_count": null,
      "outputs": [
        {
          "output_type": "execute_result",
          "data": {
            "text/plain": [
              "Rep ID                                                                                               int64\n",
              "Start Time                                                                                          object\n",
              "End Time                                                                                            object\n",
              "Difference                                                                                         float64\n",
              "Checklist - Why are you interested in one of our insurance policies today?                           int64\n",
              "Checklist - What sparked your interest in insurance at this time?                                    int64\n",
              "Checklist - Has anything changed in your living situation since your last policy got started?        int64\n",
              "Checklist - What's most important to you in an insurance company?                                    int64\n",
              "Checklist - Why didn't you move forward with the last quote you received?                            int64\n",
              "Checklist - What would you like to change about your current insurance coverage?                     int64\n",
              "Checklist - What do you find most important: price, coverarge, or something else?                    int64\n",
              "Checklist - What do you most dislike about your current insurance?                                   int64\n",
              "Checklist - Have you worked with other insurance companies before--what was that like?               int64\n",
              "Checklist - Please confirm for me that you want to apply for an insurance policy today with us.      int64\n",
              "Postcall - communication skills - active listening                                                   int64\n",
              "Postcall - communication skills - agent expressed appreciation                                       int64\n",
              "Postcall - communication skills - agent proactivity                                                  int64\n",
              "Postcall - communication skills - customer compliment                                                int64\n",
              "Postcall - communication skills - customer expressed appreciation                                    int64\n",
              "Postcall - communication skills - empathy                                                            int64\n",
              "Postcall - communication skills - justification                                                      int64\n",
              "Postcall - communication skills - urgency                                                            int64\n",
              "QuoteCount                                                                                           int64\n",
              "SoldCount                                                                                            int64\n",
              "Comp_Rate                                                                                          float64\n",
              "dtype: object"
            ]
          },
          "metadata": {
            "tags": []
          },
          "execution_count": 5
        }
      ]
    },
    {
      "cell_type": "markdown",
      "metadata": {
        "id": "uvskA8QT_g3c",
        "colab_type": "text"
      },
      "source": [
        "### Checking Correlations at the Call Level"
      ]
    },
    {
      "cell_type": "markdown",
      "metadata": {
        "id": "36WWBJ0F6T4q",
        "colab_type": "text"
      },
      "source": [
        "Everything appears to be in order.  Now look at everything correlated with quote count and sale count, respectively."
      ]
    },
    {
      "cell_type": "code",
      "metadata": {
        "id": "lKEV-SFG6d1n",
        "colab_type": "code",
        "colab": {
          "base_uri": "https://localhost:8080/",
          "height": 425
        },
        "outputId": "c4c0f709-05dd-4ef2-972c-2541f3a7aa82"
      },
      "source": [
        "df.corr()['QuoteCount']"
      ],
      "execution_count": null,
      "outputs": [
        {
          "output_type": "execute_result",
          "data": {
            "text/plain": [
              "Rep ID                                                                                             0.012400\n",
              "Difference                                                                                         0.092753\n",
              "Checklist - Why are you interested in one of our insurance policies today?                         0.160270\n",
              "Checklist - What sparked your interest in insurance at this time?                                  0.365355\n",
              "Checklist - Has anything changed in your living situation since your last policy got started?      0.067566\n",
              "Checklist - What's most important to you in an insurance company?                                  0.191822\n",
              "Checklist - Why didn't you move forward with the last quote you received?                          0.229868\n",
              "Checklist - What would you like to change about your current insurance coverage?                   0.140464\n",
              "Checklist - What do you find most important: price, coverarge, or something else?                  0.153063\n",
              "Checklist - What do you most dislike about your current insurance?                                 0.050603\n",
              "Checklist - Have you worked with other insurance companies before--what was that like?             0.074711\n",
              "Checklist - Please confirm for me that you want to apply for an insurance policy today with us.    0.181581\n",
              "Postcall - communication skills - active listening                                                 0.155863\n",
              "Postcall - communication skills - agent expressed appreciation                                     0.189379\n",
              "Postcall - communication skills - agent proactivity                                                0.302021\n",
              "Postcall - communication skills - customer compliment                                              0.039815\n",
              "Postcall - communication skills - customer expressed appreciation                                  0.159515\n",
              "Postcall - communication skills - empathy                                                          0.218047\n",
              "Postcall - communication skills - justification                                                    0.250087\n",
              "Postcall - communication skills - urgency                                                          0.257004\n",
              "QuoteCount                                                                                         1.000000\n",
              "SoldCount                                                                                          0.516636\n",
              "Comp_Rate                                                                                          0.390401\n",
              "Name: QuoteCount, dtype: float64"
            ]
          },
          "metadata": {
            "tags": []
          },
          "execution_count": 10
        }
      ]
    },
    {
      "cell_type": "markdown",
      "metadata": {
        "id": "HAPiB1Bl9x6q",
        "colab_type": "text"
      },
      "source": [
        "It stands out that SoldCount and QuoteCount are moderately positively correlated (~ 0.51), which makes sense (as one must be given a price to purchase), and that Comp_Rate (completion rate of the checklist) has a low to moderate strength positive correlation with QuoteRate (~ 0.39).\n",
        "\n",
        "These two correlations are a sketch of a narrative: Completing the question checklist leads to more quotes, and more quotes lead to more sales."
      ]
    },
    {
      "cell_type": "code",
      "metadata": {
        "id": "csjudPEu6vP-",
        "colab_type": "code",
        "colab": {
          "base_uri": "https://localhost:8080/",
          "height": 425
        },
        "outputId": "aa875d9e-891d-4656-8cd9-31145e2bd5e5"
      },
      "source": [
        "df.corr()['SoldCount']"
      ],
      "execution_count": null,
      "outputs": [
        {
          "output_type": "execute_result",
          "data": {
            "text/plain": [
              "Rep ID                                                                                            -0.039028\n",
              "Difference                                                                                         0.086659\n",
              "Checklist - Why are you interested in one of our insurance policies today?                         0.028819\n",
              "Checklist - What sparked your interest in insurance at this time?                                  0.107256\n",
              "Checklist - Has anything changed in your living situation since your last policy got started?      0.022321\n",
              "Checklist - What's most important to you in an insurance company?                                  0.023499\n",
              "Checklist - Why didn't you move forward with the last quote you received?                          0.098960\n",
              "Checklist - What would you like to change about your current insurance coverage?                   0.114674\n",
              "Checklist - What do you find most important: price, coverarge, or something else?                  0.029033\n",
              "Checklist - What do you most dislike about your current insurance?                                 0.024711\n",
              "Checklist - Have you worked with other insurance companies before--what was that like?             0.044480\n",
              "Checklist - Please confirm for me that you want to apply for an insurance policy today with us.    0.497425\n",
              "Postcall - communication skills - active listening                                                 0.074763\n",
              "Postcall - communication skills - agent expressed appreciation                                     0.230036\n",
              "Postcall - communication skills - agent proactivity                                                0.310762\n",
              "Postcall - communication skills - customer compliment                                              0.005351\n",
              "Postcall - communication skills - customer expressed appreciation                                  0.139366\n",
              "Postcall - communication skills - empathy                                                          0.140871\n",
              "Postcall - communication skills - justification                                                    0.231072\n",
              "Postcall - communication skills - urgency                                                          0.275617\n",
              "QuoteCount                                                                                         0.516636\n",
              "SoldCount                                                                                          1.000000\n",
              "Comp_Rate                                                                                          0.130742\n",
              "Name: SoldCount, dtype: float64"
            ]
          },
          "metadata": {
            "tags": []
          },
          "execution_count": 11
        }
      ]
    },
    {
      "cell_type": "markdown",
      "metadata": {
        "id": "CnlNmrmu_OPj",
        "colab_type": "text"
      },
      "source": [
        "Somewhat surprisingly, sales are not correlated with checklist completion rate."
      ]
    },
    {
      "cell_type": "markdown",
      "metadata": {
        "id": "FIOWZ1qf_njV",
        "colab_type": "text"
      },
      "source": [
        "### Checking Correlations at the User Level"
      ]
    },
    {
      "cell_type": "markdown",
      "metadata": {
        "id": "ILsYFikB7A3F",
        "colab_type": "text"
      },
      "source": [
        "\n",
        "\n",
        "Check for variables correlated with sales and quotes by employee mean values.  This will indicate how employee's habits affect their outcomes (i.e. do employees who ask more checklist questions on average, get more sales on average).  This should be especially telling, as sales is a \"numbers game\", which means that general behaviors pay-off in the long run more than specific actions constantly cause specific reactions.\n",
        "\n",
        "In addition, using the mean allows for the closing question (final question on the checklist) to be analyzed as a rate (\"win rate\" as it is commonly called at Balto)."
      ]
    },
    {
      "cell_type": "code",
      "metadata": {
        "id": "xVBjDR6R7VMA",
        "colab_type": "code",
        "colab": {}
      },
      "source": [
        "df_employee_mean = df.groupby('Rep ID').mean() # Means of each feature accross calls for each employee"
      ],
      "execution_count": null,
      "outputs": []
    },
    {
      "cell_type": "code",
      "metadata": {
        "id": "agPtKnYA8OmD",
        "colab_type": "code",
        "colab": {
          "base_uri": "https://localhost:8080/",
          "height": 408
        },
        "outputId": "c475676a-039c-4b52-f8a6-872b2bd91ce6"
      },
      "source": [
        "df_employee_mean.corr()['SoldCount']"
      ],
      "execution_count": null,
      "outputs": [
        {
          "output_type": "execute_result",
          "data": {
            "text/plain": [
              "Difference                                                                                        -0.190141\n",
              "Checklist - Why are you interested in one of our insurance policies today?                        -0.246270\n",
              "Checklist - What sparked your interest in insurance at this time?                                 -0.420381\n",
              "Checklist - Has anything changed in your living situation since your last policy got started?     -0.012730\n",
              "Checklist - What's most important to you in an insurance company?                                 -0.581099\n",
              "Checklist - Why didn't you move forward with the last quote you received?                         -0.132076\n",
              "Checklist - What would you like to change about your current insurance coverage?                  -0.076127\n",
              "Checklist - What do you find most important: price, coverarge, or something else?                 -0.438373\n",
              "Checklist - What do you most dislike about your current insurance?                                -0.034225\n",
              "Checklist - Have you worked with other insurance companies before--what was that like?             0.014937\n",
              "Checklist - Please confirm for me that you want to apply for an insurance policy today with us.    0.919616\n",
              "Postcall - communication skills - active listening                                                -0.231112\n",
              "Postcall - communication skills - agent expressed appreciation                                     0.025683\n",
              "Postcall - communication skills - agent proactivity                                               -0.515820\n",
              "Postcall - communication skills - customer compliment                                              0.443363\n",
              "Postcall - communication skills - customer expressed appreciation                                 -0.283943\n",
              "Postcall - communication skills - empathy                                                         -0.215552\n",
              "Postcall - communication skills - justification                                                   -0.328599\n",
              "Postcall - communication skills - urgency                                                          0.101313\n",
              "QuoteCount                                                                                        -0.527402\n",
              "SoldCount                                                                                          1.000000\n",
              "Comp_Rate                                                                                         -0.477012\n",
              "Name: SoldCount, dtype: float64"
            ]
          },
          "metadata": {
            "tags": []
          },
          "execution_count": 15
        }
      ]
    },
    {
      "cell_type": "markdown",
      "metadata": {
        "id": "ejM0k40J_5Fa",
        "colab_type": "text"
      },
      "source": [
        "Surprisingly, employee's averages for quotes and sales are negatively correlated.\n",
        "\n",
        "Importantly, there are several strong negative correlations between specific questions and sales, and a very strong positive correlation (~0.91) between sales and the final question average ('win rate').\n",
        "\n",
        "The question is: \"Checklist - Please confirm for me that you want to apply for an insurance policy today with us.\"\n",
        "\n",
        "This is clearly question that is only asked to close deals, making it very significant to sales."
      ]
    },
    {
      "cell_type": "code",
      "metadata": {
        "id": "TiRppj8k8b-C",
        "colab_type": "code",
        "colab": {
          "base_uri": "https://localhost:8080/",
          "height": 408
        },
        "outputId": "801c5f5a-8990-40b0-8d32-459ae9bfcff0"
      },
      "source": [
        "df_employee_mean.corr()['QuoteCount']"
      ],
      "execution_count": null,
      "outputs": [
        {
          "output_type": "execute_result",
          "data": {
            "text/plain": [
              "Difference                                                                                         0.360233\n",
              "Checklist - Why are you interested in one of our insurance policies today?                         0.242771\n",
              "Checklist - What sparked your interest in insurance at this time?                                  0.728509\n",
              "Checklist - Has anything changed in your living situation since your last policy got started?     -0.057409\n",
              "Checklist - What's most important to you in an insurance company?                                  0.603228\n",
              "Checklist - Why didn't you move forward with the last quote you received?                          0.344246\n",
              "Checklist - What would you like to change about your current insurance coverage?                  -0.088659\n",
              "Checklist - What do you find most important: price, coverarge, or something else?                  0.400730\n",
              "Checklist - What do you most dislike about your current insurance?                                 0.358519\n",
              "Checklist - Have you worked with other insurance companies before--what was that like?            -0.021451\n",
              "Checklist - Please confirm for me that you want to apply for an insurance policy today with us.   -0.618419\n",
              "Postcall - communication skills - active listening                                                 0.433425\n",
              "Postcall - communication skills - agent expressed appreciation                                    -0.129670\n",
              "Postcall - communication skills - agent proactivity                                                0.268577\n",
              "Postcall - communication skills - customer compliment                                             -0.403428\n",
              "Postcall - communication skills - customer expressed appreciation                                  0.603277\n",
              "Postcall - communication skills - empathy                                                          0.194998\n",
              "Postcall - communication skills - justification                                                    0.297637\n",
              "Postcall - communication skills - urgency                                                          0.305490\n",
              "QuoteCount                                                                                         1.000000\n",
              "SoldCount                                                                                         -0.527402\n",
              "Comp_Rate                                                                                          0.642775\n",
              "Name: QuoteCount, dtype: float64"
            ]
          },
          "metadata": {
            "tags": []
          },
          "execution_count": 16
        }
      ]
    },
    {
      "cell_type": "markdown",
      "metadata": {
        "id": "bu876oodA7Wn",
        "colab_type": "text"
      },
      "source": [
        "Here, many significant details emerge.  First, the questions that were negatively correlated with sale rates are positively correlated with quote rates (one as high as ~ 0.72).  Additionally, the 'win rate' is moderately to strongly negatively correlated (~ -0.61) with quote rates, which is also a sign reversal.\n",
        "\n",
        "There is clearly a pattern of sign reversal."
      ]
    },
    {
      "cell_type": "code",
      "metadata": {
        "id": "9FOSjXFI9Bnp",
        "colab_type": "code",
        "colab": {
          "base_uri": "https://localhost:8080/",
          "height": 408
        },
        "outputId": "8d59bc1a-2a7f-4bd7-a09d-fe518373c52d"
      },
      "source": [
        "df_employee_mean.corr()['Checklist - Please confirm for me that you want to apply for an insurance policy today with us.']"
      ],
      "execution_count": null,
      "outputs": [
        {
          "output_type": "execute_result",
          "data": {
            "text/plain": [
              "Difference                                                                                        -0.219534\n",
              "Checklist - Why are you interested in one of our insurance policies today?                        -0.273623\n",
              "Checklist - What sparked your interest in insurance at this time?                                 -0.418633\n",
              "Checklist - Has anything changed in your living situation since your last policy got started?     -0.150593\n",
              "Checklist - What's most important to you in an insurance company?                                 -0.532254\n",
              "Checklist - Why didn't you move forward with the last quote you received?                         -0.236830\n",
              "Checklist - What would you like to change about your current insurance coverage?                   0.039625\n",
              "Checklist - What do you find most important: price, coverarge, or something else?                 -0.364328\n",
              "Checklist - What do you most dislike about your current insurance?                                -0.080717\n",
              "Checklist - Have you worked with other insurance companies before--what was that like?            -0.007396\n",
              "Checklist - Please confirm for me that you want to apply for an insurance policy today with us.    1.000000\n",
              "Postcall - communication skills - active listening                                                -0.273915\n",
              "Postcall - communication skills - agent expressed appreciation                                     0.198439\n",
              "Postcall - communication skills - agent proactivity                                               -0.376966\n",
              "Postcall - communication skills - customer compliment                                              0.321554\n",
              "Postcall - communication skills - customer expressed appreciation                                 -0.346046\n",
              "Postcall - communication skills - empathy                                                         -0.143011\n",
              "Postcall - communication skills - justification                                                   -0.288898\n",
              "Postcall - communication skills - urgency                                                         -0.012672\n",
              "QuoteCount                                                                                        -0.618419\n",
              "SoldCount                                                                                          0.919616\n",
              "Comp_Rate                                                                                         -0.502372\n",
              "Name: Checklist - Please confirm for me that you want to apply for an insurance policy today with us., dtype: float64"
            ]
          },
          "metadata": {
            "tags": []
          },
          "execution_count": 17
        }
      ]
    },
    {
      "cell_type": "markdown",
      "metadata": {
        "id": "BNecJb12B0vx",
        "colab_type": "text"
      },
      "source": [
        "This information is technically redundant, but was implied as being needed--so it was added."
      ]
    },
    {
      "cell_type": "markdown",
      "metadata": {
        "id": "woC3G-ENCANZ",
        "colab_type": "text"
      },
      "source": [
        "### Remarks About EDA\n",
        "\n",
        "The relationships at the user level and call level are portraying a similar narrative: questions lead to quotes and quotes to sales, but the relationships at the user level are stronger.  Additionally, the user level gives insight as to what reps can do on a regular basis (approaches and habits) to increase overall sales.  For these two reasons, the analysis and presentation will focus on the user level.\n",
        "\n",
        "The first question that needs to be answered is whether this system can be treated as multiple states (i.e. call, quote, sale).  The function below will check if there are any instances of a sale without a quote.  If there aren't any, it is fair to consider call, quote, and sale as linearily ordered states (meaning that the call must become a quote and the quote in, in turn, a sale)."
      ]
    },
    {
      "cell_type": "code",
      "metadata": {
        "id": "6sZp5IWJDR8G",
        "colab_type": "code",
        "colab": {
          "base_uri": "https://localhost:8080/",
          "height": 34
        },
        "outputId": "ff8f9212-e895-4de4-99f1-8e475b061656"
      },
      "source": [
        "sold_no_quote = []\n",
        "\n",
        "for i in range(len(df)):\n",
        "  if df['SoldCount'][i] == 1 and df['QuoteCount'][i] == 0:\n",
        "      sold_no_quote.append(1)\n",
        "len(sold_no_quote)"
      ],
      "execution_count": null,
      "outputs": [
        {
          "output_type": "execute_result",
          "data": {
            "text/plain": [
              "0"
            ]
          },
          "metadata": {
            "tags": []
          },
          "execution_count": 19
        }
      ]
    },
    {
      "cell_type": "markdown",
      "metadata": {
        "id": "EXpEUwrPEndA",
        "colab_type": "text"
      },
      "source": [
        "The result shows that these are linearily connected states.  The significance is that the question shifts from what is merely correlated with one or the other, to a question of what raises the probability of transition from one state to the another (i.e from call to quote, then from quote to sale).\n",
        "\n",
        "This fact also gives explaination as to why the signs on the correlation values are reversed for sales and quotes (respectively) despite the fact that they are correlated.  This seems to result from the change of state."
      ]
    },
    {
      "cell_type": "markdown",
      "metadata": {
        "id": "heAssv7BFm77",
        "colab_type": "text"
      },
      "source": [
        "# What Can Reps Do to Raise the Probability that they will Transition from a call to a Quote (i.e. Raise their Quote Rates)?\n",
        "\n",
        "First, we can bring back our user level mean correlations for quotes vs other variables.  Since all of these started in the call state, those that are positively correlated with quotes likely increase the probability, and vice versa for those with negative correlations."
      ]
    },
    {
      "cell_type": "code",
      "metadata": {
        "id": "Ooe0ZLyvGEu7",
        "colab_type": "code",
        "colab": {
          "base_uri": "https://localhost:8080/",
          "height": 408
        },
        "outputId": "6cd3f7d0-1ed6-47d4-f033-c16c30cb3a69"
      },
      "source": [
        "df_employee_mean.corr()['QuoteCount']"
      ],
      "execution_count": null,
      "outputs": [
        {
          "output_type": "execute_result",
          "data": {
            "text/plain": [
              "Difference                                                                                         0.360233\n",
              "Checklist - Why are you interested in one of our insurance policies today?                         0.242771\n",
              "Checklist - What sparked your interest in insurance at this time?                                  0.728509\n",
              "Checklist - Has anything changed in your living situation since your last policy got started?     -0.057409\n",
              "Checklist - What's most important to you in an insurance company?                                  0.603228\n",
              "Checklist - Why didn't you move forward with the last quote you received?                          0.344246\n",
              "Checklist - What would you like to change about your current insurance coverage?                  -0.088659\n",
              "Checklist - What do you find most important: price, coverarge, or something else?                  0.400730\n",
              "Checklist - What do you most dislike about your current insurance?                                 0.358519\n",
              "Checklist - Have you worked with other insurance companies before--what was that like?            -0.021451\n",
              "Checklist - Please confirm for me that you want to apply for an insurance policy today with us.   -0.618419\n",
              "Postcall - communication skills - active listening                                                 0.433425\n",
              "Postcall - communication skills - agent expressed appreciation                                    -0.129670\n",
              "Postcall - communication skills - agent proactivity                                                0.268577\n",
              "Postcall - communication skills - customer compliment                                             -0.403428\n",
              "Postcall - communication skills - customer expressed appreciation                                  0.603277\n",
              "Postcall - communication skills - empathy                                                          0.194998\n",
              "Postcall - communication skills - justification                                                    0.297637\n",
              "Postcall - communication skills - urgency                                                          0.305490\n",
              "QuoteCount                                                                                         1.000000\n",
              "SoldCount                                                                                         -0.527402\n",
              "Comp_Rate                                                                                          0.642775\n",
              "Name: QuoteCount, dtype: float64"
            ]
          },
          "metadata": {
            "tags": []
          },
          "execution_count": 20
        }
      ]
    },
    {
      "cell_type": "markdown",
      "metadata": {
        "id": "qVf94vAvG246",
        "colab_type": "text"
      },
      "source": [
        "Three things stand out:\n",
        "\n",
        "1. Reps' completion rates are moderately to strongly positively correlated (~ 0.64) with quote rate.\n",
        "\n",
        "2. Three questions (all of which are \"value questions\" are positively correlated with quote rate: \n",
        "\n",
        "    What sparked your interest in insurance at this time? (~ 0.72)\n",
        "\n",
        "    What's most important to you in an insurance company? (~ 0.60)\n",
        "\n",
        "    What do you find most important: price, coverarge, or something else? (~0.40) \n",
        "\n",
        "3. Active listening and customer exressed appreciation are both positively correlated with quote rates.\n",
        "\n",
        "This suggests that asking more questions (specifically those listed) and actively listening can help the reps to increase their quote rates.  However, these correlations need to be more closely examined before they can be trusted."
      ]
    },
    {
      "cell_type": "markdown",
      "metadata": {
        "id": "QXVPzXnKJAee",
        "colab_type": "text"
      },
      "source": [
        "## A Closer Look at the Possible Actions for Increasing Quote Rates"
      ]
    },
    {
      "cell_type": "markdown",
      "metadata": {
        "id": "4-ht67meJzDc",
        "colab_type": "text"
      },
      "source": [
        "First, a quick renaming of some of the labels for the sake of plotting and clarity.  Many will be called something-rate as everything moving forward will be at the user level and thus be a mean (rate)."
      ]
    },
    {
      "cell_type": "code",
      "metadata": {
        "id": "ZdfqPL1nKKI2",
        "colab_type": "code",
        "colab": {}
      },
      "source": [
        "names = []\n",
        "check_count = 1\n",
        "post_count = 1\n",
        "for i in range(len(df.columns)):\n",
        "  \n",
        "  if df.columns[i].startswith(\"Checklist\"):\n",
        "    names.append(f\"Cl{check_count}\")\n",
        "    check_count += 1\n",
        "\n",
        "  elif df.columns[i].startswith(\"Postcall\"):\n",
        "    names.append(f\"Pc{post_count}\")\n",
        "    post_count += 1\n",
        "\n",
        "  else:\n",
        "    names.append(df.columns[i])\n",
        "df.columns = names\n",
        "df.rename(columns = {'Cl10':'Win Rate'}, inplace = True)\n",
        "df.rename(columns = {'QuoteCount':'Quote Rate'}, inplace = True)\n",
        "df.rename(columns = {'SoldCount':'Sale Rate'}, inplace = True)\n",
        "df.rename(columns = {'Comp_Rate':'Checklist Completion Rate'}, inplace = True)\n",
        "\n",
        "df_employee_mean = df.groupby('Rep ID').mean() # Recreate the previous df with the new names"
      ],
      "execution_count": null,
      "outputs": []
    },
    {
      "cell_type": "markdown",
      "metadata": {
        "id": "JuqWtYYfLHbE",
        "colab_type": "text"
      },
      "source": [
        "### Checklist Completion Rate vs Quote Rate"
      ]
    },
    {
      "cell_type": "code",
      "metadata": {
        "id": "9cTPHhH3JNrE",
        "colab_type": "code",
        "colab": {
          "base_uri": "https://localhost:8080/",
          "height": 409
        },
        "outputId": "9b869807-8be8-4b7b-b936-368937b8decf"
      },
      "source": [
        "import matplotlib.pyplot as plt\n",
        "import scipy.stats as stats\n",
        "import seaborn as sns\n",
        "\n",
        "sns.set(font_scale=1.5)\n",
        "ax = sns.regplot(x=\"Checklist Completion Rate\", y=\"Quote Rate\", data=df_employee_mean)\n",
        "display(df_employee_mean.filter(['Checklist Completion Rate', 'Quote Rate']).corr())\n",
        "\n",
        "p_value = stats.pearsonr(df_employee_mean['Checklist Completion Rate'], df_employee_mean['Quote Rate'])\n",
        "print(\" P_Value: \", p_value[1])"
      ],
      "execution_count": null,
      "outputs": [
        {
          "output_type": "display_data",
          "data": {
            "text/html": [
              "<div>\n",
              "<style scoped>\n",
              "    .dataframe tbody tr th:only-of-type {\n",
              "        vertical-align: middle;\n",
              "    }\n",
              "\n",
              "    .dataframe tbody tr th {\n",
              "        vertical-align: top;\n",
              "    }\n",
              "\n",
              "    .dataframe thead th {\n",
              "        text-align: right;\n",
              "    }\n",
              "</style>\n",
              "<table border=\"1\" class=\"dataframe\">\n",
              "  <thead>\n",
              "    <tr style=\"text-align: right;\">\n",
              "      <th></th>\n",
              "      <th>Checklist Completion Rate</th>\n",
              "      <th>Quote Rate</th>\n",
              "    </tr>\n",
              "  </thead>\n",
              "  <tbody>\n",
              "    <tr>\n",
              "      <th>Checklist Completion Rate</th>\n",
              "      <td>1.000000</td>\n",
              "      <td>0.642775</td>\n",
              "    </tr>\n",
              "    <tr>\n",
              "      <th>Quote Rate</th>\n",
              "      <td>0.642775</td>\n",
              "      <td>1.000000</td>\n",
              "    </tr>\n",
              "  </tbody>\n",
              "</table>\n",
              "</div>"
            ],
            "text/plain": [
              "                           Checklist Completion Rate  Quote Rate\n",
              "Checklist Completion Rate                   1.000000    0.642775\n",
              "Quote Rate                                  0.642775    1.000000"
            ]
          },
          "metadata": {
            "tags": []
          }
        },
        {
          "output_type": "stream",
          "text": [
            " P_Value:  0.00223826333467193\n"
          ],
          "name": "stdout"
        },
        {
          "output_type": "display_data",
          "data": {
            "image/png": "[encoded data removed]",
            "text/plain": [
              "<Figure size 432x288 with 1 Axes>"
            ]
          },
          "metadata": {
            "tags": []
          }
        }
      ]
    },
    {
      "cell_type": "markdown",
      "metadata": {
        "id": "PNWBctK5Led_",
        "colab_type": "text"
      },
      "source": [
        "The p-value is well below the standard 0.05.  Additionally, the scatterplot looks good, and suggests that understanding the relationship does not require something more complex than correlation (as the relationship is roughly linear)."
      ]
    },
    {
      "cell_type": "markdown",
      "metadata": {
        "id": "T83xP0fBMDWI",
        "colab_type": "text"
      },
      "source": [
        "### What sparked your interest in insurance at this time?  vs Quote Rate"
      ]
    },
    {
      "cell_type": "code",
      "metadata": {
        "id": "kQxJLr5iMQSF",
        "colab_type": "code",
        "colab": {
          "base_uri": "https://localhost:8080/",
          "height": 34
        },
        "outputId": "38ef2ca3-a158-41d7-f906-dcfbaf562ee8"
      },
      "source": [
        "p_value = stats.pearsonr(df_employee_mean['Cl2'], df_employee_mean['Quote Rate'])\n",
        "print(\" P_Value: \", p_value[1])"
      ],
      "execution_count": null,
      "outputs": [
        {
          "output_type": "stream",
          "text": [
            " P_Value:  0.00026983697246490203\n"
          ],
          "name": "stdout"
        }
      ]
    },
    {
      "cell_type": "markdown",
      "metadata": {
        "id": "LwalAJ45NocO",
        "colab_type": "text"
      },
      "source": [
        "Passed."
      ]
    },
    {
      "cell_type": "markdown",
      "metadata": {
        "id": "QuSzWoEfM4qL",
        "colab_type": "text"
      },
      "source": [
        "### What's most important to you in an insurance company? vs Quote Rate"
      ]
    },
    {
      "cell_type": "code",
      "metadata": {
        "id": "10t7y9-5NCOo",
        "colab_type": "code",
        "colab": {
          "base_uri": "https://localhost:8080/",
          "height": 34
        },
        "outputId": "5557c8b9-cb69-4301-bda0-9745a22130fe"
      },
      "source": [
        "p_value = stats.pearsonr(df_employee_mean['Cl4'], df_employee_mean['Quote Rate'])\n",
        "print(\" P_Value: \", p_value[1])"
      ],
      "execution_count": null,
      "outputs": [
        {
          "output_type": "stream",
          "text": [
            " P_Value:  0.00486688045425293\n"
          ],
          "name": "stdout"
        }
      ]
    },
    {
      "cell_type": "markdown",
      "metadata": {
        "id": "SEAWwupJNrm1",
        "colab_type": "text"
      },
      "source": [
        "Passed."
      ]
    },
    {
      "cell_type": "markdown",
      "metadata": {
        "id": "tjFjk6LLNNu_",
        "colab_type": "text"
      },
      "source": [
        "### What do you find most important: price, coverarge, or something else?"
      ]
    },
    {
      "cell_type": "code",
      "metadata": {
        "id": "5xw9x4GUNPNz",
        "colab_type": "code",
        "colab": {
          "base_uri": "https://localhost:8080/",
          "height": 34
        },
        "outputId": "26de91a2-056a-4520-e447-81dfd37e5c52"
      },
      "source": [
        "p_value = stats.pearsonr(df_employee_mean['Cl7'], df_employee_mean['Quote Rate'])\n",
        "print(\" P_Value: \", p_value[1])"
      ],
      "execution_count": null,
      "outputs": [
        {
          "output_type": "stream",
          "text": [
            " P_Value:  0.0799511064303793\n"
          ],
          "name": "stdout"
        }
      ]
    },
    {
      "cell_type": "markdown",
      "metadata": {
        "id": "FyYWEExwNudW",
        "colab_type": "text"
      },
      "source": [
        "Failed.  However, this result can be interpreted as meaning that there is an 8% that the correlation is by chance.  Should it be excluded from a list of \"good\" questions to ask because of this finding? There is not a perfect answer.\n",
        "\n",
        "Since there are two other questions that both pertain to value, it is better to leave this question out and focus on the the other two and the generalization they suggest (which includes this question and many others like it).\n",
        "\n",
        "Perhaps when there is more data, this will shape up."
      ]
    },
    {
      "cell_type": "code",
      "metadata": {
        "id": "zFPwtML0N5dx",
        "colab_type": "code",
        "colab": {
          "base_uri": "https://localhost:8080/",
          "height": 409
        },
        "outputId": "cedb2b7a-a21a-46fa-a6bb-3edc926c52b5"
      },
      "source": [
        "ax = sns.regplot(x=\"Pc1\", y=\"Quote Rate\", data=df_employee_mean)\n",
        "display(df_employee_mean.filter(['Pc1', 'Quote Rate']).corr())\n",
        "\n",
        "p_value = stats.pearsonr(df_employee_mean['Pc1'], df_employee_mean['Quote Rate'])\n",
        "print(\" P_Value: \", p_value[1])"
      ],
      "execution_count": null,
      "outputs": [
        {
          "output_type": "display_data",
          "data": {
            "text/html": [
              "<div>\n",
              "<style scoped>\n",
              "    .dataframe tbody tr th:only-of-type {\n",
              "        vertical-align: middle;\n",
              "    }\n",
              "\n",
              "    .dataframe tbody tr th {\n",
              "        vertical-align: top;\n",
              "    }\n",
              "\n",
              "    .dataframe thead th {\n",
              "        text-align: right;\n",
              "    }\n",
              "</style>\n",
              "<table border=\"1\" class=\"dataframe\">\n",
              "  <thead>\n",
              "    <tr style=\"text-align: right;\">\n",
              "      <th></th>\n",
              "      <th>Pc1</th>\n",
              "      <th>Quote Rate</th>\n",
              "    </tr>\n",
              "  </thead>\n",
              "  <tbody>\n",
              "    <tr>\n",
              "      <th>Pc1</th>\n",
              "      <td>1.000000</td>\n",
              "      <td>0.433425</td>\n",
              "    </tr>\n",
              "    <tr>\n",
              "      <th>Quote Rate</th>\n",
              "      <td>0.433425</td>\n",
              "      <td>1.000000</td>\n",
              "    </tr>\n",
              "  </tbody>\n",
              "</table>\n",
              "</div>"
            ],
            "text/plain": [
              "                 Pc1  Quote Rate\n",
              "Pc1         1.000000    0.433425\n",
              "Quote Rate  0.433425    1.000000"
            ]
          },
          "metadata": {
            "tags": []
          }
        },
        {
          "output_type": "stream",
          "text": [
            " P_Value:  0.05624900202480291\n"
          ],
          "name": "stdout"
        },
        {
          "output_type": "display_data",
          "data": {
            "image/png": "[encoded data removed]",
            "text/plain": [
              "<Figure size 432x288 with 1 Axes>"
            ]
          },
          "metadata": {
            "tags": []
          }
        }
      ]
    },
    {
      "cell_type": "markdown",
      "metadata": {
        "id": "WUsg0tfyQAYN",
        "colab_type": "text"
      },
      "source": [
        "Again, the p-val is slightly above the typical accepted threshold.  However, this time it is only ~ 0.062 above the typically accepted threshold.  Addtionally, it seems as though the concentration of reps that got less than 0.15 of these alerts on average had a lot of variability which skewed the data.  Furthermore, there seems to be a more stable upward trend between 0.15 and 0.4.  Thus, it seems like there is a correlation there that is simply affected by the skew in the data.\n",
        "\n",
        "Secondly, it can be interpreted as meaning that there is a ~ 5.6 percent chance that the correlation is non-existent.  Meaning that the cost-benefit would be: the gains resulting from it being true and acting multiplied times .944 vs the losses resulting from it being false times 0.056.  In this case, where there is little harm that could be done, and a great deal to gain, I'm electing to keep it in the presentation."
      ]
    },
    {
      "cell_type": "markdown",
      "metadata": {
        "id": "TJt2N7NqUM7T",
        "colab_type": "text"
      },
      "source": [
        "# Question 2: How to increase the probability of transitioning from quote to sale\n",
        "\n",
        "This requires that only the calls where a quote was given are examined.\n",
        "\n",
        "First, create the new dataset."
      ]
    },
    {
      "cell_type": "code",
      "metadata": {
        "id": "NP-xzbpGUx_D",
        "colab_type": "code",
        "colab": {}
      },
      "source": [
        "df_quote = df[df['Quote Rate'] == 1].groupby('Rep ID').mean()"
      ],
      "execution_count": null,
      "outputs": []
    },
    {
      "cell_type": "markdown",
      "metadata": {
        "id": "PxkPzZeaU3f7",
        "colab_type": "text"
      },
      "source": [
        "## Find variables with means correlated with sales rates for calls where a quote was given.\n",
        "\n",
        "The goal is to find what a rep can regularly do to increase the probability that they will convert quotes into sales."
      ]
    },
    {
      "cell_type": "code",
      "metadata": {
        "id": "VpIxk_TLT8LX",
        "colab_type": "code",
        "colab": {
          "base_uri": "https://localhost:8080/",
          "height": 425
        },
        "outputId": "3c37fd33-9277-42b4-b988-4cd013e44566"
      },
      "source": [
        "df_quote = df[df['Quote Rate'] == 1].groupby('Rep ID').mean()\n",
        "print(len(df_quote))\n",
        "df_quote_corr = df_quote.corr()['Sale Rate']\n",
        "display(df_quote_corr)"
      ],
      "execution_count": null,
      "outputs": [
        {
          "output_type": "stream",
          "text": [
            "20\n"
          ],
          "name": "stdout"
        },
        {
          "output_type": "display_data",
          "data": {
            "text/plain": [
              "Difference                  -0.199853\n",
              "Cl1                         -0.243922\n",
              "Cl2                         -0.588470\n",
              "Cl3                          0.003443\n",
              "Cl4                         -0.641308\n",
              "Cl5                         -0.163962\n",
              "Cl6                          0.059198\n",
              "Cl7                         -0.404964\n",
              "Cl8                         -0.126325\n",
              "Cl9                          0.058228\n",
              "Win Rate                     0.951948\n",
              "Pc1                         -0.313209\n",
              "Pc2                          0.152163\n",
              "Pc3                         -0.405492\n",
              "Pc4                          0.389202\n",
              "Pc5                         -0.437064\n",
              "Pc6                         -0.203514\n",
              "Pc7                         -0.298271\n",
              "Pc8                         -0.066679\n",
              "Quote Rate                        NaN\n",
              "Sale Rate                    1.000000\n",
              "Checklist Completion Rate   -0.560025\n",
              "Name: Sale Rate, dtype: float64"
            ]
          },
          "metadata": {
            "tags": []
          }
        }
      ]
    },
    {
      "cell_type": "markdown",
      "metadata": {
        "id": "nn7QgYaTVfWV",
        "colab_type": "text"
      },
      "source": [
        "The answer is clear.  Win rate is the dominant feature.  Though there are a few other correlations, most of them are negative and/or skewed because of their contribution to quote rates.\n",
        "\n",
        "Luckily, they are not necessary.  the strong positive correlation between win rate and sale rate (~ 0.95) says enough by itself.  But first, it must be examined."
      ]
    },
    {
      "cell_type": "code",
      "metadata": {
        "id": "Nh5K0GhkWRZA",
        "colab_type": "code",
        "colab": {
          "base_uri": "https://localhost:8080/",
          "height": 409
        },
        "outputId": "7e0617e1-9e05-4975-be68-16b20aa995ef"
      },
      "source": [
        "ax = sns.regplot(x=\"Win Rate\", y=\"Sale Rate\", data=df_quote)\n",
        "display(df_quote.filter(['Win Rate', 'Sale Rate']).corr())\n",
        "\n",
        "p_value = stats.pearsonr(df_quote['Win Rate'], df_quote['Sale Rate'])\n",
        "print(\" P_Value: \", p_value[1])"
      ],
      "execution_count": null,
      "outputs": [
        {
          "output_type": "display_data",
          "data": {
            "text/html": [
              "<div>\n",
              "<style scoped>\n",
              "    .dataframe tbody tr th:only-of-type {\n",
              "        vertical-align: middle;\n",
              "    }\n",
              "\n",
              "    .dataframe tbody tr th {\n",
              "        vertical-align: top;\n",
              "    }\n",
              "\n",
              "    .dataframe thead th {\n",
              "        text-align: right;\n",
              "    }\n",
              "</style>\n",
              "<table border=\"1\" class=\"dataframe\">\n",
              "  <thead>\n",
              "    <tr style=\"text-align: right;\">\n",
              "      <th></th>\n",
              "      <th>Win Rate</th>\n",
              "      <th>Sale Rate</th>\n",
              "    </tr>\n",
              "  </thead>\n",
              "  <tbody>\n",
              "    <tr>\n",
              "      <th>Win Rate</th>\n",
              "      <td>1.000000</td>\n",
              "      <td>0.951948</td>\n",
              "    </tr>\n",
              "    <tr>\n",
              "      <th>Sale Rate</th>\n",
              "      <td>0.951948</td>\n",
              "      <td>1.000000</td>\n",
              "    </tr>\n",
              "  </tbody>\n",
              "</table>\n",
              "</div>"
            ],
            "text/plain": [
              "           Win Rate  Sale Rate\n",
              "Win Rate   1.000000   0.951948\n",
              "Sale Rate  0.951948   1.000000"
            ]
          },
          "metadata": {
            "tags": []
          }
        },
        {
          "output_type": "stream",
          "text": [
            " P_Value:  1.0890964107183973e-10\n"
          ],
          "name": "stdout"
        },
        {
          "output_type": "display_data",
          "data": {
            "image/png": "[encoded data removed]",
            "text/plain": [
              "<Figure size 432x288 with 1 Axes>"
            ]
          },
          "metadata": {
            "tags": []
          }
        }
      ]
    },
    {
      "cell_type": "markdown",
      "metadata": {
        "id": "u683lrFaW06r",
        "colab_type": "text"
      },
      "source": [
        "The plot reveals an almost perfect linear relationship and the p-value is well below the standard 0.05.\n",
        "\n",
        "This shows that the most important thing a rep can do the get sales after they have already given a quote is to ask for a sale.\n",
        "\n",
        "The specific question is: \"Please confirm for me that you want to apply for an insurance policy today with us.\""
      ]
    },
    {
      "cell_type": "markdown",
      "metadata": {
        "id": "KpsAMrKKY-pe",
        "colab_type": "text"
      },
      "source": [
        "## Final Question: What percentage of calls where a quote was given and a win took place led to a sale?"
      ]
    },
    {
      "cell_type": "code",
      "metadata": {
        "id": "kMrzjcRHZci7",
        "colab_type": "code",
        "colab": {
          "base_uri": "https://localhost:8080/",
          "height": 323
        },
        "outputId": "5bbddccf-2b24-48ee-eb44-3a918c396c41"
      },
      "source": [
        "a = df[df['Quote Rate'] == 1] # Is actually still QuoteCount from original df\n",
        "\n",
        "display(a[a['Win Rate'] >= 1].describe()['Sale Rate'])\n",
        "display(a[a['Win Rate'] == 0].describe()['Sale Rate'])"
      ],
      "execution_count": null,
      "outputs": [
        {
          "output_type": "display_data",
          "data": {
            "text/plain": [
              "count    1467.000000\n",
              "mean        0.950239\n",
              "std         0.217526\n",
              "min         0.000000\n",
              "25%         1.000000\n",
              "50%         1.000000\n",
              "75%         1.000000\n",
              "max         1.000000\n",
              "Name: Sale Rate, dtype: float64"
            ]
          },
          "metadata": {
            "tags": []
          }
        },
        {
          "output_type": "display_data",
          "data": {
            "text/plain": [
              "count    4827.000000\n",
              "mean        0.272840\n",
              "std         0.445466\n",
              "min         0.000000\n",
              "25%         0.000000\n",
              "50%         0.000000\n",
              "75%         1.000000\n",
              "max         1.000000\n",
              "Name: Sale Rate, dtype: float64"
            ]
          },
          "metadata": {
            "tags": []
          }
        }
      ]
    },
    {
      "cell_type": "code",
      "metadata": {
        "id": "3ZMIQGfXZtAB",
        "colab_type": "code",
        "colab": {
          "base_uri": "https://localhost:8080/",
          "height": 305
        },
        "outputId": "8fe91996-af05-4740-a7df-d7bbbd2eaac5"
      },
      "source": [
        "vals = {\"Asked\": [95.0239],\n",
        "            \"Not Asked\": [27.2840]}\n",
        "comparison = pd.DataFrame(vals)\n",
        "comparison.plot.bar(title='Percentage of Post-Quote Calls Ending in a Sale')"
      ],
      "execution_count": null,
      "outputs": [
        {
          "output_type": "execute_result",
          "data": {
            "text/plain": [
              "<matplotlib.axes._subplots.AxesSubplot at 0x7f4c413945f8>"
            ]
          },
          "metadata": {
            "tags": []
          },
          "execution_count": 60
        },
        {
          "output_type": "display_data",
          "data": {
            "image/png": "[encoded data removed]",
            "text/plain": [
              "<Figure size 432x288 with 1 Axes>"
            ]
          },
          "metadata": {
            "tags": []
          }
        }
      ]
    },
    {
      "cell_type": "markdown",
      "metadata": {
        "id": "KEPGUWEuXCnd",
        "colab_type": "text"
      },
      "source": [
        "# Conclusion\n",
        "\n",
        "There are three states to this analysis of th insurance sale call: answered call, quote given, and sale.\n",
        "\n",
        "The goal was to glean lessons that might benefit the sales representatives.  To accomplish this, key user level rates were correlated with one another, many of which were shown to increase the likelihood of transition from one state to another.\n",
        "\n",
        "It has been speculated that asking more questions (checklist completion rate), specifically value-based questions, and active listening will all increase representative's quote rates.  Furthermore, that the best thing a rep can do to sell those they have already quoted is to ask.  Those calls where a sale was asked for led to sales at almost three times the rates."
      ]
    }
  ]
}