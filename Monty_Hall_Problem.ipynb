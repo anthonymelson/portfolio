{
  "nbformat": 4,
  "nbformat_minor": 0,
  "metadata": {
    "colab": {
      "name": "Monty Hall Problem.ipynb",
      "provenance": [],
      "collapsed_sections": [],
      "include_colab_link": true
    },
    "kernelspec": {
      "name": "python3",
      "display_name": "Python 3"
    }
  },
  "cells": [
    {
      "cell_type": "markdown",
      "metadata": {
        "id": "view-in-github",
        "colab_type": "text"
      },
      "source": [
        "<a href=\"https://colab.research.google.com/github/anthonymelson/portfolio/blob/master/Monty_Hall_Problem.ipynb\" target=\"_parent\"><img src=\"https://colab.research.google.com/assets/colab-badge.svg\" alt=\"Open In Colab\"/></a>"
      ]
    },
    {
      "cell_type": "code",
      "metadata": {
        "id": "2rO11MpT1FWv",
        "colab_type": "code",
        "colab": {}
      },
      "source": [
        "#Import Packages\n",
        "import random\n",
        "import re\n",
        "import math as math\n",
        "import numpy as np\n",
        "import matplotlib.pyplot as plt\n",
        "import pandas as pd\n",
        "import seaborn as sns\n",
        "\n",
        "#Set Style\n",
        "plt.style.use('fivethirtyeight')"
      ],
      "execution_count": null,
      "outputs": []
    },
    {
      "cell_type": "markdown",
      "metadata": {
        "id": "ODTnVXDQEbb3",
        "colab_type": "text"
      },
      "source": [
        "# Monty Hall Problem Simulated For Skeptics"
      ]
    },
    {
      "cell_type": "markdown",
      "metadata": {
        "id": "WOObch-v-njr",
        "colab_type": "text"
      },
      "source": [
        "This notebook simulates the Monty Hall Problem with the hope that it will weigh on those who have trouble believing its outcome.  Though this problem can be solved with Bayesian statistics, conditional probabilities, informational science, and even set theoretic logic, this step by step simulation tends to perform better at persuasion."
      ]
    },
    {
      "cell_type": "markdown",
      "metadata": {
        "id": "i7ucEs2IEmwX",
        "colab_type": "text"
      },
      "source": [
        "## What is the Monty Hall Problem"
      ]
    },
    {
      "cell_type": "markdown",
      "metadata": {
        "id": "0DHdoG9h_HfB",
        "colab_type": "text"
      },
      "source": [
        "![Monty Hall Problem](https://drive.google.com/uc?id=165fyDfFbrHzvfm0uOWecqC2Zo9Gq3ixw)\n",
        "\n",
        "\n",
        "The Monty Hall Problem results from a simple, but counter-intuitive decison process very similar to one featured on a television game show \"Lets Make A Deal\" featuring Monty Hall (as the host).  The problem:\n",
        "\n",
        "* There are three closed doors\n",
        "\n",
        "* Behind two of those doors there is a goat, and behind the third there is a car\n",
        "\n",
        "* The contestant starts by selecting any one of the three doors\n",
        "\n",
        "* After they have made their selection, Monty reveals a goat behind one of the other two doors\n",
        "\n",
        "* Finally, the contestant is given an opportunity to switch doors\n",
        "\n",
        "The question is whether it is in their best interest to switch or stay with their original door?  The answer is that they should switch, but many have a hard time believing this.\n",
        "\n",
        "To settle this for those who deny the statistics and logic of the game (or simply do not understand), they can look at the results of this simulation instead."
      ]
    },
    {
      "cell_type": "markdown",
      "metadata": {
        "id": "Ls59LESKAtYD",
        "colab_type": "text"
      },
      "source": [
        "## Defining the Monty Hall Game"
      ]
    },
    {
      "cell_type": "code",
      "metadata": {
        "id": "5OuYsG3g7ISh",
        "colab_type": "code",
        "colab": {}
      },
      "source": [
        "def MontyHall(num_games):\n",
        "  #COUNT WINS BY SWITCHING AND NOT SWITCHING, AND NUMBER OF GAMES\n",
        "  DS_W = 0\n",
        "  S_W = 0\n",
        "  i = 0\n",
        "  switch = [] \n",
        "  dont = []\n",
        "  length = []\n",
        "\n",
        "  #PLAY 10000 GAMES\n",
        "\n",
        "  while i < num_games:\n",
        "      \n",
        "      #CREATE DOORS\n",
        "      doors = ['a','a','a']\n",
        "      \n",
        "      #SELECT AWARD DOOR\n",
        "      award = random.choice([0,1,2])\n",
        "      doors[award] = 'b'\n",
        "      \n",
        "      #PLAYER SELECTS DOOR (ASSIGNED C IF DIFFERENT THAN AWARD, AND D IF SAME)\n",
        "      chosen_door = random.choice([0,1,2])\n",
        "      if doors[chosen_door] == 'a':\n",
        "          doors[chosen_door] = 'c'\n",
        "      else:\n",
        "          doors[chosen_door] = 'd'\n",
        "      \n",
        "      #RANDOMLY ELIMINATE DOOR THAT IS: NOT SELECTED, DOESN'T REVEAL AWARD\n",
        "      d = doors[0] + doors[1] + doors[2]\n",
        "      revealed_door = random.choice([a.start() for a in re.finditer('a', d)])\n",
        "      del doors[revealed_door]\n",
        "\n",
        "      #SWITCH DOOR FOR THOSE WHO CHOSE AND DIDN'T CHOSE AWARD DOOR FIRST\n",
        "      d1 = doors[0] + doors[1]\n",
        "      if d1.find('d') >= 0:\n",
        "          final = np.fmod(d1.find('d') + 1, 2)\n",
        "      else:\n",
        "          final = np.fmod(d1.find('c') + 1, 2)\n",
        "          \n",
        "      #SCORE WINS FOR SWITCHING AND NOT\n",
        "      if d1[final] == 'b':\n",
        "          S_W = S_W + 1\n",
        "      else:\n",
        "          DS_W = DS_W + 1\n",
        "      \n",
        "      #ITERATOR\n",
        "      i = i + 1\n",
        "      \n",
        "      #UDPATE WINS OF CHANGING AND NOT, AND GAME LENGTH\n",
        "      switch.append(S_W)\n",
        "      dont.append(DS_W)\n",
        "      length.append(i)\n",
        "  return  DS_W, S_W, dont, length, switch, i"
      ],
      "execution_count": null,
      "outputs": []
    },
    {
      "cell_type": "markdown",
      "metadata": {
        "id": "TZvDkHbqC5ra",
        "colab_type": "text"
      },
      "source": [
        "### Create Plotting Function for Results"
      ]
    },
    {
      "cell_type": "code",
      "metadata": {
        "id": "AIEpG_Bo6zCE",
        "colab_type": "code",
        "colab": {}
      },
      "source": [
        "#PRINT WINS FOR SWITCHING AND NOT W/PERCENTAGES\n",
        "def PlotMontyHall(DS_W, S_W, dont, length, switch, i):\n",
        "  percentDont = (DS_W/i) * 100\n",
        "  percentSwitch = (S_W/i) * 100\n",
        "  results = {'Wins Not Switching': DS_W,\n",
        "            'Percentage Wins Not Switching': percentDont,\n",
        "              'Wins Switching': S_W,\n",
        "              'Percentage Wins Switching': percentSwitch\n",
        "            }\n",
        "  game_table = pd.DataFrame(data=results, index=[1]).T\n",
        "  game_table.columns = ['Results']\n",
        "  display(game_table)\n",
        "\n",
        "\n",
        "  #PLOT WINS FOR SWITCHING AND NOT AGAINST NUMBER OF GAMES\n",
        "  dims =(10.7, 7.27)\n",
        "  fig, ax = plt.subplots(figsize=dims)\n",
        "  plt.xlabel('Number of Games')\n",
        "  plt.ylabel('Number of Wins')\n",
        "  switchPlot = pd.DataFrame(switch, length, [\"Wins Switching\"])\n",
        "  dontPlot = pd.DataFrame(dont)\n",
        "  switchPlot.insert(0, \"Wins Not Switching\", dontPlot, True)\n",
        "  sns.lineplot(ax=ax, data = switchPlot, markers=False)"
      ],
      "execution_count": null,
      "outputs": []
    },
    {
      "cell_type": "markdown",
      "metadata": {
        "id": "7FdsTz0sAxl7",
        "colab_type": "text"
      },
      "source": [
        "### Running the Monty Hall Simulation"
      ]
    },
    {
      "cell_type": "code",
      "metadata": {
        "id": "cUkLqYne7oLQ",
        "colab_type": "code",
        "colab": {
          "base_uri": "https://localhost:8080/",
          "height": 650
        },
        "outputId": "02835f25-5f7a-4e8a-9607-5efd67b8945f"
      },
      "source": [
        "DS_W, S_W, dont, length, switch, i = MontyHall(1000)\n",
        "PlotMontyHall(DS_W, S_W, dont, length, switch, i)"
      ],
      "execution_count": null,
      "outputs": [
        {
          "output_type": "display_data",
          "data": {
            "text/html": [
              "<div>\n",
              "<style scoped>\n",
              "    .dataframe tbody tr th:only-of-type {\n",
              "        vertical-align: middle;\n",
              "    }\n",
              "\n",
              "    .dataframe tbody tr th {\n",
              "        vertical-align: top;\n",
              "    }\n",
              "\n",
              "    .dataframe thead th {\n",
              "        text-align: right;\n",
              "    }\n",
              "</style>\n",
              "<table border=\"1\" class=\"dataframe\">\n",
              "  <thead>\n",
              "    <tr style=\"text-align: right;\">\n",
              "      <th></th>\n",
              "      <th>Results</th>\n",
              "    </tr>\n",
              "  </thead>\n",
              "  <tbody>\n",
              "    <tr>\n",
              "      <th>Wins Not Switching</th>\n",
              "      <td>361.0</td>\n",
              "    </tr>\n",
              "    <tr>\n",
              "      <th>Percentage Wins Not Switching</th>\n",
              "      <td>36.1</td>\n",
              "    </tr>\n",
              "    <tr>\n",
              "      <th>Wins Switching</th>\n",
              "      <td>639.0</td>\n",
              "    </tr>\n",
              "    <tr>\n",
              "      <th>Percentage Wins Switching</th>\n",
              "      <td>63.9</td>\n",
              "    </tr>\n",
              "  </tbody>\n",
              "</table>\n",
              "</div>"
            ],
            "text/plain": [
              "                               Results\n",
              "Wins Not Switching               361.0\n",
              "Percentage Wins Not Switching     36.1\n",
              "Wins Switching                   639.0\n",
              "Percentage Wins Switching         63.9"
            ]
          },
          "metadata": {
            "tags": []
          }
        },
        {
          "output_type": "display_data",
          "data": {
            "image/png": "[encoded data removed]",
            "text/plain": [
              "<Figure size 770.4x523.44 with 1 Axes>"
            ]
          },
          "metadata": {
            "tags": []
          }
        }
      ]
    },
    {
      "cell_type": "markdown",
      "metadata": {
        "id": "WmBmTC7hFVb1",
        "colab_type": "text"
      },
      "source": [
        "## Results"
      ]
    },
    {
      "cell_type": "markdown",
      "metadata": {
        "id": "bLUVudKdExnQ",
        "colab_type": "text"
      },
      "source": [
        "These are the expected results.  For those who want more convincing, simply run the simulation more times.  It was left at one thousand so their would be identifiable variability in the plot, but this simulation finishes fast into the hundreds of thousands or millions of iterations.\n",
        "\n",
        "The only difference however, is how closely it converges on the exact right answer of 1/3 win percentage for not switching, and 2/3 win percentage for switching."
      ]
    }
  ]
}