{
  "nbformat": 4,
  "nbformat_minor": 0,
  "metadata": {
    "colab": {
      "name": "Penney's Game Strategies and Analysis.ipynb",
      "provenance": [],
      "collapsed_sections": [
        "7jbPtVECs6ti"
      ],
      "toc_visible": true,
      "include_colab_link": true
    },
    "kernelspec": {
      "name": "python3",
      "display_name": "Python 3"
    }
  },
  "cells": [
    {
      "cell_type": "markdown",
      "metadata": {
        "id": "view-in-github",
        "colab_type": "text"
      },
      "source": [
        "<a href=\"https://colab.research.google.com/github/anthonymelson/portfolio/blob/master/Penney's_Game_Strategies_and_Analysis.ipynb\" target=\"_parent\"><img src=\"https://colab.research.google.com/assets/colab-badge.svg\" alt=\"Open In Colab\"/></a>"
      ]
    },
    {
      "cell_type": "markdown",
      "metadata": {
        "id": "uXQVQQD2TBwt",
        "colab_type": "text"
      },
      "source": [
        "# **Introduction**"
      ]
    },
    {
      "cell_type": "markdown",
      "metadata": {
        "id": "2D1iyM6VTH8F",
        "colab_type": "text"
      },
      "source": [
        "This notebook was designed to explore Penney's Game in a way that students could understand, and experts could enjoy.  The hope is that it will be valuable for both, despite the fact that some concepts may be difficult for students and many descriptions will be unnecessarily simple for experts.\n",
        "\n",
        "This ambition was birthed from a combination of interest in the game, and a lack of careful explainations and finished implementations available online.  Hopefully, this will help fill that void.\n",
        "\n",
        "It covers many aspects of the game: its origin, how it is played, why it is counter-intuitive to many, the math and proper intuitions needed to understand it, optimal strategies, and several solutions for it.\n",
        "\n",
        "For those who are either well versed in the game, uniterested in an inutitive understanding, or are only interested in the Python implementations of the solutions: **feel free to go strait to the end**.\n",
        "\n",
        "However, those who are interested in counter-intuitive mathematical results or want to see math from multiple disciplines applied to a strange game, **start at the begining, and enjoy!**"
      ]
    },
    {
      "cell_type": "markdown",
      "metadata": {
        "id": "AxmFrtyoiq5S",
        "colab_type": "text"
      },
      "source": [
        "# **1) Background**"
      ]
    },
    {
      "cell_type": "markdown",
      "metadata": {
        "id": "RzeIFF4NbdtL",
        "colab_type": "text"
      },
      "source": [
        "![Walter Penney](https://drive.google.com/uc?id=1sDIHbksAFqhbr1YLSy-6d20JRS493Fmc) \n",
        "\n",
        "**Walter Penney** \n",
        "\n",
        "\n",
        "---\n",
        "\n",
        "\n",
        "\n",
        "While working at NASA in the 1969, Walter Penney discovered a counter-intuitive result of probability theory and pattern matching.  He introduced this concept in *Problem 95: Penney's Ante* in 1974, with a simple coin flipping game called Penney's Game.\n",
        "\n",
        "Shortly after, his game was featured in Martin Gardner's *Mathematical Games* column in *Scientific American*--gaining it a great deal of exposure and interest.  Since, his game has consistently challenged the standard expectations and assumptions of lay people and mathematicians alike, and even drawn the attention of mathematical greats like John Conway.\n",
        "\n",
        "Through this game, he showed, in contradiction to usual assumptions about probabilities, that **specific sequences (say HHT or HHH) are not equally likely to appear first in a series of coin flips**.  Furthermore, that the advantage of various sequences over one another are *intransitive*, meaning that **the dominance of sequences not strictly hierachical**.\n",
        "\n",
        "To better understand why this has been so interesting, and how it is possible, one must first understand:\n",
        "\n",
        "1.   What Penney's Game is\n",
        "2.   How joint probabilities work and are often improperly applied to Penney's Game\n",
        "3.   What intransitivity is, and how assuming transitive relations leads to confusion in Penney's Game\n",
        "\n",
        "Once these crucial components of the game are examined, proposed strategies and solutions can be reviewed, along with their implementations in python.\n",
        "\n",
        "\n",
        "\n"
      ]
    },
    {
      "cell_type": "markdown",
      "metadata": {
        "id": "B-T25wuJDF7x",
        "colab_type": "text"
      },
      "source": [
        "#**2) How Penney's Game Works, and the Intuitions Behind It**"
      ]
    },
    {
      "cell_type": "markdown",
      "metadata": {
        "id": "9CLvDCTonuwC",
        "colab_type": "text"
      },
      "source": [
        "## **What is Penney's Game**"
      ]
    },
    {
      "cell_type": "markdown",
      "metadata": {
        "id": "7jbPtVECs6ti",
        "colab_type": "text"
      },
      "source": [
        "![Sequence of Flips Vs Another](https://drive.google.com/uc?id=1NSG5XTENYzlpYDNRxMxCG7Cp5gl0miEe)\n",
        "\n",
        "**Player 1 Sequence Vs. Player 2 Sequence**\n",
        "\n",
        "\n",
        "---\n",
        "\n",
        "\n",
        "\n",
        "Penney's Game is a two player coin flipping game.  Player one starts by selecting a sequence of outcomes (for example, heads, heads, tails (HHT)) of lenght N, then, after seeing player 1's selection, player two does the same.\n",
        "\n",
        "\n",
        "Next, a coin is repeatedly flipped until one of the two players' sequences matches the last N results, at which point, that player wins and the game is over.  For instance:\n",
        "\n",
        "**Player Choices:**\n",
        "\n",
        "Player 1: $THT$\n",
        "\n",
        "Player 2: $HHT$\n",
        "\n",
        "**Sequence of Flips:**    $HTT\\color{blue}{HHT}$\n",
        "\n",
        "with Player 2 winning.\n",
        "\n",
        "The average results of simulating the game above 1000 times (with code that will be given later) provides a slightly better understanding.  First, a simulation needs to be written, which will be used throughout this notebook.  For now, it will simply be shown, but will be described in further detail in the solutions section, as it is a way to build reasonably accurate strategies in the game.\n",
        "\n",
        "\n",
        "\n",
        "\n",
        "\n",
        "\n"
      ]
    },
    {
      "cell_type": "code",
      "metadata": {
        "id": "3Nsy6Ty2y8Oe",
        "colab_type": "code",
        "cellView": "both",
        "colab": {}
      },
      "source": [
        "import random\n",
        "def PenneysGame(P1, P2, iterations):\n",
        "    i = 0\n",
        "    length = []\n",
        "    P1_Wins = 0\n",
        "    P2_Wins = 0\n",
        "    while i < iterations:\n",
        "        satisfied = False\n",
        "        string = ''\n",
        "        \n",
        "        while satisfied == False:\n",
        "              choice = random.choice(['T','H'])\n",
        "              string = string + choice\n",
        "              \n",
        "              if string.endswith(P1):\n",
        "                  length.append(len(string))\n",
        "                  satisfied = True\n",
        "                  i = i + 1\n",
        "                  P1_Wins += 1\n",
        "            \n",
        "              if string.endswith(P2):\n",
        "                  length.append(len(string))\n",
        "                  satisfied = True\n",
        "                  i = i + 1\n",
        "                  P2_Wins += 1\n",
        "    \n",
        "    avg_length = sum(length)/iterations\n",
        "    print('')\n",
        "    print('Avg Number of Flips/Game:', avg_length)\n",
        "    print('')\n",
        "    print('Player1 Sequence:', P1)\n",
        "    print('Player1 Total Wins:', P1_Wins)\n",
        "    print('Player1 Win %:', P1_Wins/iterations)\n",
        "    print('')\n",
        "    print('Player2 Sequence:', P2)\n",
        "    print('Player2 Total Wins:', P2_Wins)\n",
        "    print('Player2 Win %:', P2_Wins/iterations) "
      ],
      "execution_count": 0,
      "outputs": []
    },
    {
      "cell_type": "markdown",
      "metadata": {
        "id": "8cf3OlqPb88k",
        "colab_type": "text"
      },
      "source": [
        "Now, $THT$ vs $HHT$:"
      ]
    },
    {
      "cell_type": "code",
      "metadata": {
        "id": "tEXkXED91bKg",
        "colab_type": "code",
        "outputId": "47bc4d87-fdfe-4532-8cca-86dee0fa7e6b",
        "colab": {
          "base_uri": "https://localhost:8080/",
          "height": 187
        }
      },
      "source": [
        "PenneysGame('THT', 'HHT', 1000)"
      ],
      "execution_count": 0,
      "outputs": [
        {
          "output_type": "stream",
          "text": [
            "\n",
            "Avg Number of Flips/Game: 4.984\n",
            "\n",
            "Player1 Sequence: THT\n",
            "Player1 Total Wins: 377\n",
            "Player1 Win %: 0.377\n",
            "\n",
            "Player2 Sequence: HHT\n",
            "Player2 Total Wins: 623\n",
            "Player2 Win %: 0.623\n"
          ],
          "name": "stdout"
        }
      ]
    },
    {
      "cell_type": "markdown",
      "metadata": {
        "id": "y6OGUnj61Z4e",
        "colab_type": "text"
      },
      "source": [
        "This simulation shows that $THT$ vs $HHT$ is converging on a 2 to 1 advantage in favor of player 2 (HHT), which is much different than most players' expectations (usually equal likelihood).\n",
        "\n",
        "Now that the game is clear, lets examine the assumptions that make the game so counter-intuitive and how they relate to the game."
      ]
    },
    {
      "cell_type": "markdown",
      "metadata": {
        "id": "mq0ChbTmngI3",
        "colab_type": "text"
      },
      "source": [
        "## **Joint Probabilities**"
      ]
    },
    {
      "cell_type": "markdown",
      "metadata": {
        "id": "XWoLe3FGmRI6",
        "colab_type": "text"
      },
      "source": [
        "![alt text](https://drive.google.com/uc?id=1WnAKyrycBF1fpjfGLZbGECWg_wduIpu6)\n",
        "\n",
        "**Joint Probability Shown as Union of Two Sets Inside a Sample Space**\n",
        "\n",
        "---\n",
        "\n",
        "A joint probability is the likelihood that multiple events (like $A$ and $B$ in the chart above or **Heads** and **Tails** in two coin flips) will all occur.  There are two key properties of the joint probabilities of coin flips that must be clarified to understand why Penney's Game works against normal intuitions about probabilities:\n",
        "\n",
        "\n",
        "*   **Coin flips are independent**.  Meaning that the probability of a specific outcome occuring is *not* affected by the result of previous flips (if we get 10 heads in a row, the next flip will still have a 50/50 chance of being heads or tails).\n",
        "\n",
        "*   **Conditional probabilities are calculated by taking the product of the probability of all the joined events**, expressed mathematically as:\n",
        "\n",
        "$P(A \\cap B \\cap ...N) = (P_{A} * P_{B}$ $*$ $...P_{n})$ \n",
        "\n",
        "where $\\cap$ is *union* (like 'AND', but for sets), ($A,B,...N$) are events, and ($P_{A},P_{B}...P_{N}$) are their corresponding probabilities.  Which, in the case of two coin flips, becomes:\n",
        "\n",
        "$P(H \\cap T) = 0.5 * 0.5 = 0.25$\n",
        "\n",
        "\n"
      ]
    },
    {
      "cell_type": "markdown",
      "metadata": {
        "id": "JPwFukBlc1aO",
        "colab_type": "text"
      },
      "source": [
        "### **Joint Probabilities and Penney's Game**"
      ]
    },
    {
      "cell_type": "markdown",
      "metadata": {
        "id": "f9UXgKVLcxZP",
        "colab_type": "text"
      },
      "source": [
        "Though these rules are highly reliable, they drive intuitions about Penney's Game that lead to misunderstanding and confusion.  When first confronted with Penney's Game, most people, even those well versed in mathematics, tend to assume that since the coin flips are independent, the likelihood of a given 3-gram (i.e. string of length 3) has a:\n",
        "\n",
        "$P(H \\cap T \\cap H) = 0.5 * 0.5 * 0.5 = 0.125 = 1/8$\n",
        "\n",
        "chance of coming up first.\n",
        "\n",
        "**The deceptive part of Penney's Game comes from it being a race (or a \"first past the post game\")**, where the string continues to get longer until there is a winner.  So, though each player has an equal chance (1/8) of winning *in the first three flips*, there is only a \n",
        "\n",
        "$1/8 + 1/8 = 1/4$\n",
        "\n",
        "chance that either will do so.  Since there is still a \n",
        "\n",
        "$1 - 1/4 = 3/4$\n",
        "\n",
        "chance that the game will go on, the probabilities of winning in subsequent rounds is not bound to the equations above, which will be analyzed in further detail below.\n",
        "\n",
        "But first, what are transitivity and intransitivity, and how do they relate to Penney's Game?"
      ]
    },
    {
      "cell_type": "markdown",
      "metadata": {
        "id": "0ZHXmVWYnNFK",
        "colab_type": "text"
      },
      "source": [
        "## **Transitivity, Intransitivity, and Penney's Game**\n",
        "\n"
      ]
    },
    {
      "cell_type": "markdown",
      "metadata": {
        "id": "UX_MLmo4r0Qk",
        "colab_type": "text"
      },
      "source": [
        "### **Transitivity**"
      ]
    },
    {
      "cell_type": "markdown",
      "metadata": {
        "id": "gbHqiqsbsEwV",
        "colab_type": "text"
      },
      "source": [
        "Transitivity is a property of relations between elements or sets where **a** relating to **b**, and **b** relating to **c**, necessitates that **a** relates to **c**.  This can be expressed mathematically as:\n",
        "\n",
        "${\\displaystyle \\forall a,b,c\\in X:(aRb\\wedge bRc)\\Rightarrow aRc,}$\n",
        "\n",
        "where $R$ is a relation between the elements $(a,b,c)$.\n",
        "\n",
        "For example, if Frank's house is bigger than Joe's, and Joe's house is bigger than Steve's, it seems obvious that Frank's house must be bigger than Steve's.  Simply put:\n",
        "\n",
        "$SH < JH < FH$\n",
        "\n",
        "thus\n",
        "\n",
        "$SH < FH$\n",
        "\n",
        "In this case, everything goes well, and it is obvious that this system of relations (house size) *is* transitive.\n",
        "\n",
        "However, not all systems of relations have this property (like Penney's Game), which can often lead to confusion.\n"
      ]
    },
    {
      "cell_type": "markdown",
      "metadata": {
        "id": "E_2QexxMuxns",
        "colab_type": "text"
      },
      "source": [
        "### **Intransitivity**"
      ]
    },
    {
      "cell_type": "markdown",
      "metadata": {
        "id": "ALB4ikoqUcic",
        "colab_type": "text"
      },
      "source": [
        "![alt text](https://drive.google.com/uc?id=1879BreKqdVHu-AN8YONF9i1wB_FdGF35)\n",
        "\n",
        "---\n",
        "\n",
        "Intransitivity is when the relations between elements lacks the property of transitivity.  Mathematically, intransitivity can be expressed as:\n",
        "\n",
        "$ \\neg(\\forall a, b, c : a R b \\land b R c \\implies a R c) $\n",
        "\n",
        "where R is a relation between the binary elements (a,b,c), which means that **if a is related to b and b is related to c, it *does not* imply that a is related to c**.  This allows for relations like:\n",
        "\n",
        "$A < B < C < A$\n",
        "\n",
        "which defy our usual intuitions that systems are transitive, as it seems illogical that:\n",
        "\n",
        "$A < B < C$ \n",
        "\n",
        "while:\n",
        "\n",
        "$A \\nless C$\n",
        "\n",
        "and suggests that A is both *greater* than and *less* than C simultaneously.\n",
        "\n",
        "Although this should suffice, it may help some who are new to this concept to look at it through the lens of something familiar.  Rock, paper, scissors work well for them.\n",
        "\n",
        "\n",
        "\n"
      ]
    },
    {
      "cell_type": "markdown",
      "metadata": {
        "id": "nYEGUkHXb-MF",
        "colab_type": "text"
      },
      "source": [
        "### **Intransitivity in Rock, Paper, Scissors**\n",
        "\n",
        "![Rock, Paper, Scissors Cycle](https://drive.google.com/uc?id=1UvzWkgpfVxzxkybiQfT-anmSlfNd5Rkr)\n",
        "\n",
        "**Cycle of Intransitivity in Rock, Paper, Scissors**)\n",
        "\n",
        "\n",
        "---\n",
        "\n",
        "\n"
      ]
    },
    {
      "cell_type": "markdown",
      "metadata": {
        "id": "G_255eSqb6Oi",
        "colab_type": "text"
      },
      "source": [
        "To further clarify this concept, it helps to look at the simple and commonly known example of rock, paper, scissors.  In this game:\n",
        "\n",
        "\n",
        "*   Rock beats Scissors   ($ rock R scissors$)\n",
        "*   Scissors beats Paper  ($ scissors R paper$)\n",
        "*   Paper beats Rock      ($paper R rock$)\n",
        "\n",
        "which satisfies the definition above where rock is a, scissors is b, and paper is c.  Put in simpler terms:\n",
        "\n",
        "$...Rock < Paper < Scissors < Rock ...$\n",
        "\n",
        "The races between possible sequences in Penney's Game are very similar to the battle between choices in rock, paper, scissors.  There are only a few differences:\n",
        "\n",
        "\n",
        "1.   **Penney's Game is probabilistic, not deterministic**. The advantage of one selection over the other doesn't guarentee victory (like rock over scissors), but merely secures a higher chance of victory (like 2 to 1 odds in favor of HHT over HTT).\n",
        "\n",
        "2.  **Penney's Game is a pattern matching game**.  While rock, paper, scissors compares the players' selections with each other to determine dominance, Penney's Game is about how well the players' selected strings match the sting emerges from the coin flips.\n",
        "\n",
        "3.   **Penney's Game is sequential, not simultaneous**.  In rock, paper, scissors, both players make thier selections at the same time, where one goes after the other in Penney's Game.  Though it would still be intransitive without this property, it has an enormous affect of strategies.\n"
      ]
    },
    {
      "cell_type": "markdown",
      "metadata": {
        "id": "qKSP8kcgbtj_",
        "colab_type": "text"
      },
      "source": [
        "###**Intransitivity in Penney's Game**"
      ]
    },
    {
      "cell_type": "markdown",
      "metadata": {
        "id": "IZm1BvS2bmV9",
        "colab_type": "text"
      },
      "source": [
        "\n",
        "Like rock, paper, scissors, **every possible selection in Penney's Game is dominated by at least one other possible selection**.  For instance, in Penney's Game:\n",
        "\n",
        "$TTH < HTT < HHT < THH < TTH$\n",
        "\n",
        "creating the same type of intransitive loop found in the previous examples.  An even fuller picture of the relations in Penney's Game can be taken from the chart below:\n",
        "\n",
        "![Graph Showing Intransitivity](https://drive.google.com/uc?id=1smNlQG70VTpL-1Yi2NXkGK28M3kHZGEH)\n",
        "\n",
        "\n",
        "Where arrows represent dominance of a strategy at its origin over the strategy at its end, and the fractions represent how often they are expected to win.  This not only shows that dominance of strategies are intransitive, but also that the advantage specific strings have over one another varies greatly."
      ]
    },
    {
      "cell_type": "markdown",
      "metadata": {
        "id": "UUugExTTbUuW",
        "colab_type": "text"
      },
      "source": [
        "### **Simulating Intransitivity in Penney's Game**"
      ]
    },
    {
      "cell_type": "markdown",
      "metadata": {
        "id": "Ru55DWQiYks_",
        "colab_type": "text"
      },
      "source": [
        "To support these probabilities, and show that selections in Penney's Game are in fact intransitive, a series of simulations will be run.  One string will be chosen for player 1 to start, and player two will play optimal strategy (which will be shown later) in response.  \n",
        "\n",
        "Then, the winner of that match will be played by player 1, and player 2 will play optimal strategy.  This will continue until a loop is created and intransitivity is shown to be a property of Penney's Game.\n",
        "\n",
        "Arrows and strings ($XXX \\rightarrow YYY$), will be used along the way to designate dominance of the prior string $(XXX)$ over the latter $(YYY)$. \n",
        "\n",
        "Starting with:\n",
        "\n",
        "$HHT$ vs $THH$"
      ]
    },
    {
      "cell_type": "code",
      "metadata": {
        "id": "aRRYMZbEVd8a",
        "colab_type": "code",
        "outputId": "3d14f114-29d3-4e5d-c927-699d3f5c5fbe",
        "colab": {
          "base_uri": "https://localhost:8080/",
          "height": 187
        }
      },
      "source": [
        "PenneysGame('HHT', 'THH', 1000)"
      ],
      "execution_count": 0,
      "outputs": [
        {
          "output_type": "stream",
          "text": [
            "\n",
            "Avg Number of Flips/Game: 6.519\n",
            "\n",
            "Player1 Sequence: HHT\n",
            "Player1 Total Wins: 262\n",
            "Player1 Win %: 0.262\n",
            "\n",
            "Player2 Sequence: THH\n",
            "Player2 Total Wins: 738\n",
            "Player2 Win %: 0.738\n"
          ],
          "name": "stdout"
        }
      ]
    },
    {
      "cell_type": "markdown",
      "metadata": {
        "id": "kmUTwFy9aTyT",
        "colab_type": "text"
      },
      "source": [
        "THH wins, thus:\n",
        "\n",
        "$THH \\rightarrow HHT$\n",
        "\n",
        "Now:\n",
        "\n",
        "$THH$ vs $TTH$"
      ]
    },
    {
      "cell_type": "code",
      "metadata": {
        "id": "EmJ9KtQJYWBX",
        "colab_type": "code",
        "outputId": "95670110-7587-4387-9100-dd54e9de9766",
        "colab": {
          "base_uri": "https://localhost:8080/",
          "height": 187
        }
      },
      "source": [
        "PenneysGame('THH', 'TTH', 1000)\n"
      ],
      "execution_count": 0,
      "outputs": [
        {
          "output_type": "stream",
          "text": [
            "\n",
            "Avg Number of Flips/Game: 5.346\n",
            "\n",
            "Player1 Sequence: THH\n",
            "Player1 Total Wins: 357\n",
            "Player1 Win %: 0.357\n",
            "\n",
            "Player2 Sequence: TTH\n",
            "Player2 Total Wins: 643\n",
            "Player2 Win %: 0.643\n"
          ],
          "name": "stdout"
        }
      ]
    },
    {
      "cell_type": "markdown",
      "metadata": {
        "id": "FucyDb88a382",
        "colab_type": "text"
      },
      "source": [
        "TTH wins, thus:\n",
        "\n",
        "$TTH \\rightarrow THH \\rightarrow HHT$\n",
        "\n",
        "Now:\n",
        "\n",
        "$TTH$ vs $HTT$"
      ]
    },
    {
      "cell_type": "code",
      "metadata": {
        "id": "R-FwBwGiYXG8",
        "colab_type": "code",
        "outputId": "af504554-4d76-4fae-ac97-944fdddf7cc5",
        "colab": {
          "base_uri": "https://localhost:8080/",
          "height": 187
        }
      },
      "source": [
        "PenneysGame('TTH', 'HTT', 1000)"
      ],
      "execution_count": 0,
      "outputs": [
        {
          "output_type": "stream",
          "text": [
            "\n",
            "Avg Number of Flips/Game: 6.426\n",
            "\n",
            "Player1 Sequence: TTH\n",
            "Player1 Total Wins: 250\n",
            "Player1 Win %: 0.25\n",
            "\n",
            "Player2 Sequence: HTT\n",
            "Player2 Total Wins: 750\n",
            "Player2 Win %: 0.75\n"
          ],
          "name": "stdout"
        }
      ]
    },
    {
      "cell_type": "markdown",
      "metadata": {
        "id": "B3CsJdHBbF4j",
        "colab_type": "text"
      },
      "source": [
        "HTT wins, thus:\n",
        "\n",
        "$HTT \\rightarrow TTH \\rightarrow THH \\rightarrow HHT$\n",
        "\n",
        "Now:\n",
        "\n",
        "$HTT$ vs $HHT$"
      ]
    },
    {
      "cell_type": "code",
      "metadata": {
        "id": "eEwVrZkTYXlY",
        "colab_type": "code",
        "outputId": "7c488d23-23b7-4754-e54f-9d680842a578",
        "colab": {
          "base_uri": "https://localhost:8080/",
          "height": 187
        }
      },
      "source": [
        "PenneysGame('HTT', 'HHT', 1000)"
      ],
      "execution_count": 0,
      "outputs": [
        {
          "output_type": "stream",
          "text": [
            "\n",
            "Avg Number of Flips/Game: 5.222\n",
            "\n",
            "Player1 Sequence: HTT\n",
            "Player1 Total Wins: 330\n",
            "Player1 Win %: 0.33\n",
            "\n",
            "Player2 Sequence: HHT\n",
            "Player2 Total Wins: 670\n",
            "Player2 Win %: 0.67\n"
          ],
          "name": "stdout"
        }
      ]
    },
    {
      "cell_type": "markdown",
      "metadata": {
        "id": "9P-3bAZbbV0W",
        "colab_type": "text"
      },
      "source": [
        "HHT wins, thus:\n",
        "\n",
        "$\\color{blue}{HHT} \\rightarrow HTT \\rightarrow TTH \\rightarrow THH \\rightarrow$ $\\color{blue}{HHT}$\n",
        "\n",
        "Which creates a full loop from $HHT$ back to itself.\n",
        "\n",
        "With the basics out of the way, it is safe to ask: given that Penney's Game is counter-intuitive and intransitive, can its results be intuitively and/or mathematically understood?  The answer is yes for both.  However, it's complexity requires that they be done separately, and it is best to start with the intuition."
      ]
    },
    {
      "cell_type": "markdown",
      "metadata": {
        "id": "pwF0YUfEm_sD",
        "colab_type": "text"
      },
      "source": [
        "## **Intuitive Understanding of the Paradox?**"
      ]
    },
    {
      "cell_type": "markdown",
      "metadata": {
        "id": "jsmlR1MnIkwj",
        "colab_type": "text"
      },
      "source": [
        "### **Penney's Game as a Directed Graph**"
      ]
    },
    {
      "cell_type": "markdown",
      "metadata": {
        "id": "tunthZNpc3Vv",
        "colab_type": "text"
      },
      "source": [
        "\n",
        "![alt text](https://drive.google.com/uc?id=1txeI01GEs_isLrOXbLvZkySO4hWJNK4H)\n",
        "\n",
        "**Penney's Game Represented as a Directed Graph**\n",
        "\n",
        "\n",
        "---\n",
        "\n",
        "\n",
        "\n",
        "A closer look at sequences and how they compare to one another can build an intuition about why differing selections create intransitive relationships between strategies.  The graph above is an example of Penney's Game represented as a directed graph, where the nodes represent possible states of the game, and the arrows represent possible transitions from one state to another in the direction of the arrows.\n",
        "\n",
        "This graph clarifies a few key points about how the game works:\n",
        "\n",
        "1.   States can repeat.  When the next character in a players sequence does not occur, they do not always have to start over.\n",
        "2.   Thier are cases where a player can end up *behind* the other."
      ]
    },
    {
      "cell_type": "markdown",
      "metadata": {
        "id": "HDZ1Oz1vdHh9",
        "colab_type": "text"
      },
      "source": [
        "### **Analyzing a Concrete Case**"
      ]
    },
    {
      "cell_type": "markdown",
      "metadata": {
        "id": "Bg0BtBc1geUp",
        "colab_type": "text"
      },
      "source": [
        "To emphasize the observations taken from the directed graph, one can take the concrete case of HTT vs TTH.\n",
        "\n",
        "If player 1 chooses 'HTT', and '**HT**H' comes up in the first three flips, then player 1 already has their first character 'H', thus they go back to '**H**TT' and only need 'TT' as opposed to 'HTT' to win.  Meaning, they lose less ground in the race than thier opponent.  Expressed visually:\n",
        "\n",
        "**Player 1**:\n",
        "\n",
        "$XX{\\color{blue}H}{\\color{blue}T}{\\color{blue}T}$ (completed)\n",
        "\n",
        "**Outcome of Flips**:\n",
        "\n",
        "$HT{\\color{blue}H}{\\color{blue}T}{\\color{blue}T}$\n",
        "\n",
        "which differs greatly from,\n",
        "\n",
        "**Player 2**:\n",
        "\n",
        "$XXX{\\color{blue}T}{\\color{blue}T}{\\color{red}H}$ (not completed)\n",
        "\n",
        "**Outcome of Flips**:\n",
        "\n",
        "$HT{\\color{red}H}{\\color{blue}T}{\\color{blue}T}$\n",
        "\n",
        "In this case it's clear that since player 2 chose 'TTH', anytime an 'H' comes along without winning the game for them, that 'H' becomes the first part of player 1's 'HTT', placing them one step ahead of player 2.  \n",
        "\n",
        "Furthermore, since the last two characters in 'HTT' are the first two characters in 'TTH', securing them after an 'H' wins the game for 'HTT'.  This means that **any 'H' that does not win the game of 'TTH', secures the game for 'HTT'**.\n",
        "\n",
        "Thus the chances of 'TTH' winning, reduces to the probability of the game starting with **two or more T's**, such as:\n",
        "\n",
        "$(TTH, TTTH, TTTTH, ...,T...H)$\n"
      ]
    },
    {
      "cell_type": "markdown",
      "metadata": {
        "id": "UUgaxC4yjcMl",
        "colab_type": "text"
      },
      "source": [
        "#### **Viewed as a Geometric Series**"
      ]
    },
    {
      "cell_type": "markdown",
      "metadata": {
        "id": "jy3Kio9ye0tu",
        "colab_type": "text"
      },
      "source": [
        "The sum of probabilities of these occuring can be expressed as the geometric series:\n",
        "\n",
        "$1/8 + 1/16 + 1/32 + ... =\n",
        "\\begin{equation*} \n",
        "  \\sum_{n=3}^{\\infty} \\left(\\frac{1}{2}\\right)^n\n",
        "\\end{equation*}$\n",
        "\n",
        "which gives:\n",
        "\n",
        "$\\frac{\\frac{1}{8}}{1-\\frac{1}{2}}=\\frac{1}{4}$\n",
        "\n",
        "an can be confirmed by:"
      ]
    },
    {
      "cell_type": "code",
      "metadata": {
        "id": "z-CFRnar_4MU",
        "colab_type": "code",
        "outputId": "8cd8310a-fe49-44d4-ef73-f079c3829e91",
        "colab": {
          "base_uri": "https://localhost:8080/",
          "height": 34
        }
      },
      "source": [
        "prob = ((1/8)/(1-(1/2)))\n",
        "print(prob)"
      ],
      "execution_count": 0,
      "outputs": [
        {
          "output_type": "stream",
          "text": [
            "0.25\n"
          ],
          "name": "stdout"
        }
      ]
    },
    {
      "cell_type": "markdown",
      "metadata": {
        "id": "UXiFkV5x_4od",
        "colab_type": "text"
      },
      "source": [
        "It's nice to finally have some math that works, but this would be a lot of work for long strings.  It must be asked: is there a simpler, more intuitive way to understand this example?  The answer is yes."
      ]
    },
    {
      "cell_type": "markdown",
      "metadata": {
        "id": "NWFjbe5XjUaJ",
        "colab_type": "text"
      },
      "source": [
        "#### **Viewed as a Joint Probability**"
      ]
    },
    {
      "cell_type": "markdown",
      "metadata": {
        "id": "JyIBDZ2SevL3",
        "colab_type": "text"
      },
      "source": [
        "If this example is examamined a little closer, it is clear that 'TTH' cannot lose when the game starts with 2 T's either.  Thus, the chances of 'TTH' winning can be **futher reduced to the probability of the game starting with at least** two T's, which can be expressed as the joint probability of 2 T's:\n",
        "\n",
        " $P(TT) = P(T) * P(T)$\n",
        "\n",
        " or\n",
        "\n",
        " $P(TT) = 0.5 * 0.5 = 0.25$\n",
        "\n",
        "\n",
        "making, by compliment, the probability of 'HTT' winning:\n",
        "\n",
        "$(1 - (P(T) * P(T)))$\n",
        "\n",
        "or\n",
        "\n",
        "$(1 - (0.5 * 0.5)) = 0.75$\n",
        "\n",
        "again giving 'TTH' a 1/4 chance of winning, but in a simpler and more intuitive way."
      ]
    },
    {
      "cell_type": "markdown",
      "metadata": {
        "id": "LZUWUzV5jYTL",
        "colab_type": "text"
      },
      "source": [
        "#### **Summary of Intuitions**"
      ]
    },
    {
      "cell_type": "markdown",
      "metadata": {
        "id": "_DFSOA83eok2",
        "colab_type": "text"
      },
      "source": [
        "This provides three key takeaways:\n",
        "1.  Provides a reliable intuitive understanding of the game.\n",
        "2.  It shows *a* proper use of joint probabilities in the race senario.\n",
        "3.  It shows that understanding Penney's Game is a matter of understanding the way different sequences compare to one another and how that affects the probabilities as a chain of events.\n",
        "\n",
        "However, this is only one case.  Generalizing these intuitions will require proven methods (which will be covered later).  However, the bridge between the two is best built by looking at optimal strategies for the players."
      ]
    },
    {
      "cell_type": "markdown",
      "metadata": {
        "id": "g3y3_Kx_iad7",
        "colab_type": "text"
      },
      "source": [
        "# **3) Optimal Strategies**\n"
      ]
    },
    {
      "cell_type": "markdown",
      "metadata": {
        "id": "XkJJDtjGeaHo",
        "colab_type": "text"
      },
      "source": [
        "### **Optimal Strategy for Player 2**"
      ]
    },
    {
      "cell_type": "markdown",
      "metadata": {
        "id": "fGLenmhLeVse",
        "colab_type": "text"
      },
      "source": [
        "![Optimal Choices for B Given A and Payouts](https://drive.google.com/uc?id=1IZcieOn03DNYDs8yt_RCI2m1V1fAwiYQ)\n",
        "\n",
        "**Optimal Choices for Second Player and Odds**\n",
        "\n",
        "\n",
        "---\n",
        "\n",
        "\n",
        "The table above shows each option for player 1 (A), the optimal selection for player 2 (B), given player 1's selection, and the odds in favor of player 2 (B).  It shows that **there are no possible selections available to the first player that are not dominated by a possible selection of the second player**.\n",
        "The optimal strategy for the second player in the three character game is simple:\n",
        "1.  Take the opposite of the second character in the first players string (T**H**T) $\\rightarrow$ (**T**).  \n",
        "2.  Move it to the first position (**T**THT).\n",
        "3.  Drop the last letter (TTH**T**) $\\rightarrow$ (TTH).\n",
        "\n",
        "However, the game can be played with strings of any length.  However, there has been an optimal strategy proposed for games with selections longer than 3.  It's proponents show that it is optimal for the second player to choose the first k - 1 characters of player 1's selection and add the \"appropriate\" character on the front of it, where k is the lenght of the strings.  For instance:\n",
        "\n",
        "If player 1 selects: $HHTT$, then:\n",
        "\n",
        "1.  Player 2 starts with: Player 1's $First(k - 1) = HHT$\n",
        "\n",
        "2.  Puts an appropriate character (either $H$ or $T$) in position 1: $(HHT) + (H) \\rightarrow (HHHT)$ OR $(HHT) + (T) \\rightarrow (THHT)$\n",
        "\n",
        "This strategy maximizes the odds in favor of player 2 for games of all length, **but does not determine which of the two characters to select in step two**.  It can be determined by testing the two that $T$ is in fact the optimal selection in this case, but that can only be done post hoc.  Either way, this strategy is the best developed to date for player 2.\n",
        "\n",
        "But, what about the first player? Is there anything they can do to improve?  The answer is yes, but only for games of length 4 or longer."
      ]
    },
    {
      "cell_type": "markdown",
      "metadata": {
        "id": "h5cTuGIXeQNH",
        "colab_type": "text"
      },
      "source": [
        "### **Optimal Strategy for Player 1**"
      ]
    },
    {
      "cell_type": "markdown",
      "metadata": {
        "id": "iXB-acEXeMsm",
        "colab_type": "text"
      },
      "source": [
        "\n",
        "The strategy for player 1 in games length 4 or longer (found by Csirik) is to select a string that starts with H and ends with HH, where all the remaining characters are T's.  For example, in a game of lenght 5, player 1 would select:\n",
        "\n",
        "$HTTHH$\n",
        "\n",
        "and of length 6:\n",
        "\n",
        "$HTTTHH$\n",
        "\n",
        "and so on.  The goal of this strategy is not to win, but rather to minimize the odds that player 2 will win.  In fact, it limits them to:\n",
        "\n",
        "$(2^{k-1} + 1) / (2^{k-2} + 1)$ To $1$\n",
        "\n",
        "where k is the lenght of the sequences.  Which, for length 5 games, can be expressed as:"
      ]
    },
    {
      "cell_type": "code",
      "metadata": {
        "id": "ThjCkkDY5NeI",
        "colab_type": "code",
        "outputId": "ded58fc0-1417-42a1-dc80-356f1393ec48",
        "colab": {
          "base_uri": "https://localhost:8080/",
          "height": 91
        }
      },
      "source": [
        "k = 5\n",
        "\n",
        "# Calculate Odds of Winning\n",
        "Player2Max = (2**(k-1) + 1)/(2**(k-2) + 1)\n",
        "\n",
        "# divide odds by (1 + odds) to get probability of win for player 1 then subtract that from 1 for player 2\n",
        "Player2WinProb = 1 - ((1/Player2Max) / (1 + 1/Player2Max))\n",
        "\n",
        "print('Odds In Favor of Player 2:     ', Player2Max, 'To 1')\n",
        "print('Probability Player 2 Will Win: ', Player2WinProb)"
      ],
      "execution_count": 0,
      "outputs": [
        {
          "output_type": "stream",
          "text": [
            "Odds In Favor of Player 2:      1.8888888888888888 To 1\n",
            "Probability Player 2 Will Win:  0.6538461538461537\n"
          ],
          "name": "stdout"
        }
      ]
    },
    {
      "cell_type": "markdown",
      "metadata": {
        "id": "gyr_OARnEx9M",
        "colab_type": "text"
      },
      "source": [
        "Thus, according to Csirik's formula, this is the maximum advantage player 2 can have in a length 5 game, when player one uses this strategy.\n"
      ]
    },
    {
      "cell_type": "markdown",
      "metadata": {
        "id": "znhOeottfAAE",
        "colab_type": "text"
      },
      "source": [
        "### **Simulating Optimal Strategies Heads Up**"
      ]
    },
    {
      "cell_type": "markdown",
      "metadata": {
        "id": "knkSUnJxe9JY",
        "colab_type": "text"
      },
      "source": [
        "Now, the strategy and its proposed limit can be tested by running it against the optimal strategy for player 2.  In the case of k = 5, it will be:\n",
        "\n",
        "$HTTHH$ vs $THTTH$\n",
        "\n",
        "for players 1 and 2, respectively.  Which gives:"
      ]
    },
    {
      "cell_type": "code",
      "metadata": {
        "id": "gyb1HX-bFjFM",
        "colab_type": "code",
        "outputId": "803ca929-7d58-4967-c2ed-952d55cf45a3",
        "colab": {
          "base_uri": "https://localhost:8080/",
          "height": 374
        }
      },
      "source": [
        "PenneysGame('HTTHH', 'THTTH', 1000)\n",
        "conway('HTTHH', 'THTTH')"
      ],
      "execution_count": 0,
      "outputs": [
        {
          "output_type": "stream",
          "text": [
            "\n",
            "Average Number of Coin Flips Per Game: 23.59\n",
            "\n",
            "\n",
            "Avg Number of Flips/Game: 23.59\n",
            "\n",
            "Player1 Sequence: HTTHH\n",
            "Player1 Total Wins: 354\n",
            "Player1 Win %: 0.354\n",
            "\n",
            "Player2 Sequence: THTTH\n",
            "Player2 Total Wins: 646\n",
            "Player2 Win %: 0.646\n",
            "\n",
            "Ratio: 1.8888888888888888 to 1\n",
            "\n",
            "Odds of Player 1:\n",
            "     Win Percentage: 0.6538461538461539\n",
            "\n",
            "Odds of Player 2:\n",
            "     Win Percentage: 0.34615384615384615\n"
          ],
          "name": "stdout"
        }
      ]
    },
    {
      "cell_type": "markdown",
      "metadata": {
        "id": "4aBo8y6PLhfv",
        "colab_type": "text"
      },
      "source": [
        "Although player 2 still dominates, player 1's strategy does hold player 2's winning percentage within the range given."
      ]
    },
    {
      "cell_type": "markdown",
      "metadata": {
        "id": "fg_va64FS9Qg",
        "colab_type": "text"
      },
      "source": [
        "# 4) **Solution Methods (Python Implementation)**\n"
      ]
    },
    {
      "cell_type": "markdown",
      "metadata": {
        "id": "19GLLaNIjiNj",
        "colab_type": "text"
      },
      "source": [
        "## **Simulation in Python**\n",
        "\n"
      ]
    },
    {
      "cell_type": "markdown",
      "metadata": {
        "id": "CX27ZE-CMoQu",
        "colab_type": "text"
      },
      "source": [
        "### **Import Packages**"
      ]
    },
    {
      "cell_type": "code",
      "metadata": {
        "id": "0mbBFzG21QVn",
        "colab_type": "code",
        "colab": {}
      },
      "source": [
        "import numpy as np\n",
        "import pandas as pd\n",
        "import random"
      ],
      "execution_count": 0,
      "outputs": []
    },
    {
      "cell_type": "markdown",
      "metadata": {
        "id": "0q6E7oE6ktHu",
        "colab_type": "text"
      },
      "source": [
        "Player 1 may select and sequence of T's and H's of any length.  Then, Player 2 can select any sequence of T's and H's of the same length.  Finally, iterations is set, which determines the number of games to play."
      ]
    },
    {
      "cell_type": "markdown",
      "metadata": {
        "id": "i97-IhPjMvqa",
        "colab_type": "text"
      },
      "source": [
        "### **Make Selections and Set Number of Iterations**"
      ]
    },
    {
      "cell_type": "code",
      "metadata": {
        "id": "9wbEUa3z241C",
        "colab_type": "code",
        "colab": {}
      },
      "source": [
        "P1 = 'HTTTHH'\n",
        "P2 = 'THTTTH'\n",
        "iterations = 1000"
      ],
      "execution_count": 0,
      "outputs": []
    },
    {
      "cell_type": "markdown",
      "metadata": {
        "id": "Ht1KtWKGM1px",
        "colab_type": "text"
      },
      "source": [
        "### **Play Game**"
      ]
    },
    {
      "cell_type": "markdown",
      "metadata": {
        "id": "EtWEDe0AlS0g",
        "colab_type": "text"
      },
      "source": [
        "\n",
        "Coins are flipped (implemented with **random.choice**) until one of the two players' selected sequences emerge (which is checked by **string.endswith** for each player).  Each time a player wins, thier win total (tracked by the lists **P1_Wins and P2_Wins** has a one added to it).  Each game is then counted until the number set by **iterations** is met. \n",
        "\n",
        "Finally, the average length of the games, and the win totals and percentages of wins for each player are printed out."
      ]
    },
    {
      "cell_type": "code",
      "metadata": {
        "id": "_bsGfQxm2_iM",
        "colab_type": "code",
        "colab": {}
      },
      "source": [
        "def PenneysGame(P1, P2, iterations):\n",
        "  i = 0\n",
        "  length = []\n",
        "  P1_Wins = 0\n",
        "  P2_Wins = 0\n",
        "  while i < iterations:\n",
        "      satisfied = False\n",
        "      string = ''\n",
        "      \n",
        "      while satisfied == False:\n",
        "            choice = random.choice(['T','H'])\n",
        "            string = string + choice\n",
        "            \n",
        "            if string.endswith(P1):\n",
        "                length.append(len(string))\n",
        "                satisfied = True\n",
        "                i = i + 1\n",
        "                P1_Wins += 1\n",
        "          \n",
        "            if string.endswith(P2):\n",
        "                length.append(len(string))\n",
        "                satisfied = True\n",
        "                i = i + 1\n",
        "                P2_Wins += 1\n",
        "\n",
        "  avg_length = sum(length)/iterations\n",
        "  print('')\n",
        "  print('Average Number of Coin Flips Per Game:', avg_length)\n",
        "  print('')\n",
        "  print('')\n",
        "  print('Avg Number of Flips/Game:', avg_length)\n",
        "  print('')\n",
        "  print('Player1 Sequence:', P1)\n",
        "  print('Player1 Total Wins:', P1_Wins)\n",
        "  print('Player1 Win %:', P1_Wins/iterations)\n",
        "  print('')\n",
        "  print('Player2 Sequence:', P2)\n",
        "  print('Player2 Total Wins:', P2_Wins)\n",
        "  print('Player2 Win %:', P2_Wins/iterations) "
      ],
      "execution_count": 0,
      "outputs": []
    },
    {
      "cell_type": "markdown",
      "metadata": {
        "id": "8eVyNvccUpP5",
        "colab_type": "text"
      },
      "source": [
        "## **Binary Encoding (Conway's Method)**"
      ]
    },
    {
      "cell_type": "code",
      "metadata": {
        "id": "oqXjhdiHzczP",
        "colab_type": "code",
        "colab": {}
      },
      "source": [
        "def conway(p1, p2):\n",
        "#Create empty strings to hold results from comparisons for each permutation\n",
        "    stringAB = ''\n",
        "    stringBA = ''\n",
        "    stringAA = ''\n",
        "    stringBB = ''\n",
        "#Initial upper and lower bounds for comparisons    \n",
        "    ub_change = len(p1)\n",
        "    ub_static = len(p1)\n",
        "    lb_change = 0\n",
        "    lb_static = 0\n",
        "    \n",
        "    i = 0\n",
        "    while i < len(p2):\n",
        "#AA comparison        \n",
        "        if p2[lb_change:ub_static] == p2[lb_static:ub_change]:\n",
        "            stringAA = stringAA + '1'\n",
        "        else:\n",
        "            stringAA = stringAA + '0'\n",
        "#BB comparison            \n",
        "        if p1[lb_change:ub_static] == p1[lb_static:ub_change]:\n",
        "            stringBB = stringBB + '1'\n",
        "        else:\n",
        "            stringBB = stringBB + '0'\n",
        "#AB comparison        \n",
        "        if p2[lb_change:ub_static] == p1[lb_static:ub_change]:\n",
        "            stringAB = stringAB + '1'\n",
        "        else:\n",
        "            stringAB = stringAB + '0'\n",
        "#BA comparison            \n",
        "        if p1[lb_change:ub_static] == p2[lb_static:ub_change]:\n",
        "            stringBA = stringBA + '1'\n",
        "        else:\n",
        "            stringBA = stringBA + '0'        \n",
        "#Update iterator and upper and lower bounds for comparisons\n",
        "        i = i + 1\n",
        "        ub_change = ub_change - 1\n",
        "        lb_change = lb_change + 1\n",
        "#Convert binary strings from comparisons to integers    \n",
        "    AA = int(stringAA, 2)    \n",
        "    BB = int(stringBB, 2)\n",
        "    AB = int(stringAB, 2)\n",
        "    BA = int(stringBA, 2)\n",
        "#Use Conway's formula for finding odds of player B and convert to percentage\n",
        "#for each player\n",
        "    con = (AA - AB) / (BB - BA)\n",
        "    odd_p2 = 1/(con + 1)\n",
        "    odd_p1 = 1 - odd_p2\n",
        "#Print win ratio and odds for each player    \n",
        "    print('')\n",
        "    print('Ratio:', con, 'to 1')\n",
        "    print('')\n",
        "    print('Odds of Player 1:')\n",
        "    print('     Win Percentage:', odd_p1)\n",
        "    print('')\n",
        "    print('Odds of Player 2:')\n",
        "    print('     Win Percentage:', odd_p2)"
      ],
      "execution_count": 0,
      "outputs": []
    },
    {
      "cell_type": "code",
      "metadata": {
        "id": "tfnWACgnzoHO",
        "colab_type": "code",
        "outputId": "da6a59fb-13aa-497d-d9a0-0051b05ce948",
        "colab": {
          "base_uri": "https://localhost:8080/",
          "height": 153
        }
      },
      "source": [
        "conway('TTTTTTTTTHH', 'HTTTTTTHH')"
      ],
      "execution_count": 0,
      "outputs": [
        {
          "output_type": "stream",
          "text": [
            "\n",
            "Ratio: 1.0 to 1\n",
            "\n",
            "Odds of Player 1:\n",
            "     Win Percentage: 0.5\n",
            "\n",
            "Odds of Player 2:\n",
            "     Win Percentage: 0.5\n"
          ],
          "name": "stdout"
        }
      ]
    },
    {
      "cell_type": "markdown",
      "metadata": {
        "id": "f2e6Wh_jjo5m",
        "colab_type": "text"
      },
      "source": [
        "## **Markov Chain**\n",
        "\n",
        "This section is still a work in progress...but will be finished soon."
      ]
    },
    {
      "cell_type": "code",
      "metadata": {
        "id": "408TKGLckS0K",
        "colab_type": "code",
        "colab": {}
      },
      "source": [
        "import matplotlib as mpl\n",
        "import matplotlib.pyplot as plt\n",
        "import seaborn as sns\n",
        "import pandas as pd\n",
        "import numpy as np\n",
        "plt.style.use('fivethirtyeight')"
      ],
      "execution_count": 0,
      "outputs": []
    },
    {
      "cell_type": "markdown",
      "metadata": {
        "id": "tjRmKBb_ByKc",
        "colab_type": "text"
      },
      "source": [
        "$M = \\begin{bmatrix}\n",
        "       0.5 & \\frac{1}{6} & 0           \\\\[0.3em]\n",
        "       \\frac{5}{6} & 0           & \\frac{1}{6} \\\\[0.3em]\n",
        "       0           & \\frac{5}{6} & \\frac{1}{6}\n",
        "     \\end{bmatrix}$\n"
      ]
    },
    {
      "cell_type": "code",
      "metadata": {
        "id": "nlgFrK6ujvfW",
        "colab_type": "code",
        "outputId": "a1730a9e-bc30-4668-ad80-f4552967446f",
        "colab": {
          "base_uri": "https://localhost:8080/",
          "height": 557
        }
      },
      "source": [
        "#This Markov Chain has two absorbing states, the two players' selections\n",
        "#Meaning that once the state is entered, it cannot be left\n",
        "#Since all states can reach one of them, it is an absorbing Markov Chain, formally:\n",
        "# p_{ii}=1{\\text{ and }}p_{ij}=0{\\text{ for }}i\\not =j.\n",
        "\n",
        "#these chains are reducible, not irreducible, meaning one cannot go from any\n",
        "#state to any other\n",
        "\n",
        "#Discrete Time Markov Chain\n",
        "#Markov Property: conditional probability distribution of each step depends\n",
        "#only on the last step taken\n",
        "#S = state space\n",
        "#T = transition space\n",
        "\n",
        "#It also has \n",
        "\n",
        "state = [2000, 0, 0, 0, 0, 0, 0, 0, 0, 0, 0, 0, 0, 0, 0]\n",
        "\n",
        "transition = [\n",
        "            \n",
        "            # S    H    T   HH    TT  HT   TH   HHH  TTT  HTT  HHT  THH  HHT  HTH  THT\n",
        "            [0.0, 0.0, 0.0, 0.0, 0.0, 0.0, 0.0, 0.0, 0.0, 0.0, 0.0, 0.0, 0.0, 0.0, 0.0], #S\n",
        "            [0.0, 0.0, 0.0, 0.0, 0.0, 0.0, 0.0, 0.0, 0.0, 0.0, 0.0, 0.0, 0.0, 0.0, 0.0], #H\n",
        "            [0.0, 0.0, 0.0, 0.0, 0.0, 0.0, 0.0, 0.0, 0.0, 0.0, 0.0, 0.0, 0.0, 0.0, 0.0], #T\n",
        "            [0.0, 0.0, 0.0, 0.0, 0.0, 0.0, 0.0, 0.0, 0.0, 0.0, 0.0, 0.0, 0.0, 0.0, 0.0], #HH\n",
        "            [0.0, 0.0, 0.0, 0.0, 0.0, 0.0, 0.0, 0.0, 0.0, 0.0, 0.0, 0.0, 0.0, 0.0, 0.0], #TT\n",
        "            [0.0, 0.0, 0.0, 0.0, 0.0, 0.0, 0.0, 0.0, 0.0, 0.0, 0.0, 0.0, 0.0, 0.0, 0.0], #HT\n",
        "            [0.0, 0.0, 0.0, 0.0, 0.0, 0.0, 0.0, 0.0, 0.0, 0.0, 0.0, 0.0, 0.0, 0.0, 0.0], #TH\n",
        "            [0.0, 0.0, 0.0, 0.0, 0.0, 0.0, 0.0, 0.0, 0.0, 0.0, 0.0, 0.0, 0.0, 0.0, 0.0], #HHH\n",
        "            [0.0, 0.0, 0.0, 0.0, 0.0, 0.0, 0.0, 0.0, 0.0, 0.0, 0.0, 0.0, 0.0, 0.0, 0.0], #TTT\n",
        "            [0.0, 0.0, 0.0, 0.0, 0.0, 0.0, 0.0, 0.0, 0.0, 0.0, 0.0, 0.0, 0.0, 0.0, 0.0], #HTT                       \n",
        "            [0.0, 0.0, 0.0, 0.0, 0.0, 0.0, 0.0, 0.0, 0.0, 0.0, 0.0, 0.0, 0.0, 0.0, 0.0], #HHT                       \n",
        "            [0.0, 0.0, 0.0, 0.0, 0.0, 0.0, 0.0, 0.0, 0.0, 0.0, 0.0, 0.0, 0.0, 0.0, 0.0], #THH                           \n",
        "            [0.0, 0.0, 0.0, 0.0, 0.0, 0.0, 0.0, 0.0, 0.0, 0.0, 0.0, 0.0, 0.0, 0.0, 0.0], #HHT                           \n",
        "            [0.0, 0.0, 0.0, 0.0, 0.0, 0.0, 0.0, 0.0, 0.0, 0.0, 0.0, 0.0, 0.0, 0.0, 0.0], #HTH                           \n",
        "            [0.0, 0.0, 0.0, 0.0, 0.0, 0.0, 0.0, 0.0, 0.0, 0.0, 0.0, 0.0, 0.0, 0.0, 0.0], #THT                           \n",
        "                            \n",
        "                            \n",
        "                            ]\n",
        "\n",
        "stateHistory = []\n",
        "stateTrack = [state]\n",
        "last_state = []\n",
        "i = 0\n",
        "length = [0]\n",
        "convergence = False\n",
        "\n",
        "while convergence == False and i < 30:\n",
        "    last_state = state\n",
        "    state = np.dot(state, transition)\n",
        "    stateTrack.append(list(state))\n",
        "    i = i + 1\n",
        "    length.append(i)\n",
        "    \n",
        "    if all(last_state == state) == True:\n",
        "        convergence = True\n",
        "        \n",
        "\"\"\"\n",
        "for s in range(len(stateTrack[0])):\n",
        "    plt.plot(length, [states[s] for states in stateTrack], label= 'Company %s' %s)\n",
        "plt.legend()\n",
        "plt.show()\n",
        "\"\"\"\n",
        "\n",
        "dims =(10.7, 7.27)\n",
        "fig, ax = plt.subplots(figsize=dims)\n",
        "splot = pd.DataFrame(stateTrack, length, [\"1\", \"2\", \"3\", \"4\", \"5\", \"6\"])\n",
        "sns.lineplot(ax=ax, data = splot, markers=True)\n",
        "\"\"\"\n",
        "splot = pd.DataFrame(stateTrack, length, [\"Company 1\", \"Company 2\", \"Company 3\"])\n",
        "ax = sns.lineplot(data=splot,style=\"event\",lw=2, markers=True) \n",
        "\"\"\"\n",
        "print('')\n",
        "print('Converged in', i, 'Iterations')\n",
        "print('')\n",
        "print('Steady State Vector: ', state)"
      ],
      "execution_count": 0,
      "outputs": [
        {
          "output_type": "stream",
          "text": [
            "\n",
            "Converged in 30 Iterations\n",
            "\n",
            "Steady State Vector:  [5.84328146e-04 1.08097469e-03 2.07949560e-03 1.88288844e-03\n",
            " 9.69694630e+02 1.03029974e+03]\n"
          ],
          "name": "stdout"
        },
        {
          "output_type": "display_data",
          "data": {
            "image/png": "[encoded data removed]",
            "text/plain": [
              "<Figure size 770.4x523.44 with 1 Axes>"
            ]
          },
          "metadata": {
            "tags": []
          }
        }
      ]
    },
    {
      "cell_type": "code",
      "metadata": {
        "id": "ybnMd2L3oH9-",
        "colab_type": "code",
        "outputId": "1a764a65-5f86-4888-bf8e-5c05daafdd77",
        "colab": {
          "base_uri": "https://localhost:8080/",
          "height": 34
        }
      },
      "source": [
        "import math\n",
        "# Take the factorial for 1-gram, 2-gram, and 3-gram, and add 2 on to each for homogeneous pairs ('T', 'HH', 'TTT') + 1 for the start node\n",
        "math.factorial(1) + 2 + math.factorial(2) + 2 + math.factorial(3) + 2\n",
        "\n",
        "#Or realize that since the options are binary, each n-gram splits into 2 parts except the last, plus 1 start node\n",
        "#So we get 2 + (2*2) + (2*2*2) + 1 = 15\n",
        "#Or total nodes = (2^1 + 2^2 + 2^3 + ... 2^n), where n = length of string in PG\n",
        "\n",
        "permutations = (2**1) + (2**2) + (2**3) + 1\n",
        "\n",
        "print(permutations)"
      ],
      "execution_count": 0,
      "outputs": [
        {
          "output_type": "stream",
          "text": [
            "15\n"
          ],
          "name": "stdout"
        }
      ]
    }
  ]
}