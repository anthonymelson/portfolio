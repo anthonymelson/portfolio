{
  "nbformat": 4,
  "nbformat_minor": 0,
  "metadata": {
    "colab": {
      "name": "Constrained Optimization With Scipy Minimize.ipynb",
      "provenance": [],
      "collapsed_sections": [],
      "toc_visible": true,
      "include_colab_link": true
    },
    "kernelspec": {
      "name": "python3",
      "display_name": "Python 3"
    }
  },
  "cells": [
    {
      "cell_type": "markdown",
      "metadata": {
        "id": "view-in-github",
        "colab_type": "text"
      },
      "source": [
        "<a href=\"https://colab.research.google.com/github/anthonymelson/portfolio/blob/master/Constrained_Optimization_With_Scipy_Minimize.ipynb\" target=\"_parent\"><img src=\"https://colab.research.google.com/assets/colab-badge.svg\" alt=\"Open In Colab\"/></a>"
      ]
    },
    {
      "cell_type": "markdown",
      "metadata": {
        "id": "ElkaE5TPVccM",
        "colab_type": "text"
      },
      "source": [
        "# Simple Constrained Optimization With Scipy Minimize"
      ]
    },
    {
      "cell_type": "markdown",
      "metadata": {
        "id": "EfC9k9PimGAW",
        "colab_type": "text"
      },
      "source": [
        "## Import Packages"
      ]
    },
    {
      "cell_type": "code",
      "metadata": {
        "id": "dvrvLJb9Ol_L",
        "colab_type": "code",
        "colab": {}
      },
      "source": [
        "import numpy as np\n",
        "from scipy.optimize import minimize\n",
        "import pandas as pd\n"
      ],
      "execution_count": 0,
      "outputs": []
    },
    {
      "cell_type": "markdown",
      "metadata": {
        "id": "_wBreuGjVkgQ",
        "colab_type": "text"
      },
      "source": [
        "## Problem: Maximize the Volume of a Box While Keeping Surface Below 10 Units"
      ]
    },
    {
      "cell_type": "markdown",
      "metadata": {
        "id": "l_w9EFOnkZZa",
        "colab_type": "text"
      },
      "source": [
        "Though this problem is a simple (toy) problem, it can be seen as representing a larger class of important problems.  Sticking with it as a representative, one may ask: whay would someone limit surface area and maximize volume?\n",
        "\n",
        "The answer is that the surface space dictates the amount of materials used, and the volume (at least in some cases, like a box) represents the utility.  So, maximizing volume (utility), while lowering surface space (cost), is desirable.  \n",
        "Additionally, these types of problems come up regularly, and can make a large difference in a project for those who know how to identify and solve them."
      ]
    },
    {
      "cell_type": "markdown",
      "metadata": {
        "id": "s3P0QPTVV9qI",
        "colab_type": "text"
      },
      "source": [
        "### Define Functions for Volume and Surface"
      ]
    },
    {
      "cell_type": "markdown",
      "metadata": {
        "id": "4RFyd14VWERL",
        "colab_type": "text"
      },
      "source": [
        "Before the optimization problem can be fed to minimize, the geometric relationships between length, width, and highth must be defined.  The functions below accomplish this, and are in the form minimize expects them to be in.\n",
        "\n",
        "Below, they will be related to the objective function and the constraint.  Where maximizing volume will be the primary objective (and called in the objective function), and surface (below 10 units) will be called by the constraint function and set as an inequality (which serves its purpose as long as the initial guesses are below that value to start)."
      ]
    },
    {
      "cell_type": "code",
      "metadata": {
        "id": "ad4HADU-PcHi",
        "colab_type": "code",
        "colab": {}
      },
      "source": [
        "#Define Box Volume and Surface Space\n",
        "def calcVolume(x):\n",
        "    l = x[0]\n",
        "    w = x[1]\n",
        "    h = x[2]\n",
        "    vol = l * w * h\n",
        "    return vol\n",
        "\n",
        "def calcSurface(x):\n",
        "    l = x[0]\n",
        "    w = x[1]\n",
        "    h = x[2]\n",
        "    surf = 2*l*w + 2*l*h + 2*w*h\n",
        "    return surf"
      ],
      "execution_count": 0,
      "outputs": []
    },
    {
      "cell_type": "markdown",
      "metadata": {
        "id": "WeLXMpdcXhmA",
        "colab_type": "text"
      },
      "source": [
        "### Define Objective Function"
      ]
    },
    {
      "cell_type": "markdown",
      "metadata": {
        "id": "ZSBWjmCNXkwO",
        "colab_type": "text"
      },
      "source": [
        "The objective function simply inputs the newest guesses for the variables from the minimize function at each round (this is done with x), and returns the negative value of the negative of the volume function evaluated at those points (negative because the negative of minimization is maximization, which is our goal)"
      ]
    },
    {
      "cell_type": "code",
      "metadata": {
        "id": "2xkpkXAhVUpq",
        "colab_type": "code",
        "colab": {}
      },
      "source": [
        "#Define Objective Function    \n",
        "def objective(x):\n",
        "    return -calcVolume(x)"
      ],
      "execution_count": 0,
      "outputs": []
    },
    {
      "cell_type": "markdown",
      "metadata": {
        "id": "RH9WWh-XYagC",
        "colab_type": "text"
      },
      "source": [
        "### Create the Surface Constraint"
      ]
    },
    {
      "cell_type": "markdown",
      "metadata": {
        "id": "J0x0OB6KYfn0",
        "colab_type": "text"
      },
      "source": [
        "The constraint function calls the surface function evaluated at the set of points returned by x at each round of the optimization, and returns 10 minus that value (10 because it is our maximum allowable surface value).\n",
        "\n",
        "However, for scipy to work properly, it must be put into a dictionary where its constraint type can be specified.  This is done with con1, and the constraint is set as an inequality.  Thus, the output must be unequal to 10 - surface area, which acts as an upper limit because the initial guesses evaluate below that mark."
      ]
    },
    {
      "cell_type": "code",
      "metadata": {
        "id": "0tlHZZqOVR5R",
        "colab_type": "code",
        "colab": {}
      },
      "source": [
        "#Create Constraint\n",
        "def constraint1(x):\n",
        "    return 10 - calcSurface(x)\n",
        "\n",
        "con1 = {'type': 'ineq', 'fun': constraint1}"
      ],
      "execution_count": 0,
      "outputs": []
    },
    {
      "cell_type": "markdown",
      "metadata": {
        "id": "ea_QYR_VZeaG",
        "colab_type": "text"
      },
      "source": [
        "### Set Initial Guesses"
      ]
    },
    {
      "cell_type": "markdown",
      "metadata": {
        "id": "AiTHf70KZhfm",
        "colab_type": "text"
      },
      "source": [
        "The initial guesses are important for the optimizer to converge (find good solutions to the problem).  If they are too far off, it will terminate without success (convergence), and if they are on the wrong side of a constraint, the problem will be impossible to solve (as all the solutions will be in a space that is off limits).\n",
        "\n",
        "Here the initial guesses are set at 1, 1, and 1, which is based on intuition alone in this case, but should be fine (as intuitions about simple things like boxes are often fairly accurate)."
      ]
    },
    {
      "cell_type": "code",
      "metadata": {
        "id": "WargkIeDVPMg",
        "colab_type": "code",
        "colab": {}
      },
      "source": [
        "#Set Initial Guesses\n",
        "x0 = np.array([1,1,1])"
      ],
      "execution_count": 0,
      "outputs": []
    },
    {
      "cell_type": "markdown",
      "metadata": {
        "id": "1kgczSRQaQ4V",
        "colab_type": "text"
      },
      "source": [
        "## Minimize the Function"
      ]
    },
    {
      "cell_type": "markdown",
      "metadata": {
        "id": "7XJquuB8aWWK",
        "colab_type": "text"
      },
      "source": [
        "The minimize function below takes four arguments for this problem:\n",
        "\n",
        "1. objective (the objective function\n",
        "2. x0 (the initial guesses for X1, X2, and X3 defined earlier)\n",
        "3. method (SLSQP, the solver used to minimize the function)\n",
        "4. constraints (con1, the constraint defined earlier)\n",
        "\n",
        "Beyond that, it is a matter of letting it do its work.  If it converges, then the project is finished.  If not, it will require that the initial guesses are tweaked until a better result is found."
      ]
    },
    {
      "cell_type": "code",
      "metadata": {
        "id": "FJh4aklvVAxx",
        "colab_type": "code",
        "colab": {}
      },
      "source": [
        "#Minimize Surface Function With SLSQP Solver, Constraint 1 in Effect and Initial Guesses for X1, X2, AND X3 set to x0\n",
        "\n",
        "res = minimize(objective, x0, method='SLSQP', constraints=con1)"
      ],
      "execution_count": 0,
      "outputs": []
    },
    {
      "cell_type": "markdown",
      "metadata": {
        "id": "Qjp7a1aCbcjo",
        "colab_type": "text"
      },
      "source": [
        "### Display Table of Results"
      ]
    },
    {
      "cell_type": "markdown",
      "metadata": {
        "id": "qZ0G38-ibjyl",
        "colab_type": "text"
      },
      "source": [
        "In the table below:\n",
        "\n",
        "* **X1, X2, and X3** are the optimal values for length, width, and hieght\n",
        "\n",
        "* **Success** is either true or false and indicates whether the solver converged\n",
        "\n",
        "* **Number of Iterations** is how many iterations it took to converge (or quit trying)\n",
        "\n",
        "* **Cause of Determination** tells either that it converged or why it didn't."
      ]
    },
    {
      "cell_type": "code",
      "metadata": {
        "id": "25Db1DEyba0F",
        "colab_type": "code",
        "colab": {
          "base_uri": "https://localhost:8080/",
          "height": 235
        },
        "outputId": "758eeea6-d7ce-4ed5-a5a6-0ed83fb71105"
      },
      "source": [
        "#Create Results Table\n",
        "results = {\n",
        "            'X1': res.x[0],\n",
        "            'X2': res.x[1],\n",
        "            'X3': res.x[2],\n",
        "            'Success': res.success,\n",
        "            'Number of Iterations': res.nit,\n",
        "            'Cause of Determination': res.message\n",
        "                                                  }\n",
        "display(pd.DataFrame(results, index=[1]).T)"
      ],
      "execution_count": 54,
      "outputs": [
        {
          "output_type": "display_data",
          "data": {
            "text/html": [
              "<div>\n",
              "<style scoped>\n",
              "    .dataframe tbody tr th:only-of-type {\n",
              "        vertical-align: middle;\n",
              "    }\n",
              "\n",
              "    .dataframe tbody tr th {\n",
              "        vertical-align: top;\n",
              "    }\n",
              "\n",
              "    .dataframe thead th {\n",
              "        text-align: right;\n",
              "    }\n",
              "</style>\n",
              "<table border=\"1\" class=\"dataframe\">\n",
              "  <thead>\n",
              "    <tr style=\"text-align: right;\">\n",
              "      <th></th>\n",
              "      <th>1</th>\n",
              "    </tr>\n",
              "  </thead>\n",
              "  <tbody>\n",
              "    <tr>\n",
              "      <th>X1</th>\n",
              "      <td>1.29099</td>\n",
              "    </tr>\n",
              "    <tr>\n",
              "      <th>X2</th>\n",
              "      <td>1.29099</td>\n",
              "    </tr>\n",
              "    <tr>\n",
              "      <th>X3</th>\n",
              "      <td>1.29099</td>\n",
              "    </tr>\n",
              "    <tr>\n",
              "      <th>Success</th>\n",
              "      <td>True</td>\n",
              "    </tr>\n",
              "    <tr>\n",
              "      <th>Number of Iterations</th>\n",
              "      <td>4</td>\n",
              "    </tr>\n",
              "    <tr>\n",
              "      <th>Cause of Determination</th>\n",
              "      <td>Optimization terminated successfully.</td>\n",
              "    </tr>\n",
              "  </tbody>\n",
              "</table>\n",
              "</div>"
            ],
            "text/plain": [
              "                                                            1\n",
              "X1                                                    1.29099\n",
              "X2                                                    1.29099\n",
              "X3                                                    1.29099\n",
              "Success                                                  True\n",
              "Number of Iterations                                        4\n",
              "Cause of Determination  Optimization terminated successfully."
            ]
          },
          "metadata": {
            "tags": []
          }
        }
      ]
    },
    {
      "cell_type": "markdown",
      "metadata": {
        "id": "dTP1wLiXlmyR",
        "colab_type": "text"
      },
      "source": [
        "### Results"
      ]
    },
    {
      "cell_type": "markdown",
      "metadata": {
        "id": "qa7LeNDDh7ff",
        "colab_type": "text"
      },
      "source": [
        "These results are fantastic.  The optimization algorithm converged on a solution.  It turns out that a perfect cube does the job, but the question remains: how many units of volume and surface area did this produce?\n",
        "\n",
        "To answer this, the volume function can be evaluated with the output points."
      ]
    },
    {
      "cell_type": "code",
      "metadata": {
        "id": "yCRpEz2siYLf",
        "colab_type": "code",
        "colab": {
          "base_uri": "https://localhost:8080/",
          "height": 111
        },
        "outputId": "d1d7d3ff-0967-4f09-e805-ec854442ff19"
      },
      "source": [
        "lwh = res.x\n",
        "\n",
        "totals = {\n",
        "          'Total Volume': calcVolume(lwh),\n",
        "          'Total Surface Area': calcSurface(lwh)\n",
        "                                                }\n",
        "display(pd.DataFrame(totals, index=[1]).T)"
      ],
      "execution_count": 55,
      "outputs": [
        {
          "output_type": "display_data",
          "data": {
            "text/html": [
              "<div>\n",
              "<style scoped>\n",
              "    .dataframe tbody tr th:only-of-type {\n",
              "        vertical-align: middle;\n",
              "    }\n",
              "\n",
              "    .dataframe tbody tr th {\n",
              "        vertical-align: top;\n",
              "    }\n",
              "\n",
              "    .dataframe thead th {\n",
              "        text-align: right;\n",
              "    }\n",
              "</style>\n",
              "<table border=\"1\" class=\"dataframe\">\n",
              "  <thead>\n",
              "    <tr style=\"text-align: right;\">\n",
              "      <th></th>\n",
              "      <th>1</th>\n",
              "    </tr>\n",
              "  </thead>\n",
              "  <tbody>\n",
              "    <tr>\n",
              "      <th>Total Volume</th>\n",
              "      <td>2.151657</td>\n",
              "    </tr>\n",
              "    <tr>\n",
              "      <th>Total Surface Area</th>\n",
              "      <td>10.000000</td>\n",
              "    </tr>\n",
              "  </tbody>\n",
              "</table>\n",
              "</div>"
            ],
            "text/plain": [
              "                            1\n",
              "Total Volume         2.151657\n",
              "Total Surface Area  10.000000"
            ]
          },
          "metadata": {
            "tags": []
          }
        }
      ]
    },
    {
      "cell_type": "markdown",
      "metadata": {
        "id": "hlNPAkIhlupV",
        "colab_type": "text"
      },
      "source": [
        "### Final Values"
      ]
    },
    {
      "cell_type": "markdown",
      "metadata": {
        "id": "wZ_NH8maj301",
        "colab_type": "text"
      },
      "source": [
        "As expected, the total surface area is at the maximum allowable value given by the problem constraint (10 units).  This means that 2.151657 is almost the exact maximum volume acheivable within the constraint."
      ]
    }
  ]
}