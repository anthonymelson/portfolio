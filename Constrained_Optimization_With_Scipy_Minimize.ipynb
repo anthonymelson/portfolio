{
  "nbformat": 4,
  "nbformat_minor": 0,
  "metadata": {
    "colab": {
      "name": "Constrained Optimization With Scipy Minimize.ipynb",
      "provenance": [],
      "collapsed_sections": [],
      "toc_visible": true,
      "include_colab_link": true
    },
    "kernelspec": {
      "name": "python3",
      "display_name": "Python 3"
    }
  },
  "cells": [
    {
      "cell_type": "markdown",
      "metadata": {
        "id": "view-in-github",
        "colab_type": "text"
      },
      "source": [
        "<a href=\"https://colab.research.google.com/github/anthonymelson/portfolio/blob/master/Constrained_Optimization_With_Scipy_Minimize.ipynb\" target=\"_parent\"><img src=\"https://colab.research.google.com/assets/colab-badge.svg\" alt=\"Open In Colab\"/></a>"
      ]
    },
    {
      "cell_type": "markdown",
      "metadata": {
        "id": "ElkaE5TPVccM",
        "colab_type": "text"
      },
      "source": [
        "# Simple Constrained Optimization With Scipy Minimize"
      ]
    },
    {
      "cell_type": "markdown",
      "metadata": {
        "id": "gDnENcCMhskQ",
        "colab_type": "text"
      },
      "source": [
        "[To some Section](#s)"
      ]
    },
    {
      "cell_type": "markdown",
      "metadata": {
        "id": "EfC9k9PimGAW",
        "colab_type": "text"
      },
      "source": [
        "## Import Packages"
      ]
    },
    {
      "cell_type": "code",
      "metadata": {
        "id": "dvrvLJb9Ol_L",
        "colab_type": "code",
        "colab": {}
      },
      "source": [
        "import numpy as np\n",
        "from scipy.optimize import minimize\n",
        "import pandas as pd"
      ],
      "execution_count": 0,
      "outputs": []
    },
    {
      "cell_type": "markdown",
      "metadata": {
        "id": "_wBreuGjVkgQ",
        "colab_type": "text"
      },
      "source": [
        "## Problem: Maximize the Volume of a Box While Keeping Surface Area Below 10 Units"
      ]
    },
    {
      "cell_type": "markdown",
      "metadata": {
        "id": "l_w9EFOnkZZa",
        "colab_type": "text"
      },
      "source": [
        "Though this is a simple (toy) problem, it can be seen as representing a larger class of important problems.  Viewing it as a representative; one may ask: why would someone limit surface area and maximize volume?\n",
        "\n",
        "The answer: the surface space dictates the amount of materials used, and the volume (at least in some cases, like a box) determines utility.  So, maximizing volume (utility), while lowering surface space (cost), is desirable in almost all cases.  \n",
        "\n",
        "These types of problems come up regularly, and can have a big impact on a project for those who know how to identify and solve them."
      ]
    },
    {
      "cell_type": "markdown",
      "metadata": {
        "id": "jXPofgtL8Dbl",
        "colab_type": "text"
      },
      "source": [
        "<a id='s'></a>\n",
        "### Mathematical Definition of Problem\n"
      ]
    },
    {
      "cell_type": "markdown",
      "metadata": {
        "id": "i9ShLHtu4_Lh",
        "colab_type": "text"
      },
      "source": [
        "Mathematically this problem can be defined as:\n",
        "\n",
        "${arg\\,max}$ $l * w * h$\n",
        "\n",
        "${\\text{subject to:}}\\;(2*l*w + 2*l*h + 2*w*h < 10)$\n",
        "\n",
        "Where:\n",
        "\n",
        "$l*w*h = Length * Width * Height$ (the volume of a box),\n",
        "\n",
        "and,\n",
        "\n",
        "$(2*l*w + 2*l*h + 2*w*h) = (2*Length*Width + 2*Length*Height + 2*Width*Height)$ (the surface area of a box).\n",
        "\n",
        "The goal is to maximize (${arg\\,max}$) the volume, while remaining within the constraint ($\\text{subject to: }$).  However, to solve this problem in scipy, one must translate it into the proper format."
      ]
    },
    {
      "cell_type": "markdown",
      "metadata": {
        "id": "s3P0QPTVV9qI",
        "colab_type": "text"
      },
      "source": [
        "### Define Functions for Volume and Surface in Scipy"
      ]
    },
    {
      "cell_type": "markdown",
      "metadata": {
        "id": "4RFyd14VWERL",
        "colab_type": "text"
      },
      "source": [
        "Before the optimization problem can be passed to Scipy Minimize, the geometric relationships between length, width, and height must be defined.  The functions below accomplish this, and are in the form minimize expects them to be in.\n",
        "\n",
        "Though they accomplish nothing alone, in the next few steps they will be related to the objective function and the constraint function, which are the primary inputs in the optimization process.  \n"
      ]
    },
    {
      "cell_type": "code",
      "metadata": {
        "id": "ad4HADU-PcHi",
        "colab_type": "code",
        "colab": {}
      },
      "source": [
        "#Define Box Volume and Surface Space\n",
        "def calcVolume(x):\n",
        "    l = x[0]\n",
        "    w = x[1]\n",
        "    h = x[2]\n",
        "    vol = l * w * h\n",
        "    return vol\n",
        "\n",
        "def calcSurface(x):\n",
        "    l = x[0]\n",
        "    w = x[1]\n",
        "    h = x[2]\n",
        "    surf = 2*l*w + 2*l*h + 2*w*h\n",
        "    return surf"
      ],
      "execution_count": 0,
      "outputs": []
    },
    {
      "cell_type": "markdown",
      "metadata": {
        "id": "WeLXMpdcXhmA",
        "colab_type": "text"
      },
      "source": [
        "### Define Objective Function"
      ]
    },
    {
      "cell_type": "markdown",
      "metadata": {
        "id": "ZSBWjmCNXkwO",
        "colab_type": "text"
      },
      "source": [
        "The objective function simply inputs the newest guesses for the variables from the minimize function at each round (this is done with x), and returns the negative value of the negative of the volume function evaluated at those points (negative because the negative of minimization is maximization, which is our goal)"
      ]
    },
    {
      "cell_type": "code",
      "metadata": {
        "id": "2xkpkXAhVUpq",
        "colab_type": "code",
        "colab": {}
      },
      "source": [
        "#Define Objective Function    \n",
        "def objective(x):\n",
        "    return -calcVolume(x)"
      ],
      "execution_count": 0,
      "outputs": []
    },
    {
      "cell_type": "markdown",
      "metadata": {
        "id": "RH9WWh-XYagC",
        "colab_type": "text"
      },
      "source": [
        "### Create the Surface Constraint"
      ]
    },
    {
      "cell_type": "markdown",
      "metadata": {
        "id": "J0x0OB6KYfn0",
        "colab_type": "text"
      },
      "source": [
        "The constraint function calls the surface function and evaluates it at the set of points returned as $x$ by Scipy at each round of the optimization, and returns $10 - calcSurface(x)$ (10 because it is our maximum allowable surface value).\n",
        "\n",
        "However, for scipy to work properly, the constraint function must be put into a dictionary where its constraint type can be specified.  This is done with con1, where it is set as an inequality.  Thus, the output must be unequal to 10 - surface area, which acts as an upper limit because the initial guesses evaluate below that mark."
      ]
    },
    {
      "cell_type": "code",
      "metadata": {
        "id": "0tlHZZqOVR5R",
        "colab_type": "code",
        "colab": {}
      },
      "source": [
        "#Create Constraint\n",
        "def constraint1(x):\n",
        "    return 10 - calcSurface(x)\n",
        "\n",
        "con1 = {'type': 'ineq', 'fun': constraint1}"
      ],
      "execution_count": 0,
      "outputs": []
    },
    {
      "cell_type": "markdown",
      "metadata": {
        "id": "ea_QYR_VZeaG",
        "colab_type": "text"
      },
      "source": [
        "### Set Initial Guesses"
      ]
    },
    {
      "cell_type": "markdown",
      "metadata": {
        "id": "AiTHf70KZhfm",
        "colab_type": "text"
      },
      "source": [
        "The initial guesses are important for the optimizer to converge (find good solutions to the problem).  If they are too far off, it will terminate without success (convergence), and if they are on the wrong side of a constraint, the problem will be impossible to solve (as all quality solutions will be in a space that is off limits).\n",
        "\n",
        "Here the initial guesses are set at 1, 1, and 1, which is based on intuition alone.  However, in this case, intuition should be fine (as intuitions about simple things like boxes are often fairly accurate)."
      ]
    },
    {
      "cell_type": "code",
      "metadata": {
        "id": "WargkIeDVPMg",
        "colab_type": "code",
        "colab": {}
      },
      "source": [
        "#Set Initial Guesses\n",
        "x0 = np.array([1,1,1])"
      ],
      "execution_count": 0,
      "outputs": []
    },
    {
      "cell_type": "markdown",
      "metadata": {
        "id": "1kgczSRQaQ4V",
        "colab_type": "text"
      },
      "source": [
        "## Minimize the Function"
      ]
    },
    {
      "cell_type": "markdown",
      "metadata": {
        "id": "7XJquuB8aWWK",
        "colab_type": "text"
      },
      "source": [
        "The minimize function below takes four arguments for this problem:\n",
        "\n",
        "1. objective (the objective function)\n",
        "2. x0 (the initial guesses for X1, X2, and X3, defined earlier)\n",
        "3. method (SLSQP, the solver used to minimize the function)\n",
        "4. constraints (con1, the constraint, defined earlier)\n",
        "\n",
        "Beyond that, it is a matter of letting the solver do its work.  If it converges, then the project is finished.  If not, it will require that the initial guesses are tweaked until a better result is found."
      ]
    },
    {
      "cell_type": "code",
      "metadata": {
        "id": "FJh4aklvVAxx",
        "colab_type": "code",
        "colab": {}
      },
      "source": [
        "#Minimize Surface Function With SLSQP Solver, Constraint 1 in Effect and Initial Guesses for X1, X2, AND X3 set to x0\n",
        "\n",
        "res = minimize(objective, x0, method='SLSQP', constraints=con1)"
      ],
      "execution_count": 0,
      "outputs": []
    },
    {
      "cell_type": "markdown",
      "metadata": {
        "id": "Qjp7a1aCbcjo",
        "colab_type": "text"
      },
      "source": [
        "### Display Table of Results"
      ]
    },
    {
      "cell_type": "markdown",
      "metadata": {
        "id": "qZ0G38-ibjyl",
        "colab_type": "text"
      },
      "source": [
        "In the table below:\n",
        "\n",
        "* **X1, X2, and X3** are the optimal values for length, width, and hieght\n",
        "\n",
        "* **Success** is either true or false and indicates whether the solver converged\n",
        "\n",
        "* **Number of Iterations** is how many iterations it took to converge (or quit trying)\n",
        "\n",
        "* **Cause of Determination** tells either that it converged or why it didn't."
      ]
    },
    {
      "cell_type": "code",
      "metadata": {
        "id": "25Db1DEyba0F",
        "colab_type": "code",
        "colab": {
          "base_uri": "https://localhost:8080/",
          "height": 235
        },
        "outputId": "3b0384b1-f1d4-4e77-861b-88e76a2ccc4b"
      },
      "source": [
        "#Create Results Table\n",
        "results = {\n",
        "            'X1': res.x[0],\n",
        "            'X2': res.x[1],\n",
        "            'X3': res.x[2],\n",
        "            'Success': res.success,\n",
        "            'Number of Iterations': res.nit,\n",
        "            'Cause of Determination': res.message\n",
        "                                                  }\n",
        "res_table = pd.DataFrame(results, index=[0]).T\n",
        "res_table.columns = ['Value']\n",
        "display(res_table)"
      ],
      "execution_count": 23,
      "outputs": [
        {
          "output_type": "display_data",
          "data": {
            "text/html": [
              "<div>\n",
              "<style scoped>\n",
              "    .dataframe tbody tr th:only-of-type {\n",
              "        vertical-align: middle;\n",
              "    }\n",
              "\n",
              "    .dataframe tbody tr th {\n",
              "        vertical-align: top;\n",
              "    }\n",
              "\n",
              "    .dataframe thead th {\n",
              "        text-align: right;\n",
              "    }\n",
              "</style>\n",
              "<table border=\"1\" class=\"dataframe\">\n",
              "  <thead>\n",
              "    <tr style=\"text-align: right;\">\n",
              "      <th></th>\n",
              "      <th>Value</th>\n",
              "    </tr>\n",
              "  </thead>\n",
              "  <tbody>\n",
              "    <tr>\n",
              "      <th>X1</th>\n",
              "      <td>1.29099</td>\n",
              "    </tr>\n",
              "    <tr>\n",
              "      <th>X2</th>\n",
              "      <td>1.29099</td>\n",
              "    </tr>\n",
              "    <tr>\n",
              "      <th>X3</th>\n",
              "      <td>1.29099</td>\n",
              "    </tr>\n",
              "    <tr>\n",
              "      <th>Success</th>\n",
              "      <td>True</td>\n",
              "    </tr>\n",
              "    <tr>\n",
              "      <th>Number of Iterations</th>\n",
              "      <td>4</td>\n",
              "    </tr>\n",
              "    <tr>\n",
              "      <th>Cause of Determination</th>\n",
              "      <td>Optimization terminated successfully.</td>\n",
              "    </tr>\n",
              "  </tbody>\n",
              "</table>\n",
              "</div>"
            ],
            "text/plain": [
              "                                                        Value\n",
              "X1                                                    1.29099\n",
              "X2                                                    1.29099\n",
              "X3                                                    1.29099\n",
              "Success                                                  True\n",
              "Number of Iterations                                        4\n",
              "Cause of Determination  Optimization terminated successfully."
            ]
          },
          "metadata": {
            "tags": []
          }
        }
      ]
    },
    {
      "cell_type": "markdown",
      "metadata": {
        "id": "dTP1wLiXlmyR",
        "colab_type": "text"
      },
      "source": [
        "### Results"
      ]
    },
    {
      "cell_type": "markdown",
      "metadata": {
        "id": "qa7LeNDDh7ff",
        "colab_type": "text"
      },
      "source": [
        "These results are fantastic.  The optimization algorithm converged on a solution, even with the constraint.  It turns out that a perfect cube does the job, but the question remains: how many units of volume and surface area did this produce?\n",
        "\n",
        "To answer this, the volume and surface functions can be evaluated with the output values."
      ]
    },
    {
      "cell_type": "code",
      "metadata": {
        "id": "yCRpEz2siYLf",
        "colab_type": "code",
        "colab": {
          "base_uri": "https://localhost:8080/",
          "height": 111
        },
        "outputId": "bfa9b882-7709-4351-f52f-78acb0b46afe"
      },
      "source": [
        "lwh = res.x\n",
        "\n",
        "totals = {\n",
        "          'Total Volume': calcVolume(lwh),\n",
        "          'Total Surface Area': calcSurface(lwh)\n",
        "                                                }\n",
        "totals_table = pd.DataFrame(totals, index=[0]).T\n",
        "totals_table.columns = ['Value']\n",
        "display(totals_table)"
      ],
      "execution_count": 24,
      "outputs": [
        {
          "output_type": "display_data",
          "data": {
            "text/html": [
              "<div>\n",
              "<style scoped>\n",
              "    .dataframe tbody tr th:only-of-type {\n",
              "        vertical-align: middle;\n",
              "    }\n",
              "\n",
              "    .dataframe tbody tr th {\n",
              "        vertical-align: top;\n",
              "    }\n",
              "\n",
              "    .dataframe thead th {\n",
              "        text-align: right;\n",
              "    }\n",
              "</style>\n",
              "<table border=\"1\" class=\"dataframe\">\n",
              "  <thead>\n",
              "    <tr style=\"text-align: right;\">\n",
              "      <th></th>\n",
              "      <th>Value</th>\n",
              "    </tr>\n",
              "  </thead>\n",
              "  <tbody>\n",
              "    <tr>\n",
              "      <th>Total Volume</th>\n",
              "      <td>2.151657</td>\n",
              "    </tr>\n",
              "    <tr>\n",
              "      <th>Total Surface Area</th>\n",
              "      <td>10.000000</td>\n",
              "    </tr>\n",
              "  </tbody>\n",
              "</table>\n",
              "</div>"
            ],
            "text/plain": [
              "                        Value\n",
              "Total Volume         2.151657\n",
              "Total Surface Area  10.000000"
            ]
          },
          "metadata": {
            "tags": []
          }
        }
      ]
    },
    {
      "cell_type": "markdown",
      "metadata": {
        "id": "hlNPAkIhlupV",
        "colab_type": "text"
      },
      "source": [
        "### Final Values"
      ]
    },
    {
      "cell_type": "markdown",
      "metadata": {
        "id": "wZ_NH8maj301",
        "colab_type": "text"
      },
      "source": [
        "As expected, the total surface area is at the maximum allowable value given by the problem constraint (10 units).  This means that 2.151657 is somewhere very close to (if not right on) the maximum volume acheivable within the constraint."
      ]
    }
  ]
}