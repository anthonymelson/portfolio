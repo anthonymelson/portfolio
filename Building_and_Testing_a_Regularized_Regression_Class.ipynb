{
  "nbformat": 4,
  "nbformat_minor": 0,
  "metadata": {
    "colab": {
      "name": "Building_and_Testing_a_Regularized_Regression_Class.ipynb",
      "provenance": [],
      "collapsed_sections": [],
      "authorship_tag": "ABX9TyNnUb16uv/Zn3IC6JBDP5jH",
      "include_colab_link": true
    },
    "kernelspec": {
      "name": "python3",
      "display_name": "Python 3"
    }
  },
  "cells": [
    {
      "cell_type": "markdown",
      "metadata": {
        "id": "view-in-github",
        "colab_type": "text"
      },
      "source": [
        "<a href=\"https://colab.research.google.com/github/anthonymelson/portfolio/blob/master/Building_and_Testing_a_Regularized_Regression_Class.ipynb\" target=\"_parent\"><img src=\"https://colab.research.google.com/assets/colab-badge.svg\" alt=\"Open In Colab\"/></a>"
      ]
    },
    {
      "cell_type": "markdown",
      "metadata": {
        "id": "FtNH2Fx0GBOr",
        "colab_type": "text"
      },
      "source": [
        "# Import Packages"
      ]
    },
    {
      "cell_type": "code",
      "metadata": {
        "id": "IG1gDVWA7eBM",
        "colab_type": "code",
        "colab": {
          "base_uri": "https://localhost:8080/",
          "height": 72
        },
        "outputId": "73a94a33-da9f-45d4-bef3-1abfd3427df6"
      },
      "source": [
        "# Data Manipulation\n",
        "import numpy as np\n",
        "import pandas as pd\n",
        "\n",
        "# Create and Split Data\n",
        "from sklearn.datasets import make_regression\n",
        "from sklearn.model_selection import train_test_split\n",
        "\n",
        "# Plotting\n",
        "import seaborn as sns\n",
        "import matplotlib.pyplot as plt\n",
        "\n",
        "# Notebook Styling\n",
        "%matplotlib inline\n",
        "plt.style.use('fivethirtyeight')"
      ],
      "execution_count": 1,
      "outputs": [
        {
          "output_type": "stream",
          "text": [
            "/usr/local/lib/python3.6/dist-packages/statsmodels/tools/_testing.py:19: FutureWarning: pandas.util.testing is deprecated. Use the functions in the public API at pandas.testing instead.\n",
            "  import pandas.util.testing as tm\n"
          ],
          "name": "stderr"
        }
      ]
    },
    {
      "cell_type": "markdown",
      "metadata": {
        "id": "rDYZ_L-uGSuT",
        "colab_type": "text"
      },
      "source": [
        "# Create a Regressor Class\n",
        "For those interested in how regression, gradient descent, and regularization work or can be written in python, this section will be helpful.  Otherwise, it is best to browse it and move down to regularization strength.\n",
        "\n",
        "This regressor class implements L2 regularization with gradient descent for linear regression problems.  It also has several callable methods (score_mse, predict, get_coefficients, and params) that can be called from any model object.  \n",
        "\n",
        "Many tweaks would need to be made for it to be \"deployment ready\".  It needs several small changes like accounting for a constant, terminating based on a precision term, and offering L1 regularization along with several larger changes (all relating to efficiency).  That aside, it works very well in its purpose and is well built for experimental and learning purposes.\n",
        "\n",
        "The goal will be to use this regressor class to show how regularization works, and how well it performs on a four toy datasets with varying relevant characteristcs (i.e. noise and uninformative features)."
      ]
    },
    {
      "cell_type": "code",
      "metadata": {
        "id": "WhOvxpy07hNp",
        "colab_type": "code",
        "colab": {}
      },
      "source": [
        "class regularized_regression():\n",
        "  import numpy as np\n",
        "  def __init__(self, l2 = \"none\", iterations = 25000, learning_rate = 0.0005):\n",
        "    self.x = x\n",
        "    self.y = y\n",
        "    self.learning_rate = learning_rate\n",
        "    self.l2 = l2\n",
        "    self.iterations = iterations\n",
        "    self.m = np.shape(x)[0]\n",
        "    self.n = np.shape(x)[1]\n",
        "    self.theta = np.ones(self.n)\n",
        "\n",
        "\n",
        "  \"\"\"\n",
        "  fit: This method fits a model withor without L2 regularization (l2).  In this \n",
        "  implementation, higher numbers mean stronger regularization (a higher penalty\n",
        "  for complexity).\n",
        "  \"\"\"\n",
        "\n",
        "  def fit(self, x, y):\n",
        "    theta = self.theta\n",
        "    n = self.n\n",
        "    m = self.m\n",
        "    l2 = self.l2\n",
        "    learning_rate = self.learning_rate\n",
        "    theta = self.theta\n",
        "    for i in range(self.iterations):\n",
        "      prediction = np.dot(x, theta)\n",
        "      loss = prediction - y \n",
        "      gradient = (np.dot(x.transpose(), loss) / m)\n",
        "      \n",
        "      if l2 == \"none\" or l2 == 0:\n",
        "          theta = theta - gradient * learning_rate\n",
        "      else:        \n",
        "          for j in range(len(theta)):\n",
        "              theta[j] = theta[j] - (learning_rate * (gradient[j] - l2*theta[j]))\n",
        "    self.theta = theta\n",
        "    return \n",
        "\n",
        "\n",
        "  \"\"\"\n",
        "  predict: Returns prediction of fitted model (array of wieghts) for input \n",
        "  feature vector (x).\n",
        "  \"\"\"\n",
        "\n",
        "  def predict(self, x):\n",
        "    prediction = np.dot(x, self.theta)\n",
        "    return prediction\n",
        "\n",
        "\n",
        "  \"\"\"\n",
        "  score_mse: Scores regression accuracy with mean-squared-error (MSE), a\n",
        "  standard measure of regression accuracy.\n",
        "  \"\"\"\n",
        "\n",
        "  def score_mse(self, x, y):\n",
        "    pred = np.dot(x, self.theta)\n",
        "    score = (np.sum(pred - y)**2) / (2*len(x))\n",
        "    return score\n",
        "\n",
        "\n",
        "  \"\"\"\n",
        "  get_coefficients: This method extracts the coefficients wieghts (theta) which\n",
        "  make up the fitted model as a list.\n",
        "  \"\"\"\n",
        "\n",
        "  def get_coefficients(self):\n",
        "    return self.theta\n",
        "\n",
        "\n",
        "  \"\"\"\n",
        "  params: This method returns the parameters (attributes) of the \n",
        "  regularized_regression class object as a dictionary.\n",
        "  \"\"\"\n",
        "\n",
        "  def params(self):\n",
        "    params = {'Iterations': self.iterations,\n",
        "              'Learning Rate': self.learning_rate,\n",
        "              'l2': self.l2,\n",
        "              'Samples': self.m,\n",
        "              'Features': self.n\n",
        "    }\n",
        "    return params"
      ],
      "execution_count": 2,
      "outputs": []
    },
    {
      "cell_type": "markdown",
      "metadata": {
        "id": "uljlLc4hIz3D",
        "colab_type": "text"
      },
      "source": [
        "# Build Functions for Experimentation"
      ]
    },
    {
      "cell_type": "markdown",
      "metadata": {
        "id": "F07Idkh2HaKO",
        "colab_type": "text"
      },
      "source": [
        "Below is a function that uses the regressor object from regularized_regression to build 10 models with varying strengths of regularization (0.0 to 1.0), and collects training scores, test scores, regularization strenght, and coefficients (final model weights).  It then outputs them as lists."
      ]
    },
    {
      "cell_type": "code",
      "metadata": {
        "id": "1IRi2DG473Ic",
        "colab_type": "code",
        "colab": {}
      },
      "source": [
        "def fit_models(x_train, y_train, x_test, y_test):\n",
        "\n",
        "  reg_range = np.arange(0.00, 0.10, 0.01)\n",
        "  test_scores = []\n",
        "  train_scores = []\n",
        "  regularization = []\n",
        "  coefficients = []\n",
        "\n",
        "  for i in reg_range:\n",
        "\n",
        "    model = regularized_regression(l2=i)\n",
        "    model.fit(x_train,y_train) \n",
        "\n",
        "    test_score = model.score_mse(x_test, y_test)\n",
        "    train_score = model.score_mse(x_train, y_train)\n",
        "    coefficient = model.get_coefficients()\n",
        "    reg = i\n",
        "    \n",
        "    regularization.append(i)\n",
        "    test_scores.append(test_score)\n",
        "    train_scores.append(train_score)\n",
        "    coefficients.append(coefficient)\n",
        "\n",
        "  return regularization, test_scores, train_scores, coefficients"
      ],
      "execution_count": 3,
      "outputs": []
    },
    {
      "cell_type": "markdown",
      "metadata": {
        "id": "Og1V22znH8Re",
        "colab_type": "text"
      },
      "source": [
        "This function turns the lists from fit_models into pandas dataframes to make them easier to plot."
      ]
    },
    {
      "cell_type": "code",
      "metadata": {
        "id": "7dBSaNrg78Le",
        "colab_type": "code",
        "colab": {}
      },
      "source": [
        "def create_df(regularizaion, test_scores, train_scores):\n",
        "  df = pd.DataFrame(regularization, columns=['Regularization Strength'])\n",
        "  df['Train Scores'] = train_scores\n",
        "  df['Test Scores'] = test_scores\n",
        "  return df"
      ],
      "execution_count": 4,
      "outputs": []
    },
    {
      "cell_type": "markdown",
      "metadata": {
        "id": "3uVxx6QLIHLi",
        "colab_type": "text"
      },
      "source": [
        "This function plots the information dataframes from create_df.  Specifically, it plots the training and test scores of 10 models against their regularization strength (between 0 and 0.1)."
      ]
    },
    {
      "cell_type": "code",
      "metadata": {
        "id": "GuGszvdC79pk",
        "colab_type": "code",
        "colab": {}
      },
      "source": [
        "def plot_reg_score(df):\n",
        "  plt.figure()\n",
        "  plt.plot(regularization, test_scores, label='Test Scores')\n",
        "  plt.plot(regularization, train_scores, label='Train Scores')\n",
        "  plt.xlabel(\"Regularization Strength\", fontsize=18)\n",
        "  plt.ylabel(\"MSE\", fontsize=18)\n",
        "  plt.legend()\n",
        "  return plt.show()"
      ],
      "execution_count": 5,
      "outputs": []
    },
    {
      "cell_type": "markdown",
      "metadata": {
        "id": "gvi_xUQCCJKi",
        "colab_type": "text"
      },
      "source": [
        "# Regularization Strength, Uninformative Features, and Noise\n",
        "\n",
        "In the following:\n",
        "1. Four datasets will be generated with lessening levels of noise (and 10 uninformative features each).\n",
        "2. Ten models will be fit to each set with regularization strengths between 0.0 and 1 (where a higher number means stronger regularization).\n",
        "3. The training and test scores (MSE) for the models of each dataset will be plotted against their regularization strength.\n",
        "\n",
        "Since the function of regularization is to stop overfitting (which is more common when there are more uninformative features and/or noise in the dataset), this test should provide insight into the power of regularization and the types of situations it is useful in.  \n",
        "\n",
        "**Hypothesis**\n",
        "\n",
        "The optimal regularization strength to achieve a good tradeoff between the test and training loss will be positively correlated with the the levels of noise (that the two increase and decrease together)."
      ]
    },
    {
      "cell_type": "markdown",
      "metadata": {
        "id": "V7hhHiyF7wn-",
        "colab_type": "text"
      },
      "source": [
        "## Test on Dataset 1\n",
        "\n",
        "Samples: 4000\n",
        "\n",
        "Features: 15\n",
        "\n",
        "Informative: 5\n",
        "\n",
        "Noise: 10"
      ]
    },
    {
      "cell_type": "code",
      "metadata": {
        "id": "b2abBUg77uBi",
        "colab_type": "code",
        "colab": {}
      },
      "source": [
        "x, y, coef = make_regression(n_samples=4000, n_features=15, n_informative=5, noise=10, coef=True, random_state=74)\n",
        "x_train, x_test, y_train, y_test = train_test_split(x, y, test_size=0.4, random_state=68)"
      ],
      "execution_count": 6,
      "outputs": []
    },
    {
      "cell_type": "code",
      "metadata": {
        "id": "BJyTlN4t-_z8",
        "colab_type": "code",
        "colab": {
          "base_uri": "https://localhost:8080/",
          "height": 284
        },
        "outputId": "ea1941fb-0128-4d37-b625-d7aea3f0573a"
      },
      "source": [
        "regularization, test_scores, train_scores, coefficients = fit_models(x_train, y_train, x_test, y_test)\n",
        "df = create_df(regularization, test_scores, train_scores)\n",
        "plot_reg_score(df)"
      ],
      "execution_count": 7,
      "outputs": [
        {
          "output_type": "display_data",
          "data": {
            "image/png": "[encoded data removed]",
            "text/plain": [
              "<Figure size 432x288 with 1 Axes>"
            ]
          },
          "metadata": {
            "tags": [],
            "needs_background": "light"
          }
        }
      ]
    },
    {
      "cell_type": "markdown",
      "metadata": {
        "id": "OqfkEmYREJ5N",
        "colab_type": "text"
      },
      "source": [
        "The appropriate trade-off point is at 0.04 and the optimums are at 0.02 and 0.06 for the test and training sets respectively.  This regularization is fairly strong and dovetails with expectations, as noise is very high."
      ]
    },
    {
      "cell_type": "markdown",
      "metadata": {
        "id": "jLCH5s74B14K",
        "colab_type": "text"
      },
      "source": [
        "## Test on Dataset 2\n",
        "\n",
        "Samples: 4000\n",
        "\n",
        "Features: 15\n",
        "\n",
        "Informative: 5\n",
        "\n",
        "Noise: 6"
      ]
    },
    {
      "cell_type": "code",
      "metadata": {
        "id": "r0Ykm-8c_YDZ",
        "colab_type": "code",
        "colab": {}
      },
      "source": [
        "x, y, coef = make_regression(n_samples=4000, n_features=15, n_informative=5, noise=6, coef=True, random_state=74)\n",
        "x_train, x_test, y_train, y_test = train_test_split(x, y, test_size=0.4, random_state=68)"
      ],
      "execution_count": 8,
      "outputs": []
    },
    {
      "cell_type": "code",
      "metadata": {
        "id": "N_PpuUcw_aeP",
        "colab_type": "code",
        "colab": {
          "base_uri": "https://localhost:8080/",
          "height": 284
        },
        "outputId": "86bc7333-2ad2-481c-808d-bd4e49131def"
      },
      "source": [
        "regularization, test_scores, train_scores, coefficients = fit_models(x_train, y_train, x_test, y_test)\n",
        "df = create_df(regularization, test_scores, train_scores)\n",
        "plot_reg_score(df)"
      ],
      "execution_count": 9,
      "outputs": [
        {
          "output_type": "display_data",
          "data": {
            "image/png": "[encoded data removed]",
            "text/plain": [
              "<Figure size 432x288 with 1 Axes>"
            ]
          },
          "metadata": {
            "tags": [],
            "needs_background": "light"
          }
        }
      ]
    },
    {
      "cell_type": "markdown",
      "metadata": {
        "id": "q9gSZLXfEv1L",
        "colab_type": "text"
      },
      "source": [
        "The appropriate trade-off point is at approximately 0.025 and the optimums are at 0.005 and 0.04 for the test and training sets respectively.  Regularization is weaker than it was previously, but still fairly strong, which again dovetails with expectations."
      ]
    },
    {
      "cell_type": "markdown",
      "metadata": {
        "id": "HANTqsVOB7En",
        "colab_type": "text"
      },
      "source": [
        "## Test on Dataset 3\n",
        "\n",
        "Samples: 4000\n",
        "\n",
        "Features: 15\n",
        "\n",
        "Informative: 5\n",
        "\n",
        "Noise: 4"
      ]
    },
    {
      "cell_type": "code",
      "metadata": {
        "id": "Xgp6DL2P_hZZ",
        "colab_type": "code",
        "colab": {}
      },
      "source": [
        "x, y, coef = make_regression(n_samples=4000, n_features=15, n_informative=5, noise=4, coef=True, random_state=74)\n",
        "x_train, x_test, y_train, y_test = train_test_split(x, y, test_size=0.4, random_state=68)"
      ],
      "execution_count": 10,
      "outputs": []
    },
    {
      "cell_type": "code",
      "metadata": {
        "id": "sEwSM0md_jRW",
        "colab_type": "code",
        "colab": {
          "base_uri": "https://localhost:8080/",
          "height": 284
        },
        "outputId": "a60739d2-3979-48dd-bab4-12fbcc8eeb47"
      },
      "source": [
        "regularization, test_scores, train_scores, coefficients = fit_models(x_train, y_train, x_test, y_test)\n",
        "df = create_df(regularization, test_scores, train_scores)\n",
        "plot_reg_score(df)"
      ],
      "execution_count": 11,
      "outputs": [
        {
          "output_type": "display_data",
          "data": {
            "image/png": "[encoded data removed]",
            "text/plain": [
              "<Figure size 432x288 with 1 Axes>"
            ]
          },
          "metadata": {
            "tags": [],
            "needs_background": "light"
          }
        }
      ]
    },
    {
      "cell_type": "markdown",
      "metadata": {
        "id": "KR12apDrFFQs",
        "colab_type": "text"
      },
      "source": [
        "The appropriate trade-off point is approximately 0.0175 and the optimums are at 0.00 and 0.03 for the test and training sets respectively.  The trade-off point is lower, as was expected.  Though it is a little surprising that the optimum for the test_score is slightly higher than before."
      ]
    },
    {
      "cell_type": "markdown",
      "metadata": {
        "id": "BW8dQMAHCCEX",
        "colab_type": "text"
      },
      "source": [
        "## Test on Dataset 4\n",
        "\n",
        "Samples: 4000\n",
        "\n",
        "Features: 5\n",
        "\n",
        "Informative: 5\n",
        "\n",
        "Noise: 1"
      ]
    },
    {
      "cell_type": "code",
      "metadata": {
        "id": "zuHzsPabAWOv",
        "colab_type": "code",
        "colab": {}
      },
      "source": [
        "x, y, coef = make_regression(n_samples=4000, n_features=15, n_informative=5, noise=1, coef=True, random_state=74)\n",
        "x_train, x_test, y_train, y_test = train_test_split(x, y, test_size=0.4, random_state=68)"
      ],
      "execution_count": 12,
      "outputs": []
    },
    {
      "cell_type": "code",
      "metadata": {
        "id": "3n-lo0oKAawM",
        "colab_type": "code",
        "colab": {
          "base_uri": "https://localhost:8080/",
          "height": 319
        },
        "outputId": "8b2b9dcf-0629-4e7f-b531-8220448be2d3"
      },
      "source": [
        "regularization, test_scores, train_scores, coefficients = fit_models(x_train, y_train, x_test, y_test)\n",
        "df = create_df(regularization, test_scores, train_scores)\n",
        "plot_reg_score(df)\n",
        "print()\n",
        "print()"
      ],
      "execution_count": 13,
      "outputs": [
        {
          "output_type": "display_data",
          "data": {
            "image/png": "[encoded data removed]",
            "text/plain": [
              "<Figure size 432x288 with 1 Axes>"
            ]
          },
          "metadata": {
            "tags": [],
            "needs_background": "light"
          }
        },
        {
          "output_type": "stream",
          "text": [
            "\n",
            "\n"
          ],
          "name": "stdout"
        }
      ]
    },
    {
      "cell_type": "markdown",
      "metadata": {
        "id": "qtMWntLnFgqh",
        "colab_type": "text"
      },
      "source": [
        "The appropriate trade-off point is at 0.00 (no regularization), and the optimums are identical (0 and 0).  Since there is very little noise, this result is as expected.  Hence, this is not a situation where regularization help, but rather hurts."
      ]
    },
    {
      "cell_type": "markdown",
      "metadata": {
        "id": "qAng4gxbr97S",
        "colab_type": "text"
      },
      "source": [
        "# Conclusion\n",
        "\n",
        "As was expected, the strength of regularization required to get a good test and training loss trade-off was progressively lower as the levels of noise went down.\n",
        "\n",
        "This was not strictly tested as an hypothesis (which I plan to do with the sklearn package in another notebook), but served the purposes of showing how regularization works (or sometimes doesn't), and hopefully provided readers with a better understanding of how to implement gradient descent and regularization on regression tasks."
      ]
    }
  ]
}