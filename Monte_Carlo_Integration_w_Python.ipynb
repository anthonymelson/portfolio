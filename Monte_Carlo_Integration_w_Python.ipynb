{
  "nbformat": 4,
  "nbformat_minor": 0,
  "metadata": {
    "colab": {
      "name": "Monte Carlo Integration w Python.ipynb",
      "provenance": [],
      "collapsed_sections": [],
      "authorship_tag": "ABX9TyM5+EAAliagyi7XAdctO6TU",
      "include_colab_link": true
    },
    "kernelspec": {
      "name": "python3",
      "display_name": "Python 3"
    }
  },
  "cells": [
    {
      "cell_type": "markdown",
      "metadata": {
        "id": "view-in-github",
        "colab_type": "text"
      },
      "source": [
        "<a href=\"https://colab.research.google.com/github/anthonymelson/portfolio/blob/master/Monte_Carlo_Integration_w_Python.ipynb\" target=\"_parent\"><img src=\"https://colab.research.google.com/assets/colab-badge.svg\" alt=\"Open In Colab\"/></a>"
      ]
    },
    {
      "cell_type": "markdown",
      "metadata": {
        "id": "sC8Gi9xTr52j",
        "colab_type": "text"
      },
      "source": [
        "## Monty Carlo Integration w/Python\n",
        "\n",
        "The goal of this notebook is to show how we can use monte carlo simulation to do numerical integration in Python.  It is not a specifically useful method of integration (as it is computationally expensive and usually less accurate than alternatives), but it does provide a great understanding of Monte Carlo methods and integration.\n",
        "\n",
        "I find it specifically interesting because it lies outside of what we are typically taught in classes and tends to pump up the imagination."
      ]
    },
    {
      "cell_type": "markdown",
      "metadata": {
        "id": "G54hyiqvrOtm",
        "colab_type": "text"
      },
      "source": [
        "## Import Packages"
      ]
    },
    {
      "cell_type": "code",
      "metadata": {
        "id": "11gZiODvAmkX",
        "colab_type": "code",
        "colab": {}
      },
      "source": [
        "import matplotlib.pyplot as plt\n",
        "from scipy.integrate import quad\n",
        "import numpy as np"
      ],
      "execution_count": 203,
      "outputs": []
    },
    {
      "cell_type": "markdown",
      "metadata": {
        "id": "JmoCLGURB1WA",
        "colab_type": "text"
      },
      "source": [
        "## Create A Function\n",
        "\n",
        "This is just a function I created for this notebook.  I thought it was interesting enough and easy to visualize while being hard enough to integrate that the answer would come as some surprise the reader."
      ]
    },
    {
      "cell_type": "code",
      "metadata": {
        "id": "W7M7oN5a-W53",
        "colab_type": "code",
        "colab": {}
      },
      "source": [
        "fun = lambda x: (4 * x)**2 + (3 * x)**2 - (.8 * x)**3"
      ],
      "execution_count": 204,
      "outputs": []
    },
    {
      "cell_type": "markdown",
      "metadata": {
        "id": "NAqPtRhKB5Bw",
        "colab_type": "text"
      },
      "source": [
        "## Plot Function\n",
        "\n",
        "Using matplotlib we can easily plot the function between our points of interest and fill the space we intend to find through integration.  In this case it is the area under the curve (AUC) between x = 7 and x = 21.\n",
        "\n",
        "For this task we will use this visualization to find the approximate maxima of the function between the selected bounds.  There are other ways to accomplish this (i.e. critical points), but this will work fine for our purposes."
      ]
    },
    {
      "cell_type": "code",
      "metadata": {
        "id": "b7y2B7pVOfDS",
        "colab_type": "code",
        "colab": {
          "base_uri": "https://localhost:8080/",
          "height": 283
        },
        "outputId": "b4869713-517e-47c2-e3f1-fa09f5374b56"
      },
      "source": [
        "x = np.linspace(0, 48.8281250000000, 100)\n",
        "y = fun(x)\n",
        "plt.plot(x,y)\n",
        "\n",
        "X = np.linspace(7, 21, 100)\n",
        "Y = fun(X)\n",
        "plt.fill_between(X,Y)"
      ],
      "execution_count": 205,
      "outputs": [
        {
          "output_type": "execute_result",
          "data": {
            "text/plain": [
              "<matplotlib.collections.PolyCollection at 0x7f2ddde917b8>"
            ]
          },
          "metadata": {
            "tags": []
          },
          "execution_count": 205
        },
        {
          "output_type": "display_data",
          "data": {
            "image/png": "[encoded data removed]",
            "text/plain": [
              "<Figure size 432x288 with 1 Axes>"
            ]
          },
          "metadata": {
            "tags": [],
            "needs_background": "light"
          }
        }
      ]
    },
    {
      "cell_type": "markdown",
      "metadata": {
        "id": "Z_p1K56xCD2x",
        "colab_type": "text"
      },
      "source": [
        "## Monte Carlo Integration Function\n",
        "\n",
        "Below is a function for monte carlo integration.  The basic concept is to create a square grid with the closed interval that was selected for the definite integration on the x axis and zero and a value slightly above the maxima on the y axis.\n",
        "\n",
        "This is not a perfectly universal method because it uses zero as a lower bound which is commonly not the case (there could be negative values) and takes the maxima as an input, when it may not always be as easy to find as it was for us and should be automated in a scalable version (though not too hard).  "
      ]
    },
    {
      "cell_type": "code",
      "metadata": {
        "id": "9GdeUGXyDqJo",
        "colab_type": "code",
        "colab": {}
      },
      "source": [
        "import random\n",
        "# Consider replacing x_low and x_high with 0 and a number that is arbitrarily larger than maxima of the function within the closed interval being integrated over\n",
        "def m_c_integrate(fun, x_low, x_high, y_low, y_high, iterations = 1000000):\n",
        "  below = 0\n",
        "  \"\"\"\n",
        "  This function performs numerical integration using monte carlo simulation.\n",
        "  \n",
        "  fun: a lambda function with a single x as an input variable, fun(x)\n",
        "  x_low: the begining of the interval being integrated over\n",
        "  x_high: the end of the interval being integrated over\n",
        "  y_low: set at zero for this example\n",
        "  y_high: a boundary slighly above the maxima of the function within the closed interval\n",
        "  iterations: number of random points to create\n",
        "  \"\"\"\n",
        "  for i in range(iterations):\n",
        "    # Select an ordered pair within closed interval (x) and between minima and maxima of function within the closed interval (y)\n",
        "    x = random.uniform(x_low, x_high)\n",
        "    y = random.uniform(y_low, y_high)\n",
        "    \n",
        "    # Evaluate fun at the selected point and track those which are below the curve\n",
        "    comp = fun(x)\n",
        "    if comp > y:\n",
        "      below = below + 1\n",
        "    if comp == y:\n",
        "      below = below + 0.5\n",
        "\n",
        "  # Find the percentage of points that are below the curve, and the value for that percentage of the total area\n",
        "  percent_below = below / iterations\n",
        "  auc = ((x_high - x_low) * (y_high - y_low)) * percent_below\n",
        "  return auc"
      ],
      "execution_count": 206,
      "outputs": []
    },
    {
      "cell_type": "markdown",
      "metadata": {
        "id": "dE6YQ74uvX2M",
        "colab_type": "text"
      },
      "source": [
        "## Test Function\n",
        "\n",
        "Here we simply input our x_low and x_high for the definite integration and the y_low and y_high to finish our overall search space, pass our function (fun), and select our iterations (the higher this number the longer it will take but also the more accurate we expect it to be (if the law of large numbers holds for us)."
      ]
    },
    {
      "cell_type": "code",
      "metadata": {
        "id": "9L1hOp4rYL6t",
        "colab_type": "code",
        "colab": {
          "base_uri": "https://localhost:8080/",
          "height": 35
        },
        "outputId": "d28dbb46-9edc-4f7e-9183-50b561a814cb"
      },
      "source": [
        "auc = m_c_integrate(fun, x_low = 7, x_high = 21, y_low = 0, y_high = 9000, iterations = 5000000)\n",
        "print(\"The estimated area under the curve of our function between x = 7 and x = 21 is: \", aoc)"
      ],
      "execution_count": 207,
      "outputs": [
        {
          "output_type": "stream",
          "text": [
            "The estimated area under the curve of our function between x = 7 and x = 21 is:  49752.4608\n"
          ],
          "name": "stdout"
        }
      ]
    },
    {
      "cell_type": "markdown",
      "metadata": {
        "id": "Qw7D0HKLpPuw",
        "colab_type": "text"
      },
      "source": [
        "## Check Result\n",
        "\n",
        "Using scipy's integration function, we can check to see how accurate our Monte Carlo integration method is."
      ]
    },
    {
      "cell_type": "code",
      "metadata": {
        "id": "oaZ3KZzpTlzH",
        "colab_type": "code",
        "colab": {
          "base_uri": "https://localhost:8080/",
          "height": 69
        },
        "outputId": "d0017b32-f9e7-44c2-930a-bf898cbf48eb"
      },
      "source": [
        "integral = quad(fun, 7, 21)\n",
        "diff = np.abs(integral[0] - auc)\n",
        "percent = diff / integral[0]\n",
        "print(\"The estimated area under the curve of our function between x = 7 and x = 21 is: \", integral[0])\n",
        "print()\n",
        "print(\"The difference between our Monte Carlo method and scipy's integrate.quad function is: \", diff, \" or\", percent, \"percent\")"
      ],
      "execution_count": 208,
      "outputs": [
        {
          "output_type": "stream",
          "text": [
            "The estimated area under the curve of our function between x = 7 and x = 21 is:  49730.42666666666\n",
            "\n",
            "The difference between our Monte Carlo method and scipy's integrate.quad function is:  6.158133333337901  or 0.00012383029356684725 percent\n"
          ],
          "name": "stdout"
        }
      ]
    },
    {
      "cell_type": "markdown",
      "metadata": {
        "id": "Lf6VcjV_yTeW",
        "colab_type": "text"
      },
      "source": [
        "## Conclusion\n",
        "\n",
        "The results of our function are very close to scipy's integrate.quad function.  This is a success in my book!  Hopefully everyone who read this has a better understanding of Monte Carlo methods and enjoyed the notebook."
      ]
    }
  ]
}