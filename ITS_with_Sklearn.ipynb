{
  "nbformat": 4,
  "nbformat_minor": 0,
  "metadata": {
    "colab": {
      "name": "ITS with Sklearn.ipynb",
      "provenance": [],
      "collapsed_sections": [],
      "authorship_tag": "ABX9TyNhxNxgWl7IdvkuWzfqr5yA",
      "include_colab_link": true
    },
    "kernelspec": {
      "name": "python3",
      "display_name": "Python 3"
    },
    "language_info": {
      "name": "python"
    }
  },
  "cells": [
    {
      "cell_type": "markdown",
      "metadata": {
        "id": "view-in-github",
        "colab_type": "text"
      },
      "source": [
        "<a href=\"https://colab.research.google.com/github/anthonymelson/portfolio/blob/master/ITS_with_Sklearn.ipynb\" target=\"_parent\"><img src=\"https://colab.research.google.com/assets/colab-badge.svg\" alt=\"Open In Colab\"/></a>"
      ]
    },
    {
      "cell_type": "markdown",
      "metadata": {
        "id": "oqfJJ7ojOLSN"
      },
      "source": [
        "## Import Packages"
      ]
    },
    {
      "cell_type": "code",
      "metadata": {
        "id": "F6MNsxflO_H8",
        "colab": {
          "base_uri": "https://localhost:8080/"
        },
        "outputId": "71bd58b3-a1c6-459c-c37a-c0b908065030"
      },
      "source": [
        "import pandas as pd\n",
        "import numpy as np\n",
        "import matplotlib.pyplot as plt\n",
        "from sklearn.linear_model import LinearRegression\n",
        "import statsmodels.api as sm\n",
        "from scipy import stats"
      ],
      "execution_count": 1,
      "outputs": [
        {
          "output_type": "stream",
          "text": [
            "/usr/local/lib/python3.7/dist-packages/statsmodels/tools/_testing.py:19: FutureWarning: pandas.util.testing is deprecated. Use the functions in the public API at pandas.testing instead.\n",
            "  import pandas.util.testing as tm\n"
          ],
          "name": "stderr"
        }
      ]
    },
    {
      "cell_type": "markdown",
      "metadata": {
        "id": "EkUvfdM-OPxk"
      },
      "source": [
        "## Generate Time Series Data with Slope Change, Level Change, and noise"
      ]
    },
    {
      "cell_type": "code",
      "metadata": {
        "id": "BQEDhb4x1CC6"
      },
      "source": [
        "## Generate ITS Data\n",
        "dummy = np.asarray([0,0,0,0,0,0,0,0,0,0,0,0,0,1,1,1,1,1,1,1,1,1,0,0,0,0,0,0,0])\n",
        "t = np.linspace(0,14,29)\n",
        "alpha = 15\n",
        "slope1 = 3\n",
        "level = 50\n",
        "slope2 = 0\n",
        "sigma = np.random.normal(0,5,len(t))\n",
        "y = alpha + slope1 * t + slope2*t*dummy + level*dummy + sigma"
      ],
      "execution_count": 2,
      "outputs": []
    },
    {
      "cell_type": "markdown",
      "metadata": {
        "id": "Uguwj8j0OcC5"
      },
      "source": [
        "## Create df with Columns for Time, Treatment, and Interaction\n",
        "\n",
        "Time captures universal change of ts.  Treatment (1 or 0) captures level change.  Interaction captures slope change/difference.\n",
        "\n",
        "Goal: use linear regression to asertain the significance of these three variables on the outcome.  If one, say treatment, is significant, it can be said that the treatment had an effect and the effect sized can be estimated by taking the difference between the actual values and a prediction of the treatment period using the data before ( and in this case) after the treatment."
      ]
    },
    {
      "cell_type": "code",
      "metadata": {
        "id": "krRY0XH81boW"
      },
      "source": [
        "## Create Array that contains 3 columns: a time column, a treatment column, and an interaction column, which pair with the slope1, level, and slope2 coefficients\n",
        "x = pd.DataFrame(np.array([\n",
        "                           [0,1, 2, 3, 4, 5, 6, 7, 8, 9, 10 ,11, 12, 13, 14,15,16,17,18,19,20,21,22,23,24,25,26,27,28],\n",
        "                           [0,0,0,0,0,0,0,0,0,0,0,0,0,1,1,1,1,1,1,1,1,1,0,0,0,0,0,0,0]], dtype=float).T,columns=['time','treatment'])\n",
        "x['interaction'] = x['time'] * x['treatment']"
      ],
      "execution_count": 3,
      "outputs": []
    },
    {
      "cell_type": "markdown",
      "metadata": {
        "id": "YYvh43DXPdgy"
      },
      "source": [
        "### Get actual treatment effect"
      ]
    },
    {
      "cell_type": "code",
      "metadata": {
        "colab": {
          "base_uri": "https://localhost:8080/"
        },
        "id": "DuALaTCNkAuD",
        "outputId": "7f444040-9be4-496b-9eb9-a4d892c9b622"
      },
      "source": [
        "sum(x['treatment'] * level)"
      ],
      "execution_count": 4,
      "outputs": [
        {
          "output_type": "execute_result",
          "data": {
            "text/plain": [
              "450.0"
            ]
          },
          "metadata": {
            "tags": []
          },
          "execution_count": 4
        }
      ]
    },
    {
      "cell_type": "code",
      "metadata": {
        "colab": {
          "base_uri": "https://localhost:8080/",
          "height": 282
        },
        "id": "UcCytfni3Jb7",
        "outputId": "9f0e2ea1-a43e-4183-a61c-aebaa61cc57e"
      },
      "source": [
        "## View Data\n",
        "plt.scatter(x['time'], y)"
      ],
      "execution_count": 6,
      "outputs": [
        {
          "output_type": "execute_result",
          "data": {
            "text/plain": [
              "<matplotlib.collections.PathCollection at 0x7faaa12189d0>"
            ]
          },
          "metadata": {
            "tags": []
          },
          "execution_count": 6
        },
        {
          "output_type": "display_data",
          "data": {
            "image/png": "[encoded data removed]",
            "text/plain": [
              "<Figure size 432x288 with 1 Axes>"
            ]
          },
          "metadata": {
            "tags": [],
            "needs_background": "light"
          }
        }
      ]
    },
    {
      "cell_type": "markdown",
      "metadata": {
        "id": "u1xXDxjnPp4Y"
      },
      "source": [
        "### Estimate counterfactual for treatment timeframe\n",
        "\n",
        "What would have happened without a treatment."
      ]
    },
    {
      "cell_type": "code",
      "metadata": {
        "colab": {
          "base_uri": "https://localhost:8080/"
        },
        "id": "PeMhMLgW3sdq",
        "outputId": "c0c91f35-65f5-48f6-91bb-cbb72614ec59"
      },
      "source": [
        "# Create Counterfacutal\n",
        "X2 = sm.add_constant(x)\n",
        "counterfactual = sm.OLS(y[0:12], X2[0:12]).fit()\n",
        "print(counterfactual.summary2())"
      ],
      "execution_count": 7,
      "outputs": [
        {
          "output_type": "stream",
          "text": [
            "                Results: Ordinary least squares\n",
            "================================================================\n",
            "Model:              OLS              Adj. R-squared:     0.282  \n",
            "Dependent Variable: y                AIC:                78.2619\n",
            "Date:               2021-08-18 21:52 BIC:                79.2317\n",
            "No. Observations:   12               Log-Likelihood:     -37.131\n",
            "Df Model:           1                F-statistic:        5.321  \n",
            "Df Residuals:       10               Prob (F-statistic): 0.0438 \n",
            "R-squared:          0.347            Scale:              34.224 \n",
            "-----------------------------------------------------------------\n",
            "                Coef.   Std.Err.    t     P>|t|   [0.025   0.975]\n",
            "-----------------------------------------------------------------\n",
            "const          14.5420    3.1768  4.5776  0.0010  7.4638  21.6203\n",
            "time            1.1284    0.4892  2.3066  0.0438  0.0384   2.2185\n",
            "treatment       0.0000    0.0000     nan     nan  0.0000   0.0000\n",
            "interaction     0.0000    0.0000     nan     nan  0.0000   0.0000\n",
            "----------------------------------------------------------------\n",
            "Omnibus:               2.543       Durbin-Watson:          2.143\n",
            "Prob(Omnibus):         0.280       Jarque-Bera (JB):       1.202\n",
            "Skew:                  0.407       Prob(JB):               0.548\n",
            "Kurtosis:              1.680       Condition No.:          inf  \n",
            "================================================================\n",
            "* The condition number is large (inf). This might indicate\n",
            "strong multicollinearity or other numerical problems.\n"
          ],
          "name": "stdout"
        },
        {
          "output_type": "stream",
          "text": [
            "/usr/local/lib/python3.7/dist-packages/scipy/stats/stats.py:1535: UserWarning: kurtosistest only valid for n>=20 ... continuing anyway, n=12\n",
            "  \"anyway, n=%i\" % int(n))\n",
            "/usr/local/lib/python3.7/dist-packages/statsmodels/regression/linear_model.py:1755: RuntimeWarning: divide by zero encountered in double_scalars\n",
            "  return np.sqrt(eigvals[0]/eigvals[-1])\n",
            "/usr/local/lib/python3.7/dist-packages/statsmodels/base/model.py:1294: RuntimeWarning: invalid value encountered in true_divide\n",
            "  return self.params / self.bse\n"
          ],
          "name": "stderr"
        }
      ]
    },
    {
      "cell_type": "markdown",
      "metadata": {
        "id": "UnVoDUt-Pzjv"
      },
      "source": [
        "### Run model with treatment included as variable\n",
        "\n",
        "Determine significance of intervention."
      ]
    },
    {
      "cell_type": "code",
      "metadata": {
        "colab": {
          "base_uri": "https://localhost:8080/"
        },
        "id": "SVwdbyRw5nhF",
        "outputId": "225daaef-5dc7-4eb5-ed38-8a6120b366b7"
      },
      "source": [
        "X3 = sm.add_constant(x)\n",
        "segmented_regression = sm.OLS(y, X3).fit()\n",
        "print(segmented_regression.summary2())"
      ],
      "execution_count": 8,
      "outputs": [
        {
          "output_type": "stream",
          "text": [
            "                 Results: Ordinary least squares\n",
            "=================================================================\n",
            "Model:              OLS              Adj. R-squared:     0.971   \n",
            "Dependent Variable: y                AIC:                185.3569\n",
            "Date:               2021-08-18 21:52 BIC:                190.8261\n",
            "No. Observations:   29               Log-Likelihood:     -88.678 \n",
            "Df Model:           3                F-statistic:        313.7   \n",
            "Df Residuals:       25               Prob (F-statistic): 5.88e-20\n",
            "R-squared:          0.974            Scale:              30.763  \n",
            "------------------------------------------------------------------\n",
            "               Coef.   Std.Err.     t     P>|t|    [0.025   0.975]\n",
            "------------------------------------------------------------------\n",
            "const         12.1233    2.0483   5.9188  0.0000   7.9049  16.3418\n",
            "time           1.6827    0.1289  13.0580  0.0000   1.4173   1.9481\n",
            "treatment     65.8452   12.4814   5.2755  0.0000  40.1392  91.5512\n",
            "interaction   -0.6730    0.7275  -0.9251  0.3638  -2.1714   0.8254\n",
            "-----------------------------------------------------------------\n",
            "Omnibus:               1.771        Durbin-Watson:          2.490\n",
            "Prob(Omnibus):         0.413        Jarque-Bera (JB):       1.067\n",
            "Skew:                  -0.045       Prob(JB):               0.586\n",
            "Kurtosis:              2.065        Condition No.:          213  \n",
            "=================================================================\n",
            "\n"
          ],
          "name": "stdout"
        }
      ]
    },
    {
      "cell_type": "code",
      "metadata": {
        "colab": {
          "base_uri": "https://localhost:8080/",
          "height": 337
        },
        "id": "sC_XwdV34r7d",
        "outputId": "53d97333-d26c-4b3f-83a9-b3541c1d7170"
      },
      "source": [
        "# Plot Counterfactual Prediction\n",
        "plt.figure(figsize=(12,5))\n",
        "plt.plot(counterfactual.predict(X2[0:26]))\n",
        "plt.plot(segmented_regression.predict(X3))\n",
        "plt.plot(y)\n",
        "plt.legend(['Counterfactual Prediction', 'Segmented Regression Prediction', 'True Values'])\n",
        "plt.scatter(x['time'],y)"
      ],
      "execution_count": 9,
      "outputs": [
        {
          "output_type": "execute_result",
          "data": {
            "text/plain": [
              "<matplotlib.collections.PathCollection at 0x7faa9834a510>"
            ]
          },
          "metadata": {
            "tags": []
          },
          "execution_count": 9
        },
        {
          "output_type": "display_data",
          "data": {
            "image/png": "[encoded data removed]",
            "text/plain": [
              "<Figure size 864x360 with 1 Axes>"
            ]
          },
          "metadata": {
            "tags": [],
            "needs_background": "light"
          }
        }
      ]
    },
    {
      "cell_type": "markdown",
      "metadata": {
        "id": "CaU3wS7RQDb0"
      },
      "source": [
        "### Compute lift"
      ]
    },
    {
      "cell_type": "code",
      "metadata": {
        "id": "Cnux3PEa8LIQ"
      },
      "source": [
        "lift =  y - counterfactual.predict(X2[0:29]) "
      ],
      "execution_count": 10,
      "outputs": []
    },
    {
      "cell_type": "code",
      "metadata": {
        "colab": {
          "base_uri": "https://localhost:8080/",
          "height": 282
        },
        "id": "dNwQKf6V8VSt",
        "outputId": "0e901805-8da9-4786-8d98-2f4ff4b40fef"
      },
      "source": [
        "plt.plot(x['time'],lift)\n",
        "(lift * x['treatment']).sum()"
      ],
      "execution_count": 11,
      "outputs": [
        {
          "output_type": "execute_result",
          "data": {
            "text/plain": [
              "552.666064698333"
            ]
          },
          "metadata": {
            "tags": []
          },
          "execution_count": 11
        },
        {
          "output_type": "display_data",
          "data": {
            "image/png": "[encoded data removed]",
            "text/plain": [
              "<Figure size 432x288 with 1 Axes>"
            ]
          },
          "metadata": {
            "tags": [],
            "needs_background": "light"
          }
        }
      ]
    },
    {
      "cell_type": "markdown",
      "metadata": {
        "id": "CFzGf-4qeijm"
      },
      "source": [
        "# Key Question about using prior and post intervention data for counterfactual\n",
        "\n",
        "Can I simply eliminate the time values that correspond to the treatment and fit a model to the prior and post points with the remaining values?\n",
        "\n"
      ]
    },
    {
      "cell_type": "markdown",
      "metadata": {
        "id": "3IOamB0ffkPd"
      },
      "source": [
        "## Create data with gap for model"
      ]
    },
    {
      "cell_type": "code",
      "metadata": {
        "id": "j4ITyyYqe-ml"
      },
      "source": [
        "x_counter, y_counter = x[x['treatment'] != 1], y[x['treatment'] != 1]"
      ],
      "execution_count": 12,
      "outputs": []
    },
    {
      "cell_type": "code",
      "metadata": {
        "colab": {
          "base_uri": "https://localhost:8080/"
        },
        "id": "sg6lh6WSf_fn",
        "outputId": "2dfec0bb-2d84-4a27-e964-289036294738"
      },
      "source": [
        "x_counter, y_counter"
      ],
      "execution_count": 13,
      "outputs": [
        {
          "output_type": "execute_result",
          "data": {
            "text/plain": [
              "(    time  treatment  interaction\n",
              " 0    0.0        0.0          0.0\n",
              " 1    1.0        0.0          0.0\n",
              " 2    2.0        0.0          0.0\n",
              " 3    3.0        0.0          0.0\n",
              " 4    4.0        0.0          0.0\n",
              " 5    5.0        0.0          0.0\n",
              " 6    6.0        0.0          0.0\n",
              " 7    7.0        0.0          0.0\n",
              " 8    8.0        0.0          0.0\n",
              " 9    9.0        0.0          0.0\n",
              " 10  10.0        0.0          0.0\n",
              " 11  11.0        0.0          0.0\n",
              " 12  12.0        0.0          0.0\n",
              " 22  22.0        0.0          0.0\n",
              " 23  23.0        0.0          0.0\n",
              " 24  24.0        0.0          0.0\n",
              " 25  25.0        0.0          0.0\n",
              " 26  26.0        0.0          0.0\n",
              " 27  27.0        0.0          0.0\n",
              " 28  28.0        0.0          0.0,\n",
              " array([12.07912809, 22.08239214, 23.57439067, 13.49498384, 31.26809244,\n",
              "        23.78174351, 20.98752976, 31.67615066, 25.5805965 , 36.51226514,\n",
              "        33.44711039, 35.00096844, 31.00207712, 43.71645452, 46.47883356,\n",
              "        53.42068397, 55.07672144, 53.24045057, 69.04638671, 57.47605988]))"
            ]
          },
          "metadata": {
            "tags": []
          },
          "execution_count": 13
        }
      ]
    },
    {
      "cell_type": "code",
      "metadata": {
        "colab": {
          "base_uri": "https://localhost:8080/",
          "height": 282
        },
        "id": "h4VLM8vHfXGD",
        "outputId": "a550fa2c-92eb-4ef2-98eb-79a02bd93885"
      },
      "source": [
        "plt.scatter(x_counter['time'],y_counter)"
      ],
      "execution_count": 14,
      "outputs": [
        {
          "output_type": "execute_result",
          "data": {
            "text/plain": [
              "<matplotlib.collections.PathCollection at 0x7f9c90391610>"
            ]
          },
          "metadata": {
            "tags": []
          },
          "execution_count": 14
        },
        {
          "output_type": "display_data",
          "data": {
            "image/png": "[encoded data removed]",
            "text/plain": [
              "<Figure size 432x288 with 1 Axes>"
            ]
          },
          "metadata": {
            "tags": [],
            "needs_background": "light"
          }
        }
      ]
    },
    {
      "cell_type": "code",
      "metadata": {
        "colab": {
          "base_uri": "https://localhost:8080/"
        },
        "id": "yv-lRLlBfpYn",
        "outputId": "97bf6c1e-0cda-4951-b8c3-70444cbed0b1"
      },
      "source": [
        "# Create Counterfacutal\n",
        "x_counter = sm.add_constant(x_counter)\n",
        "counterfactual = sm.OLS(y_counter, x_counter).fit()\n",
        "print(counterfactual.summary2())"
      ],
      "execution_count": 15,
      "outputs": [
        {
          "output_type": "stream",
          "text": [
            "                 Results: Ordinary least squares\n",
            "=================================================================\n",
            "Model:              OLS              Adj. R-squared:     0.887   \n",
            "Dependent Variable: y                AIC:                125.2134\n",
            "Date:               2021-08-16 02:08 BIC:                127.2049\n",
            "No. Observations:   20               Log-Likelihood:     -60.607 \n",
            "Df Model:           1                F-statistic:        149.5   \n",
            "Df Residuals:       18               Prob (F-statistic): 3.73e-10\n",
            "R-squared:          0.893            Scale:              27.887  \n",
            "------------------------------------------------------------------\n",
            "               Coef.   Std.Err.     t     P>|t|    [0.025   0.975]\n",
            "------------------------------------------------------------------\n",
            "const         16.9702    1.9502   8.7019  0.0000  12.8730  21.0674\n",
            "time           1.5002    0.1227  12.2270  0.0000   1.2424   1.7579\n",
            "treatment      0.0000    0.0000      nan     nan   0.0000   0.0000\n",
            "interaction    0.0000    0.0000      nan     nan   0.0000   0.0000\n",
            "-----------------------------------------------------------------\n",
            "Omnibus:              1.234        Durbin-Watson:           2.541\n",
            "Prob(Omnibus):        0.539        Jarque-Bera (JB):        1.002\n",
            "Skew:                 0.506        Prob(JB):                0.606\n",
            "Kurtosis:             2.580        Condition No.:           inf  \n",
            "=================================================================\n",
            "* The condition number is large (inf). This might indicate\n",
            "strong multicollinearity or other numerical problems.\n"
          ],
          "name": "stdout"
        },
        {
          "output_type": "stream",
          "text": [
            "/usr/local/lib/python3.7/dist-packages/statsmodels/regression/linear_model.py:1755: RuntimeWarning: divide by zero encountered in double_scalars\n",
            "  return np.sqrt(eigvals[0]/eigvals[-1])\n",
            "/usr/local/lib/python3.7/dist-packages/statsmodels/base/model.py:1294: RuntimeWarning: invalid value encountered in true_divide\n",
            "  return self.params / self.bse\n"
          ],
          "name": "stderr"
        }
      ]
    },
    {
      "cell_type": "markdown",
      "metadata": {
        "id": "GMWsH4ATgXvG"
      },
      "source": [
        "## Predict remaining values"
      ]
    },
    {
      "cell_type": "code",
      "metadata": {
        "colab": {
          "base_uri": "https://localhost:8080/",
          "height": 337
        },
        "id": "i6O0ee09gi8d",
        "outputId": "1762b3ea-232e-40e9-a938-83925e416116"
      },
      "source": [
        "# Plot Counterfactual Prediction\n",
        "plt.figure(figsize=(12,5))\n",
        "plt.plot(counterfactual.predict(X2[0:26]))\n",
        "plt.plot(segmented_regression.predict(X3))\n",
        "plt.plot(y)\n",
        "plt.legend(['Counterfactual Prediction', 'Segmented Regression Prediction', 'True Values'])\n",
        "plt.scatter(x['time'],y)"
      ],
      "execution_count": 16,
      "outputs": [
        {
          "output_type": "execute_result",
          "data": {
            "text/plain": [
              "<matplotlib.collections.PathCollection at 0x7f9c902dd710>"
            ]
          },
          "metadata": {
            "tags": []
          },
          "execution_count": 16
        },
        {
          "output_type": "display_data",
          "data": {
            "image/png": "[encoded data removed]",
            "text/plain": [
              "<Figure size 864x360 with 1 Axes>"
            ]
          },
          "metadata": {
            "tags": [],
            "needs_background": "light"
          }
        }
      ]
    },
    {
      "cell_type": "markdown",
      "metadata": {
        "id": "PRv0e2ingy3m"
      },
      "source": [
        "## Much better results.\n",
        "\n",
        "It appears to lead to more accurate counterfactual evaluations.  Lets test it numerically."
      ]
    },
    {
      "cell_type": "code",
      "metadata": {
        "colab": {
          "base_uri": "https://localhost:8080/",
          "height": 282
        },
        "id": "PTsFBPq-gyWx",
        "outputId": "9fe2c748-69d1-41c1-bcaa-9d94f07b356f"
      },
      "source": [
        "lift =  y - counterfactual.predict(X2[0:29]) \n",
        "\n",
        "plt.plot(x['time'],lift)\n",
        "(lift * x['treatment']).sum()"
      ],
      "execution_count": 17,
      "outputs": [
        {
          "output_type": "execute_result",
          "data": {
            "text/plain": [
              "1061.5603340193163"
            ]
          },
          "metadata": {
            "tags": []
          },
          "execution_count": 17
        },
        {
          "output_type": "display_data",
          "data": {
            "image/png": "[encoded data removed]",
            "text/plain": [
              "<Figure size 432x288 with 1 Axes>"
            ]
          },
          "metadata": {
            "tags": [],
            "needs_background": "light"
          }
        }
      ]
    }
  ]
}