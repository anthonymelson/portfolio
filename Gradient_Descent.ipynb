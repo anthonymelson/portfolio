{
  "nbformat": 4,
  "nbformat_minor": 0,
  "metadata": {
    "colab": {
      "name": "Gradient Descent.ipynb",
      "provenance": [],
      "collapsed_sections": [],
      "authorship_tag": "ABX9TyPuZdhJRpeifOn9CWHM4w5E",
      "include_colab_link": true
    },
    "kernelspec": {
      "name": "python3",
      "display_name": "Python 3"
    }
  },
  "cells": [
    {
      "cell_type": "markdown",
      "metadata": {
        "id": "view-in-github",
        "colab_type": "text"
      },
      "source": [
        "<a href=\"https://colab.research.google.com/github/anthonymelson/portfolio/blob/master/Gradient_Descent.ipynb\" target=\"_parent\"><img src=\"https://colab.research.google.com/assets/colab-badge.svg\" alt=\"Open In Colab\"/></a>"
      ]
    },
    {
      "cell_type": "markdown",
      "metadata": {
        "id": "SIDrq4QS_owW",
        "colab_type": "text"
      },
      "source": [
        "# **Import Packages**"
      ]
    },
    {
      "cell_type": "code",
      "metadata": {
        "id": "fcXI-42p4va4",
        "colab_type": "code",
        "colab": {}
      },
      "source": [
        "import numpy as np\n",
        "from sklearn.datasets import make_regression\n",
        "import seaborn as sns; sns.set()\n",
        "import matplotlib.pyplot as plt\n",
        "import pandas as pd"
      ],
      "execution_count": 0,
      "outputs": []
    },
    {
      "cell_type": "markdown",
      "metadata": {
        "id": "PK8fezQr4x7J",
        "colab_type": "text"
      },
      "source": [
        "Breaking The gradient descent algorithm into its functional parts:\n",
        "\n",
        "1. Hypothesis: The best prediction of the target in each iteration.\n",
        "\n",
        "2. Loss Function: The difference between the predicted values (hypothesis) and the target values (actual values).\n",
        "\n",
        "3. Gradient: Finds direction of greatest descent.\n",
        "\n",
        "4. Theta: Vector of weights (one for each feature), which are updated using the gradient and learning rate in each iteration."
      ]
    },
    {
      "cell_type": "markdown",
      "metadata": {
        "id": "OPz91cRD8ID7",
        "colab_type": "text"
      },
      "source": [
        "# **Starting parameters**\n",
        "\n"
      ]
    },
    {
      "cell_type": "markdown",
      "metadata": {
        "id": "JdhmKaWxAFEt",
        "colab_type": "text"
      },
      "source": [
        "### **x, y** (Make Dataset)\n",
        "This dataset has 100 observations, 2 features (both informative), and a target.   Noise was added to make the task challenging, and random state was set to make this reproducible.  However, bias was left out for simplicity.\n",
        "\n",
        "X and y are features and target, respectively.  The third unpacked variable (coef) is a vector of the actual wieghts that generated the data."
      ]
    },
    {
      "cell_type": "code",
      "metadata": {
        "id": "Uo3IYjfpAK2A",
        "colab_type": "code",
        "colab": {}
      },
      "source": [
        "x, y, coef = make_regression(n_samples=100, n_features=1, n_informative=1, n_targets=1, bias=0, noise=2.5, coef=True, random_state=55)"
      ],
      "execution_count": 0,
      "outputs": []
    },
    {
      "cell_type": "markdown",
      "metadata": {
        "id": "FqLB2veWaNP8",
        "colab_type": "text"
      },
      "source": [
        "### Visualize Data"
      ]
    },
    {
      "cell_type": "code",
      "metadata": {
        "id": "QM2yW8VSQhnr",
        "colab_type": "code",
        "colab": {
          "base_uri": "https://localhost:8080/",
          "height": 285
        },
        "outputId": "ed1eed87-aab9-47b9-f993-145f596b5386"
      },
      "source": [
        "x_plot = pd.DataFrame(x, columns=['feature'])\n",
        "x_plot['target'] = y\n",
        "ax = sns.scatterplot(x=\"feature\", y=\"target\", data=x_plot)"
      ],
      "execution_count": 550,
      "outputs": [
        {
          "output_type": "display_data",
          "data": {
            "image/png": "[encoded data removed]",
            "text/plain": [
              "<Figure size 432x288 with 1 Axes>"
            ]
          },
          "metadata": {
            "tags": []
          }
        }
      ]
    },
    {
      "cell_type": "markdown",
      "metadata": {
        "id": "2mzqDzbFACou",
        "colab_type": "text"
      },
      "source": [
        "### **Alpha** (α): learning-rate, which controls to amount theta (wieghts) change in each iteration.\n"
      ]
    },
    {
      "cell_type": "code",
      "metadata": {
        "id": "-NWZLvj88NKW",
        "colab_type": "code",
        "colab": {}
      },
      "source": [
        "alpha = 0.0005"
      ],
      "execution_count": 0,
      "outputs": []
    },
    {
      "cell_type": "markdown",
      "metadata": {
        "id": "Ri3gj4EL-RFO",
        "colab_type": "text"
      },
      "source": [
        "### **Iterations**: how many iterations to continue minimizing loss"
      ]
    },
    {
      "cell_type": "code",
      "metadata": {
        "id": "MKE_RM---RdK",
        "colab_type": "code",
        "colab": {}
      },
      "source": [
        "num_iters = 10000"
      ],
      "execution_count": 0,
      "outputs": []
    },
    {
      "cell_type": "markdown",
      "metadata": {
        "id": "04EKrJZc-KUv",
        "colab_type": "text"
      },
      "source": [
        "### **m**: Number of observations in dataset,  **n**: Number of features in dataset "
      ]
    },
    {
      "cell_type": "code",
      "metadata": {
        "id": "BxCBlPSu-f5u",
        "colab_type": "code",
        "colab": {}
      },
      "source": [
        "m, n = np.shape(x)\n"
      ],
      "execution_count": 0,
      "outputs": []
    },
    {
      "cell_type": "markdown",
      "metadata": {
        "id": "SwSQDYlx-in3",
        "colab_type": "text"
      },
      "source": [
        "### **Theta**: Vector of length n, sets intial wieghts (guessed to start), often times initialized as all ones."
      ]
    },
    {
      "cell_type": "code",
      "metadata": {
        "id": "9iGO9ERr-k1g",
        "colab_type": "code",
        "colab": {}
      },
      "source": [
        "theta = np.ones(n)"
      ],
      "execution_count": 0,
      "outputs": []
    },
    {
      "cell_type": "markdown",
      "metadata": {
        "id": "YB7KU_Nn_C_h",
        "colab_type": "text"
      },
      "source": [
        "# **Functions**"
      ]
    },
    {
      "cell_type": "markdown",
      "metadata": {
        "id": "EFg0fe2d8uVa",
        "colab_type": "text"
      },
      "source": [
        "### **Hypothesis Function**\n",
        "\n",
        "This function returns the best prediction of the target in each iteration.  It comes in the form of a matrix of equal size to y (target vector)."
      ]
    },
    {
      "cell_type": "code",
      "metadata": {
        "id": "erDkiHEE81f4",
        "colab_type": "code",
        "colab": {}
      },
      "source": [
        "def hyp_fun(x, theta):\n",
        "    hypothesis = np.dot(x, theta)\n",
        "    return hypothesis"
      ],
      "execution_count": 0,
      "outputs": []
    },
    {
      "cell_type": "markdown",
      "metadata": {
        "id": "-r__vCvZ9K_E",
        "colab_type": "text"
      },
      "source": [
        "### **Loss Function**\n",
        "\n",
        "This function returns the difference between the best prediction in a given iteration and the actual values.  It comes in the form of a matrix of equal size to y (target vector).\n",
        "\n",
        "\n",
        "\n"
      ]
    },
    {
      "cell_type": "code",
      "metadata": {
        "id": "5pItzF4p85EL",
        "colab_type": "code",
        "colab": {}
      },
      "source": [
        "def loss_fun(hypothesis, y):\n",
        "    loss = hypothesis - y\n",
        "    return loss"
      ],
      "execution_count": 0,
      "outputs": []
    },
    {
      "cell_type": "markdown",
      "metadata": {
        "id": "FxbaCqMw9Vxm",
        "colab_type": "text"
      },
      "source": [
        "### **Gradient Function**\n",
        "\n",
        "This function returns the dot product of the feature vector x (transposed) and loss.  It comes in the form of a vector equal in length to the number of parameters (weights)."
      ]
    },
    {
      "cell_type": "code",
      "metadata": {
        "id": "PjbkmDCe9ESD",
        "colab_type": "code",
        "colab": {}
      },
      "source": [
        "def grad_fun(xTranspose, loss, m):\n",
        "    gradient = np.dot(xTranspose, loss) / m   \n",
        "    return gradient"
      ],
      "execution_count": 0,
      "outputs": []
    },
    {
      "cell_type": "markdown",
      "metadata": {
        "id": "XGL4Khgd9Z7Y",
        "colab_type": "text"
      },
      "source": [
        "### **Theta Function**\n",
        "This function returns the previous theta value minus the preset alpha value times the current gradient value.  It also comes in the form of a vector equal in length to the number of parameters (weights)."
      ]
    },
    {
      "cell_type": "code",
      "metadata": {
        "id": "b3biDZGn9E-f",
        "colab_type": "code",
        "colab": {}
      },
      "source": [
        "def theta_fun(theta, alpha, gradient):\n",
        "    theta = theta - alpha * gradient\n",
        "    return theta"
      ],
      "execution_count": 0,
      "outputs": []
    },
    {
      "cell_type": "markdown",
      "metadata": {
        "id": "5cAuYPflBWyJ",
        "colab_type": "text"
      },
      "source": [
        "### **Cost Function (MSE)**\n",
        "The loss function described earlier will be used to minimize loss iteratively.  This cost function will be used as a measure of how well the minimization effort went, and how \"good\" the model is after training."
      ]
    },
    {
      "cell_type": "code",
      "metadata": {
        "id": "I5TJDU0FBaq3",
        "colab_type": "code",
        "colab": {}
      },
      "source": [
        "def cost_fun(loss, m):\n",
        "    cost = np.sum(loss ** 2) / (2 * m)\n",
        "    return cost"
      ],
      "execution_count": 0,
      "outputs": []
    },
    {
      "cell_type": "markdown",
      "metadata": {
        "id": "nbdY54ID9qjg",
        "colab_type": "text"
      },
      "source": [
        "### **Gradient Descent Function**"
      ]
    },
    {
      "cell_type": "code",
      "metadata": {
        "id": "18GjGcTz9Gzc",
        "colab_type": "code",
        "colab": {}
      },
      "source": [
        "def gradientDescent(x, y, m, alpha, theta, num_iters):\n",
        "    xTranspose = x.transpose()\n",
        "    # Keep track of cost as its minimized to visualize later\n",
        "    cost_history = []\n",
        "    iters = []\n",
        "    for i in range(0, num_iters):\n",
        "        hypothesis = hyp_fun(x, theta)\n",
        "        loss = loss_fun(hypothesis, y)\n",
        "        gradient = grad_fun(xTranspose, loss, m)\n",
        "        theta = theta_fun(theta, alpha, gradient)\n",
        "        cost = cost_fun(loss, m)\n",
        "        cost_history.append(cost)\n",
        "        iters.append(i)\n",
        "    return theta, cost, cost_history, iters"
      ],
      "execution_count": 0,
      "outputs": []
    },
    {
      "cell_type": "code",
      "metadata": {
        "id": "Vj_H3Bh6BGla",
        "colab_type": "code",
        "colab": {}
      },
      "source": [
        "theta, cost, cost_history, iters = gradientDescent(x, y, m, alpha, theta, num_iters)"
      ],
      "execution_count": 0,
      "outputs": []
    },
    {
      "cell_type": "markdown",
      "metadata": {
        "id": "QnWAmA9VJBih",
        "colab_type": "text"
      },
      "source": [
        "### **Compare Estimated Weights to the Actual Weights**"
      ]
    },
    {
      "cell_type": "code",
      "metadata": {
        "id": "qPqFgWjvCzer",
        "colab_type": "code",
        "colab": {
          "base_uri": "https://localhost:8080/",
          "height": 68
        },
        "outputId": "1ad0ef41-d1ae-4a95-f86f-6bfe75c63c23"
      },
      "source": [
        "print(f\"Actual Weights: {coef}\")\n",
        "print(f\"Estimated Weights: {theta[0]}\")\n",
        "print(f\"Cost(MSE): {cost}\")"
      ],
      "execution_count": 562,
      "outputs": [
        {
          "output_type": "stream",
          "text": [
            "Actual Weights: 7.646551867205353\n",
            "Estimated Weights: 7.9004946819342505\n",
            "Cost(MSE): 4.014097305610209\n"
          ],
          "name": "stdout"
        }
      ]
    },
    {
      "cell_type": "markdown",
      "metadata": {
        "id": "cs7JqN8dSWTB",
        "colab_type": "text"
      },
      "source": [
        "# **Plot Results**"
      ]
    },
    {
      "cell_type": "markdown",
      "metadata": {
        "id": "rPNE11WPqjhI",
        "colab_type": "text"
      },
      "source": [
        "### **Fit Line with Coefficients**"
      ]
    },
    {
      "cell_type": "code",
      "metadata": {
        "id": "bKT5y8vSXwyP",
        "colab_type": "code",
        "colab": {
          "base_uri": "https://localhost:8080/",
          "height": 268
        },
        "outputId": "447c21f9-5444-41fb-e945-1bd4a7bbc69e"
      },
      "source": [
        "# Get values\n",
        "feature = x_plot.iloc[:,0]\n",
        "target = x_plot.iloc[:,1]\n",
        "spargs = {'x': feature, 'y': target, 'color': 'red'} \n",
        "\n",
        "# Get coeficients (create line)\n",
        "y = x_plot.iloc[:, 0]\n",
        "X = x_plot.iloc[:, 0]\n",
        "p = theta\n",
        "coef = p[0]\n",
        "line = coef * X\n",
        "\n",
        "# Create scatter plot with line and show\n",
        "plt.scatter(**spargs)\n",
        "plt.plot(X, line, 'b')\n",
        "plt.grid(True)\n",
        "plt.show()"
      ],
      "execution_count": 563,
      "outputs": [
        {
          "output_type": "display_data",
          "data": {
            "image/png": "[encoded data removed]",
            "text/plain": [
              "<Figure size 432x288 with 1 Axes>"
            ]
          },
          "metadata": {
            "tags": []
          }
        }
      ]
    },
    {
      "cell_type": "markdown",
      "metadata": {
        "id": "qey3GL_tqaqz",
        "colab_type": "text"
      },
      "source": [
        "### **Plot Cost against Iterations**"
      ]
    },
    {
      "cell_type": "code",
      "metadata": {
        "id": "a5v52iPpmnHk",
        "colab_type": "code",
        "colab": {
          "base_uri": "https://localhost:8080/",
          "height": 285
        },
        "outputId": "9e12a62c-eb01-47d5-d849-892d4a9394da"
      },
      "source": [
        "cost_plot = pd.DataFrame(iters[0::200], columns=['Iterations'])\n",
        "cost_plot['Cost'] = cost_history[0::200]\n",
        "ax = sns.scatterplot(x=\"Iterations\", y=\"Cost\", data=cost_plot)"
      ],
      "execution_count": 564,
      "outputs": [
        {
          "output_type": "display_data",
          "data": {
            "image/png": "[encoded data removed]",
            "text/plain": [
              "<Figure size 432x288 with 1 Axes>"
            ]
          },
          "metadata": {
            "tags": []
          }
        }
      ]
    }
  ]
}