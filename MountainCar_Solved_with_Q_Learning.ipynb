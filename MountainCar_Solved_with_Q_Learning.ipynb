{
  "nbformat": 4,
  "nbformat_minor": 0,
  "metadata": {
    "colab": {
      "name": "MountainCar Solved with Q-Learning.ipynb",
      "provenance": [],
      "collapsed_sections": [],
      "authorship_tag": "ABX9TyMELVoHNpFc0kMz8xeDgqwo",
      "include_colab_link": true
    },
    "kernelspec": {
      "name": "python3",
      "display_name": "Python 3"
    },
    "accelerator": "GPU"
  },
  "cells": [
    {
      "cell_type": "markdown",
      "metadata": {
        "id": "view-in-github",
        "colab_type": "text"
      },
      "source": [
        "<a href=\"https://colab.research.google.com/github/anthonymelson/portfolio/blob/master/MountainCar_Solved_with_Q_Learning.ipynb\" target=\"_parent\"><img src=\"https://colab.research.google.com/assets/colab-badge.svg\" alt=\"Open In Colab\"/></a>"
      ]
    },
    {
      "cell_type": "markdown",
      "metadata": {
        "id": "Hd6POfDZp4RM",
        "colab_type": "text"
      },
      "source": [
        "#MountainCar Solved with Q-Learning"
      ]
    },
    {
      "cell_type": "markdown",
      "metadata": {
        "id": "0kbYb7G8lx4V",
        "colab_type": "text"
      },
      "source": [
        "## Import Packages"
      ]
    },
    {
      "cell_type": "code",
      "metadata": {
        "id": "R-txDIiCkIlp",
        "colab_type": "code",
        "colab": {
          "base_uri": "https://localhost:8080/",
          "height": 72
        },
        "outputId": "abaf081f-95c9-4af0-a0fc-66f70d615cea"
      },
      "source": [
        "import gym\n",
        "import numpy as np\n",
        "import matplotlib.pyplot as plt\n",
        "import pandas as pd\n",
        "import seaborn as sns\n",
        "\n",
        "#Set Style\n",
        "plt.style.use('fivethirtyeight')"
      ],
      "execution_count": 1,
      "outputs": [
        {
          "output_type": "stream",
          "text": [
            "/usr/local/lib/python3.6/dist-packages/statsmodels/tools/_testing.py:19: FutureWarning: pandas.util.testing is deprecated. Use the functions in the public API at pandas.testing instead.\n",
            "  import pandas.util.testing as tm\n"
          ],
          "name": "stderr"
        }
      ]
    },
    {
      "cell_type": "markdown",
      "metadata": {
        "id": "dKpv99xhl5LI",
        "colab_type": "text"
      },
      "source": [
        "## Initialize Environment"
      ]
    },
    {
      "cell_type": "code",
      "metadata": {
        "id": "_GWa6tahlgWT",
        "colab_type": "code",
        "colab": {
          "base_uri": "https://localhost:8080/",
          "height": 35
        },
        "outputId": "61783057-2cce-418c-dd2e-3650ba80defb"
      },
      "source": [
        "env = gym.make(\"MountainCar-v0\")\n",
        "env.reset()"
      ],
      "execution_count": 2,
      "outputs": [
        {
          "output_type": "execute_result",
          "data": {
            "text/plain": [
              "array([-0.59941208,  0.        ])"
            ]
          },
          "metadata": {
            "tags": []
          },
          "execution_count": 2
        }
      ]
    },
    {
      "cell_type": "markdown",
      "metadata": {
        "id": "W7BNn-SEl-pi",
        "colab_type": "text"
      },
      "source": [
        "### Set Hyper-Parameters\n",
        "\n",
        "1. **Learning Rate**:  Determines how much weight to put on \"new\" information.\n",
        "2. **Discount**: The percentage that future rewards should be valued at when compared to current rewards.  0.95 means that 95 now = 100 in the future.\n",
        "3. **Epsilon**: Controls how random the agents behavior will be.  0.2 means the agent will act randomly 20% of the time.\n",
        "4. **Episodes**: The number of times the agent will play the game.\n",
        "\n",
        "Below, a seed is set for the environment and for other stochastic processes, both of which are needed for \"reproducibility\"."
      ]
    },
    {
      "cell_type": "code",
      "metadata": {
        "id": "52-IfE6GkSAj",
        "colab_type": "code",
        "colab": {}
      },
      "source": [
        "#rate of change of loss function\n",
        "learning_rate = 0.2\n",
        "#future value discount rate (greediness)\n",
        "discount = 0.95\n",
        "#amount of randomness\n",
        "epsilon = 0.2\n",
        "#number of episodes\n",
        "episodes = 5000\n",
        "\n",
        "env.seed(88)\n",
        "np.random.seed(152)"
      ],
      "execution_count": 3,
      "outputs": []
    },
    {
      "cell_type": "markdown",
      "metadata": {
        "id": "DHnHBtlAn-W3",
        "colab_type": "text"
      },
      "source": [
        "### Exploration Policy/Schedule\n",
        "\n",
        "Epsilon decay is a process where the epsilon value is lowered as the number of episodes increases.  Below, the epsilon value is set to be lowered linearily, and terminate after half the total episodes to be run have passed.  \n",
        "\n",
        "However, the process begins at the 250th episode, until which time, the epsilon remains at its initial value (this is a step-wise addition to the linear policy, and works well on this problem because the reward system gives -1 every step of each episode and 0 if the goal is reached, meaning the changes are almost arbitrary until their is a win, which takes (on average) several hundred trials."
      ]
    },
    {
      "cell_type": "code",
      "metadata": {
        "id": "EwWp6-ZTkVgP",
        "colab_type": "code",
        "colab": {}
      },
      "source": [
        "start_epsilon_decaying = 250\n",
        "end_epsilon_decaying = episodes // 2\n",
        "epsilon_decay_value = epsilon/(end_epsilon_decaying - start_epsilon_decaying)"
      ],
      "execution_count": 4,
      "outputs": []
    },
    {
      "cell_type": "markdown",
      "metadata": {
        "id": "ZGg75UGLpMki",
        "colab_type": "text"
      },
      "source": [
        "### Discretization of State Space\n",
        "\n",
        "In the MountainCar-v0 environment, the state space is Box(2), meaning their are two coninuous state variables (position and velocity).  Since the Q-Table cannot be infinitely large, these spaces must be discretized.\n",
        "\n",
        "Below the position space is split into 8 bins, and the velocity space into 6 bins.  These should be considered hyperparameters and can have a large impact on the outcome of the learning process.\n",
        "\n",
        "After that, a function is defined to \"discretize\" the new state spaces after each step of the game."
      ]
    },
    {
      "cell_type": "code",
      "metadata": {
        "id": "vHGa9hO5kdZm",
        "colab_type": "code",
        "colab": {}
      },
      "source": [
        "#discretize observation space (os)\n",
        "discrete_state_size = [8, 6]\n",
        "discrete_os_win_size = (env.observation_space.high - env.observation_space.low)/ discrete_state_size\n",
        "\n",
        "def get_discrete_state(state):\n",
        "    discrete_state = (state - env.observation_space.low)/discrete_os_win_size\n",
        "    return tuple((discrete_state.astype(np.int)))"
      ],
      "execution_count": 5,
      "outputs": []
    },
    {
      "cell_type": "markdown",
      "metadata": {
        "id": "b7VvhYc7qNjD",
        "colab_type": "text"
      },
      "source": [
        "### Initialize Q-Table\n",
        "\n",
        "The Q-Table is created as a uniform distribution between -2 and 0.  This is selected intuitively, as the rewards in the game are always -1 (except once per round at a maximum where it can be zero), meaning that the likely range for values will be between zero and one.\n",
        "\n",
        "Furthermore, adding this variation help for the system to capitalize on new information early in the learning process, and ultimatly speeds up the backpropagation of values.  This is specifically important in MountainCar because the rewards are \"delayed\", making the backpropogation of values difficult."
      ]
    },
    {
      "cell_type": "code",
      "metadata": {
        "id": "Mfr1Ku8Skg7a",
        "colab_type": "code",
        "colab": {
          "base_uri": "https://localhost:8080/",
          "height": 35
        },
        "outputId": "8eb1d527-59b0-481f-9fd2-bc22dc2fbb3f"
      },
      "source": [
        "q_table = np.random.uniform(low=-2, high=0, size=discrete_state_size + [env.action_space.n])\n",
        "print(q_table.shape)"
      ],
      "execution_count": 6,
      "outputs": [
        {
          "output_type": "stream",
          "text": [
            "(8, 6, 3)\n"
          ],
          "name": "stdout"
        }
      ]
    },
    {
      "cell_type": "markdown",
      "metadata": {
        "id": "l67JECHirFq_",
        "colab_type": "text"
      },
      "source": [
        "### The Q-Learning Algorithm and it's Implementation\n",
        "Basic Design\n",
        "1. Loop through the number of episodes\n",
        "2. Reset the environment before every episode\n",
        "3. Loop through the steps of each episode\n",
        "\n",
        "In Each Episode\n",
        "1. Decide on an action either by the current maximum Q-value for the current state, or at random at a rate equal to the current epsilon value\n",
        "2. Take that action as a step, and unpack the new state, reward, and whether the episode is finished (\"done\")\n",
        "3. Get the new discrete states\n",
        "4. Update the Q-Table with the new information\n",
        "5. Update the state with the new state\n",
        "6. Decay the epsilon value (update it)\n",
        "\n",
        "Throughout this process, many things can be counted.  Here, wins, regret, and the epsilon value is being tracked for later analysis."
      ]
    },
    {
      "cell_type": "code",
      "metadata": {
        "id": "relZcm99R_zu",
        "colab_type": "code",
        "colab": {}
      },
      "source": [
        "epsilon_track = []\n",
        "regret = []\n",
        "win_count = []\n",
        "wins = 0\n",
        "for episode in range(episodes):\n",
        " \n",
        "    regret_loc = []\n",
        "    # Reset environment\n",
        "    discrete_state = get_discrete_state(env.reset())\n",
        "    done = False\n",
        "\n",
        "    # Determine level of randomness\n",
        "    while not done:\n",
        "      \n",
        "        #Decide on Action\n",
        "        if np.random.random() > epsilon:\n",
        "            action = np.argmax(q_table[discrete_state])\n",
        "        else:\n",
        "            action = np.random.randint(0, env.action_space.n)\n",
        "\n",
        "        # Take Action\n",
        "        new_state, reward, done, _ = env.step(action)\n",
        "\n",
        "        # Get new discrete state space\n",
        "        new_discrete_state = get_discrete_state(new_state)\n",
        "\n",
        "        # Count rewards as negative\n",
        "        regret_loc.append(-reward)\n",
        "\n",
        "\n",
        "        # Get new maximum future value\n",
        "        if not done:\n",
        "\n",
        "            max_future_q = np.max(q_table[new_discrete_state])\n",
        "            current_q = q_table[discrete_state + (action, )]\n",
        "            \n",
        "            \n",
        "            # Q-learning function\n",
        "            new_q = (1-learning_rate) * current_q + learning_rate * (reward + discount * max_future_q)\n",
        "            q_table[discrete_state + (action, )] = new_q\n",
        "\n",
        "        # If Game is Over    \n",
        "        elif new_state[0] >= env.goal_position:\n",
        "            q_table[discrete_state + (action,)] = 0\n",
        "            wins = wins + 1       \n",
        "        \n",
        "        # Update the States\n",
        "        discrete_state = new_discrete_state\n",
        "\n",
        "    # Count By Episode    \n",
        "    win_count.append(wins)\n",
        "    regret.append(sum(regret_loc))\n",
        "    epsilon_track.append(epsilon)\n",
        "    env.close()\n",
        "\n",
        "    #Control exploration\n",
        "    if end_epsilon_decaying >= episode >= start_epsilon_decaying:\n",
        "        epsilon -= epsilon_decay_value\n",
        "        "
      ],
      "execution_count": 7,
      "outputs": []
    },
    {
      "cell_type": "markdown",
      "metadata": {
        "id": "baEf5uKhswRZ",
        "colab_type": "text"
      },
      "source": [
        "### Plot Regret by Episode\n",
        "\n",
        "Shows how much lost opportunity there was in each episode, and count total regret.  In this case, regret is being taken as any loss, despite the fact that the game cannot be solved in 0 moves.  This is desirable as their is not a known optimal policy to use as a benchmark, and this way of measuring the regret will work fine to compare this algorithm to another.\n",
        "\n",
        "However, we could also compare this algorithm to a random action version to determine how \"skilled\" the model is (though it is not done here).\n",
        "\n",
        "Takeaways:\n",
        "1. After ~3,000 episodes, the agent had found a highly optimal policy, and could reach the goal every time it played (though that is not certain for all future trials, it did so almost two thousand times in a row).\n",
        "\n",
        "2. Regret was very high for ~3,000 episodes, which could have been much shorter, leaving room for improvement."
      ]
    },
    {
      "cell_type": "code",
      "metadata": {
        "id": "lvfYew76SDQ4",
        "colab_type": "code",
        "colab": {
          "base_uri": "https://localhost:8080/",
          "height": 313
        },
        "outputId": "96991056-b092-4e03-f616-fff08b3aeda4"
      },
      "source": [
        "fig, ax = plt.subplots()\n",
        "#fig.set_size_inches(12, 8)\n",
        "plt.xlabel('Episode')\n",
        "plt.ylabel('Regret')\n",
        "plt.title(\"Regret By Episode for Q-Learner in Mountain Car Environment\")\n",
        "splot = pd.DataFrame(regret,list(range(0, len(regret))), [\"Agent\"])\n",
        "#splot['Epsilon'] = epsilon_track\n",
        "#splot[\"Learning Rate\"] = lr_count\n",
        "sns.lineplot(ax=ax, data = splot)\n"
      ],
      "execution_count": 20,
      "outputs": [
        {
          "output_type": "execute_result",
          "data": {
            "text/plain": [
              "<matplotlib.axes._subplots.AxesSubplot at 0x7fcb47a1e978>"
            ]
          },
          "metadata": {
            "tags": []
          },
          "execution_count": 20
        },
        {
          "output_type": "display_data",
          "data": {
            "image/png": "[encoded data removed]",
            "text/plain": [
              "<Figure size 432x288 with 1 Axes>"
            ]
          },
          "metadata": {
            "tags": [],
            "needs_background": "light"
          }
        }
      ]
    },
    {
      "cell_type": "code",
      "metadata": {
        "id": "P33m4mlOqsZl",
        "colab_type": "code",
        "colab": {
          "base_uri": "https://localhost:8080/",
          "height": 52
        },
        "outputId": "e77f88a1-74a9-4876-b14c-423c8c2bef06"
      },
      "source": [
        "print(\"Total Regret Over 5000 Episodes: \", sum(regret))\n",
        "print(\"Average Regret Per Episode:\", sum(regret)/5000)"
      ],
      "execution_count": 21,
      "outputs": [
        {
          "output_type": "stream",
          "text": [
            "Total Regret Over 5000 Episodes:  877633.0\n",
            "Average Regret Per Episode: 175.5266\n"
          ],
          "name": "stdout"
        }
      ]
    },
    {
      "cell_type": "markdown",
      "metadata": {
        "id": "XwbioMaStrJC",
        "colab_type": "text"
      },
      "source": [
        "### Plot Wins vs Epsilon\n",
        "\n",
        "The plot only shows the first 3000 episodes, as those after that were almost all wins, which makes the relationship clearer.  The results are interesting because they show how well the agent performed as it explored less and exploited more.  It is clear that the agent was not performing as well when it was exploring more (which is to be expected)."
      ]
    },
    {
      "cell_type": "code",
      "metadata": {
        "id": "CI5j2j6kb4uA",
        "colab_type": "code",
        "colab": {
          "base_uri": "https://localhost:8080/",
          "height": 52
        },
        "outputId": "2782bf0b-3efb-443a-9dfb-0546a1afed64"
      },
      "source": [
        "scaled_wins = [win/1000 for win in win_count]\n",
        "print(len(scaled_wins[0:3600]))\n",
        "len(list(range(0, 3600)))"
      ],
      "execution_count": 18,
      "outputs": [
        {
          "output_type": "stream",
          "text": [
            "3600\n"
          ],
          "name": "stdout"
        },
        {
          "output_type": "execute_result",
          "data": {
            "text/plain": [
              "3600"
            ]
          },
          "metadata": {
            "tags": []
          },
          "execution_count": 18
        }
      ]
    },
    {
      "cell_type": "code",
      "metadata": {
        "id": "AVFXZIvmYfoQ",
        "colab_type": "code",
        "colab": {
          "base_uri": "https://localhost:8080/",
          "height": 313
        },
        "outputId": "1fd7fa54-a250-4dd1-ae8e-92ba6467cafa"
      },
      "source": [
        "fig, ax = plt.subplots()\n",
        "#fig.set_size_inches(12, 8)\n",
        "plt.xlabel('Episode')\n",
        "plt.ylabel('Value')\n",
        "plt.title(\"Visualizing the Relationship Between Epsilon (Randomness) and Wins\")\n",
        "splot = pd.DataFrame(scaled_wins[0:3000],list(range(0, 3000)), ['Wins/1000'])\n",
        "splot['Epsilon'] = epsilon_track[0:3000]\n",
        "sns.lineplot(ax=ax, data = splot)"
      ],
      "execution_count": 19,
      "outputs": [
        {
          "output_type": "execute_result",
          "data": {
            "text/plain": [
              "<matplotlib.axes._subplots.AxesSubplot at 0x7fcb47a2c2b0>"
            ]
          },
          "metadata": {
            "tags": []
          },
          "execution_count": 19
        },
        {
          "output_type": "display_data",
          "data": {
            "image/png": "[encoded data removed]",
            "text/plain": [
              "<Figure size 432x288 with 1 Axes>"
            ]
          },
          "metadata": {
            "tags": [],
            "needs_background": "light"
          }
        }
      ]
    }
  ]
}